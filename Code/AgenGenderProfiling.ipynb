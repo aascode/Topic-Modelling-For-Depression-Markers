{
  "nbformat": 4,
  "nbformat_minor": 0,
  "metadata": {
    "colab": {
      "name": "AgenGenderProfiling.ipynb",
      "provenance": [],
      "collapsed_sections": [],
      "include_colab_link": true
    },
    "kernelspec": {
      "name": "python3",
      "display_name": "Python 3"
    }
  },
  "cells": [
    {
      "cell_type": "markdown",
      "metadata": {
        "id": "view-in-github",
        "colab_type": "text"
      },
      "source": [
        "<a href=\"https://colab.research.google.com/github/abhilashhn1993/depression-assessment-on-twitter/blob/Dragon/Code/AgenGenderProfiling.ipynb\" target=\"_parent\"><img src=\"https://colab.research.google.com/assets/colab-badge.svg\" alt=\"Open In Colab\"/></a>"
      ]
    },
    {
      "cell_type": "code",
      "metadata": {
        "id": "iu_-0ceXVDAS",
        "colab_type": "code",
        "colab": {}
      },
      "source": [
        "!pip install tweepy\n",
        "!pip install --upgrade azure-cognitiveservices-vision-face"
      ],
      "execution_count": 0,
      "outputs": []
    },
    {
      "cell_type": "code",
      "metadata": {
        "id": "W92hyDaTVI-B",
        "colab_type": "code",
        "colab": {}
      },
      "source": [
        "import tweepy\n",
        "import pandas as pd\n",
        "import numpy as np\n",
        "import asyncio\n",
        "import io\n",
        "import glob\n",
        "import os\n",
        "import sys\n",
        "import time\n",
        "import uuid\n",
        "import requests\n",
        "from urllib.parse import urlparse\n",
        "from io import BytesIO\n",
        "from PIL import Image, ImageDraw\n",
        "from azure.cognitiveservices.vision.face import FaceClient\n",
        "from msrest.authentication import CognitiveServicesCredentials\n",
        "from azure.cognitiveservices.vision.face.models import TrainingStatusType, Person, SnapshotObjectType, OperationStatusType\n",
        "from PIL import Image\n",
        "import requests\n",
        "from io import BytesIO\n",
        "import pandas as pd"
      ],
      "execution_count": 0,
      "outputs": []
    },
    {
      "cell_type": "code",
      "metadata": {
        "id": "biAzMILkVLES",
        "colab_type": "code",
        "colab": {}
      },
      "source": [
        "twitter_keys = {\n",
        "        'consumer_key':        '',\n",
        "        'consumer_secret':     '',\n",
        "        'access_token_key':    '',\n",
        "        'access_token_secret': ''\n",
        "    }"
      ],
      "execution_count": 0,
      "outputs": []
    },
    {
      "cell_type": "code",
      "metadata": {
        "id": "Oinyj8w_VMgX",
        "colab_type": "code",
        "colab": {}
      },
      "source": [
        "auth = tweepy.OAuthHandler(twitter_keys['consumer_key'], twitter_keys['consumer_secret'])\n",
        "auth.set_access_token(twitter_keys['access_token_key'], twitter_keys['access_token_secret'])\n",
        "api = tweepy.API(auth)"
      ],
      "execution_count": 0,
      "outputs": []
    },
    {
      "cell_type": "code",
      "metadata": {
        "id": "w_FDc2IPFbf4",
        "colab_type": "code",
        "colab": {}
      },
      "source": [
        "face_client = FaceClient('https://facedetecttweet.cognitiveservices.azure.com/', CognitiveServicesCredentials(''))"
      ],
      "execution_count": 0,
      "outputs": []
    },
    {
      "cell_type": "code",
      "metadata": {
        "id": "7wkURkSzEy0e",
        "colab_type": "code",
        "outputId": "ae7c76b1-da5c-4fda-b45e-b685220151e0",
        "colab": {
          "resources": {
            "http://localhost:8080/nbextensions/google.colab/files.js": {
              "data": "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",
              "ok": true,
              "headers": [
                [
                  "content-type",
                  "application/javascript"
                ]
              ],
              "status": 200,
              "status_text": ""
            }
          },
          "base_uri": "https://localhost:8080/",
          "height": 75
        }
      },
      "source": [
        "from google.colab import files\n",
        "uploaded = files.upload()"
      ],
      "execution_count": 13,
      "outputs": [
        {
          "output_type": "display_data",
          "data": {
            "text/html": [
              "\n",
              "     <input type=\"file\" id=\"files-0ae76da7-acbc-4900-b977-99b47cf4072b\" name=\"files[]\" multiple disabled />\n",
              "     <output id=\"result-0ae76da7-acbc-4900-b977-99b47cf4072b\">\n",
              "      Upload widget is only available when the cell has been executed in the\n",
              "      current browser session. Please rerun this cell to enable.\n",
              "      </output>\n",
              "      <script src=\"/nbextensions/google.colab/files.js\"></script> "
            ],
            "text/plain": [
              "<IPython.core.display.HTML object>"
            ]
          },
          "metadata": {
            "tags": []
          }
        },
        {
          "output_type": "stream",
          "text": [
            "Saving random_tweets.xlsx to random_tweets.xlsx\n"
          ],
          "name": "stdout"
        }
      ]
    },
    {
      "cell_type": "code",
      "metadata": {
        "id": "e9CsravSE_n6",
        "colab_type": "code",
        "colab": {}
      },
      "source": [
        "import io\n",
        "df = pd.read_excel(io.BytesIO(uploaded['random_tweets.xlsx']))"
      ],
      "execution_count": 0,
      "outputs": []
    },
    {
      "cell_type": "code",
      "metadata": {
        "id": "0imFZDlPFJ5a",
        "colab_type": "code",
        "outputId": "5a003379-8ec9-413a-e817-c33ac7ea303b",
        "colab": {
          "base_uri": "https://localhost:8080/",
          "height": 198
        }
      },
      "source": [
        "df.head()"
      ],
      "execution_count": 15,
      "outputs": [
        {
          "output_type": "execute_result",
          "data": {
            "text/html": [
              "<div>\n",
              "<style scoped>\n",
              "    .dataframe tbody tr th:only-of-type {\n",
              "        vertical-align: middle;\n",
              "    }\n",
              "\n",
              "    .dataframe tbody tr th {\n",
              "        vertical-align: top;\n",
              "    }\n",
              "\n",
              "    .dataframe thead th {\n",
              "        text-align: right;\n",
              "    }\n",
              "</style>\n",
              "<table border=\"1\" class=\"dataframe\">\n",
              "  <thead>\n",
              "    <tr style=\"text-align: right;\">\n",
              "      <th></th>\n",
              "      <th>Tweets</th>\n",
              "      <th>Twitter_handle</th>\n",
              "      <th>date</th>\n",
              "    </tr>\n",
              "  </thead>\n",
              "  <tbody>\n",
              "    <tr>\n",
              "      <th>0</th>\n",
              "      <td>Idiosyncratic turn-ons are my favorite kind</td>\n",
              "      <td>NiaBolde1</td>\n",
              "      <td>2019-11-29 23:59:59+00:00</td>\n",
              "    </tr>\n",
              "    <tr>\n",
              "      <th>1</th>\n",
              "      <td>I've always loved the kind way you treat both ...</td>\n",
              "      <td>GabriellaWest</td>\n",
              "      <td>2019-11-29 23:59:59+00:00</td>\n",
              "    </tr>\n",
              "    <tr>\n",
              "      <th>2</th>\n",
              "      <td>The flavors in this recipe cannot be beat! #ve...</td>\n",
              "      <td>HoneybunchHunts</td>\n",
              "      <td>2019-11-29 23:59:59+00:00</td>\n",
              "    </tr>\n",
              "    <tr>\n",
              "      <th>3</th>\n",
              "      <td>LIVE w/The SQUAD on CALL OF DUTY: MODERN WARFARE</td>\n",
              "      <td>Johnny_Ace_</td>\n",
              "      <td>2019-11-29 23:59:59+00:00</td>\n",
              "    </tr>\n",
              "    <tr>\n",
              "      <th>4</th>\n",
              "      <td>Buzzin Super Bounty! New crypto-rewards from l...</td>\n",
              "      <td>febri_rinaldi</td>\n",
              "      <td>2019-11-29 23:59:59+00:00</td>\n",
              "    </tr>\n",
              "  </tbody>\n",
              "</table>\n",
              "</div>"
            ],
            "text/plain": [
              "                                              Tweets  ...                       date\n",
              "0       Idiosyncratic turn-ons are my favorite kind   ...  2019-11-29 23:59:59+00:00\n",
              "1  I've always loved the kind way you treat both ...  ...  2019-11-29 23:59:59+00:00\n",
              "2  The flavors in this recipe cannot be beat! #ve...  ...  2019-11-29 23:59:59+00:00\n",
              "3   LIVE w/The SQUAD on CALL OF DUTY: MODERN WARFARE  ...  2019-11-29 23:59:59+00:00\n",
              "4  Buzzin Super Bounty! New crypto-rewards from l...  ...  2019-11-29 23:59:59+00:00\n",
              "\n",
              "[5 rows x 3 columns]"
            ]
          },
          "metadata": {
            "tags": []
          },
          "execution_count": 15
        }
      ]
    },
    {
      "cell_type": "code",
      "metadata": {
        "id": "-FqBkoMvFNT6",
        "colab_type": "code",
        "colab": {
          "base_uri": "https://localhost:8080/",
          "height": 55
        },
        "outputId": "1b852614-5f08-4df7-cb02-20b669eebc99"
      },
      "source": [
        "user_list = []\n",
        "for user in df['Twitter_handle'][0:250].dropna():\n",
        "    user_list.append(user)\n",
        "print(user_list)"
      ],
      "execution_count": 19,
      "outputs": [
        {
          "output_type": "stream",
          "text": [
            "['NiaBolde1', 'GabriellaWest', 'HoneybunchHunts', 'Johnny_Ace_', 'febri_rinaldi', 'BerryVibesTV', 'RCDRadioNP', 'Chelseastyle29', 'Praise87Radio', 'Rudelynnngmail1', 'shintlove', 'fatmangiggles', 'buswellgoddess', 'tushwush', 'nic_mclean', 'RebelllionReQ', 'jesusmanriquez4', 'kaceysharon', 'aubganjagoddess', 'BigStan35', 'featseesaw', 'RyanMinnehan1', 'OscarPe10714818', 'pnicholas79', 'bvdz97', 'stay_goldn', 'simplyislamsg', 'lujaaaaaain', 'EveyHammond19', 'Bhusorlah_xx', 'rafael2212_', 'Petemoss42', 'eugeneanim', 'Mister_Maharaj', 'heligukguuk', '05audreyy', 'Diego_wny', 'hayxsmith', 'Addy44608983', 'shesa_angel', 'castlebravo92', 'robbhurstCPA', 'CryptoPressNews', '1LuisFigueroa', 'UtahGeohaz', 'NewAgeKiing', 'DragonQuestWes', 'RRamsaystreet', 'MBlu3berry', 'debsugar', 'petaljongho', 'RicardoP_64', 'beaniebarbie', 'seriousserb', '_Rachhhhhhhh', 'L2_Lightning', 'namumikro', 'TheTennisstorm', 'fleamonttpotter', 'FCPEuro', 'MsMouri', 'DaveCapdevielle', '_caide_heiser1', 'ChristlStringer', 'reneseulgi', 'TherapyExamPrep', 'Zio_QQr', 'susansusyb', 'royslions', 'JonesyPaper75', 'BernfriedI', 'obihsukok', 'YerisTrotski', '_ksalome', 'yesmynameisjess', 'MarkGrossman', 'TheRealARP_', 'MPCGUCCI', 'SKellarHolloway', 'cbwatts1138', 'Zinn68', 'Dagg313', 'kyleldanner', 'HWivesStan', 'Jace3611', 'Devinefeminine5', 'yoyobro27YT', 'lovetotravel960', 'Tizzle1x', 'Dope_Evolution', 'JudeNorman10', 'Minuki_Naruhodo', 'urbanpitch', 'ICoolWeste', 'michae_lmoxey', 'ActiveState', 'peskymee', 'CBVM132', 'madipowell1', 'okmarig', 'TarsilaCiborgue', 'thtguynamedandy', '__xbarbie', '_teeze', 'brendanrickett1', 'JayHarkless', 'JMHillebrand', 'thehosspower', '_carmeme', 'Katemac37911759', 'loserkyoong', '_thinblacklines', 'kahrveeok', 'Smileswithteeth', 'ToToclasht', 'j_aj8', 'MattsterT3', 'reneeapril92', 'ncar999', 'AllThat_Nana', 'cleanched', 'bbosshamer1', 'vandermerwe63', 'wootshack', 'TraeSinatra', 'realjayelaine', 'dreaminskinny2', 'Mr4thLetter', 'Shes__resilient', 'miaanieto', 'kaymill0', 'DermEngine', 'LocdbyanAngel24', 'ItsMyChance', 'kcin_nic', 'Shantelle_JJR', 'chubbs314', 'wlwbuck', 'trucknuts8', 'mariferbv2000', 'fezziwig_mr', 'kirklandweather', 'letstalktommy', 'BrookieMaser', 'moonchild__aRMy', 'izzielbaksai', 'paralandra_rock', 'Pandabaah', 'HankTroutWriter', 'EbeltB', 'shahiiradhm', 'tsunderemerson', 'Softtek', 'iitsduhaa', 'arianarlww', 'CryptoPressNews', 'kaysaysnay', 'RealReffjey', 'SUPERSlZED', 'jangle197', 'IcyChark', 'sisgemer', 'picassobbi', 'tyrajichan', 'favpogue', 'TheDizzyLizzieB', 'OhSoYouMUCCI_', 'Clarissa_Shares', 'Raiderz204', 'TinyFezzik', 'factsdujour', 'stopy0urcrying', 'emiprota', 'LeandroFarias7', 'TRIVlATAE', 'Ian_Eastwood', 'ManuKumarLal77', 'kishebe', 'iamnotkth', 'NC3582', 'KingKongNicki', 'lovewaspoison', 'nathantheyosh', 'numbasnovocaine', 'skift', 'Igor_Vladinski', 'KennyKen1972', 'YourBillie', 'giggitygreg', 'CapnBoehnerce', 'sundaegirl', 'sketchyeddy', 'SKINNY_NiggaDoe', 'Oouttside', 'EDMeadArt', 'halosnewpage', '_SeLLz', 'oldfarmgirlKA', 'itsballer', 'Wavyperc30', 'kennedidsntsuck', 'Pedrazaaa_', 'ScottFadynich', 'BridFitzMurphy', 'odracirnicholas', 'Alinaswe7', 'Seniorly', 'freespiritnee', 'tea_bryce', 'brudergottfried', 'glennybwoy', 'Shsl_Artist_Ko', 'LilDave_David02', 'ChillinRhodes', 'mTAB', 'ctsew377', 'Banan_elmergawy', 'lesbeckworth', 'josephine_mriv', 'SharkysWaters', 'icanwhoa', 'TheldlerWheel', '_niyyx', 'wordHAVEiframes', 'P0CKYTR4SH', 'njm1423', 'a_ditas', 'Patty_B12', 'Saelorn', 'm1dnightmass', 'Vale_pillimue', 'Phoebejoy1611', 'lilchubbydude', 'spooky_leah', 'TaituH', 'hey_its_bai', 'lynnhailey1', 'DiamonsAndGold', 'KaidCregger', 'Jackmaywba', 'CindyMckennis', 'PreyOnEz', 'AdamMirkes', 'iJessDid', 'mayamii_j', 'Chem_Processing', 'sunkissednymph', 'MyMendozaLine', 'nasutioonn_', 'LazerLace']\n"
          ],
          "name": "stdout"
        }
      ]
    },
    {
      "cell_type": "code",
      "metadata": {
        "id": "d4TGwG4vDSqC",
        "colab_type": "code",
        "colab": {
          "base_uri": "https://localhost:8080/",
          "height": 35
        },
        "outputId": "0b4cf3a8-bc52-49e1-9e29-36a99851a25e"
      },
      "source": [
        "len(user_list)"
      ],
      "execution_count": 20,
      "outputs": [
        {
          "output_type": "execute_result",
          "data": {
            "text/plain": [
              "250"
            ]
          },
          "metadata": {
            "tags": []
          },
          "execution_count": 20
        }
      ]
    },
    {
      "cell_type": "code",
      "metadata": {
        "id": "Mkklr4V6FQE6",
        "colab_type": "code",
        "colab": {
          "base_uri": "https://localhost:8080/",
          "height": 48
        },
        "outputId": "467f1994-938a-485c-da71-fbad23b960fc"
      },
      "source": [
        "cols = ['Twitter_ID','Image URL','Age','Gender','API_used']\n",
        "df_user = pd.DataFrame(columns=cols)\n",
        "df_user.head()"
      ],
      "execution_count": 21,
      "outputs": [
        {
          "output_type": "execute_result",
          "data": {
            "text/html": [
              "<div>\n",
              "<style scoped>\n",
              "    .dataframe tbody tr th:only-of-type {\n",
              "        vertical-align: middle;\n",
              "    }\n",
              "\n",
              "    .dataframe tbody tr th {\n",
              "        vertical-align: top;\n",
              "    }\n",
              "\n",
              "    .dataframe thead th {\n",
              "        text-align: right;\n",
              "    }\n",
              "</style>\n",
              "<table border=\"1\" class=\"dataframe\">\n",
              "  <thead>\n",
              "    <tr style=\"text-align: right;\">\n",
              "      <th></th>\n",
              "      <th>Twitter_ID</th>\n",
              "      <th>Image URL</th>\n",
              "      <th>Age</th>\n",
              "      <th>Gender</th>\n",
              "      <th>API_used</th>\n",
              "    </tr>\n",
              "  </thead>\n",
              "  <tbody>\n",
              "  </tbody>\n",
              "</table>\n",
              "</div>"
            ],
            "text/plain": [
              "Empty DataFrame\n",
              "Columns: [Twitter_ID, Image URL, Age, Gender, API_used]\n",
              "Index: []"
            ]
          },
          "metadata": {
            "tags": []
          },
          "execution_count": 21
        }
      ]
    },
    {
      "cell_type": "code",
      "metadata": {
        "id": "UjtCe2uGFYkp",
        "colab_type": "code",
        "colab": {}
      },
      "source": [
        "image_url = []\n",
        "row_index = 0\n",
        "for user in user_list:\n",
        "    try:\n",
        "        tweets = api.get_user(user)\n",
        "        imgURL = tweets.profile_image_url.replace('_normal','')\n",
        "        \n",
        "        df_user.loc[row_index,'Twitter_ID'] = user\n",
        "        df_user.loc[row_index, 'Image URL'] = imgURL\n",
        "        df_user.loc[row_index, 'API_used'] = 'Azure'\n",
        "        \n",
        "        detected_faces = face_client.face.detect_with_url(url=imgURL,\n",
        "                                                          return_face_attributes=[\"age\",\"gender\",\"headPose\",\"smile\",\"facialHair\",\"glasses\",\"emotion\",\n",
        "                                                                                  \"hair\",\"makeup\",\"occlusion\",\"accessories\",\"blur\",\"exposure\",\"noise\"],\n",
        "                                                          detection_model='detection_01',return_face_landmarks=True)\n",
        "        if not detected_faces:\n",
        "            df_user.loc[row_index,['Age', 'Gender']] = 'NA'\n",
        "            row_index=row_index+1\n",
        "        else:\n",
        "            for face in detected_faces:\n",
        "                df_user.loc[row_index, ['Age']] = face.face_attributes.age\n",
        "                df_user.loc[row_index, ['Gender']] = face.face_attributes.gender.replace('Gender.','')\n",
        "                row_index=row_index+1\n",
        "    except:\n",
        "        pass"
      ],
      "execution_count": 0,
      "outputs": []
    },
    {
      "cell_type": "code",
      "metadata": {
        "id": "nn97mYNWZAPL",
        "colab_type": "code",
        "outputId": "6d778e5d-99c4-4d1a-c79a-8a3d6c854d62",
        "colab": {
          "base_uri": "https://localhost:8080/",
          "height": 198
        }
      },
      "source": [
        "df_user.head()"
      ],
      "execution_count": 27,
      "outputs": [
        {
          "output_type": "execute_result",
          "data": {
            "text/html": [
              "<div>\n",
              "<style scoped>\n",
              "    .dataframe tbody tr th:only-of-type {\n",
              "        vertical-align: middle;\n",
              "    }\n",
              "\n",
              "    .dataframe tbody tr th {\n",
              "        vertical-align: top;\n",
              "    }\n",
              "\n",
              "    .dataframe thead th {\n",
              "        text-align: right;\n",
              "    }\n",
              "</style>\n",
              "<table border=\"1\" class=\"dataframe\">\n",
              "  <thead>\n",
              "    <tr style=\"text-align: right;\">\n",
              "      <th></th>\n",
              "      <th>Twitter_ID</th>\n",
              "      <th>Image URL</th>\n",
              "      <th>Age</th>\n",
              "      <th>Gender</th>\n",
              "      <th>API_used</th>\n",
              "    </tr>\n",
              "  </thead>\n",
              "  <tbody>\n",
              "    <tr>\n",
              "      <th>0</th>\n",
              "      <td>NiaBolde1</td>\n",
              "      <td>http://pbs.twimg.com/profile_images/1251111953...</td>\n",
              "      <td>NA</td>\n",
              "      <td>NA</td>\n",
              "      <td>Azure</td>\n",
              "    </tr>\n",
              "    <tr>\n",
              "      <th>1</th>\n",
              "      <td>GabriellaWest</td>\n",
              "      <td>http://pbs.twimg.com/profile_images/1159249696...</td>\n",
              "      <td>45</td>\n",
              "      <td>female</td>\n",
              "      <td>Azure</td>\n",
              "    </tr>\n",
              "    <tr>\n",
              "      <th>2</th>\n",
              "      <td>HoneybunchHunts</td>\n",
              "      <td>http://pbs.twimg.com/profile_images/1226119927...</td>\n",
              "      <td>42</td>\n",
              "      <td>female</td>\n",
              "      <td>Azure</td>\n",
              "    </tr>\n",
              "    <tr>\n",
              "      <th>3</th>\n",
              "      <td>Johnny_Ace_</td>\n",
              "      <td>http://pbs.twimg.com/profile_images/9701037585...</td>\n",
              "      <td>NA</td>\n",
              "      <td>NA</td>\n",
              "      <td>Azure</td>\n",
              "    </tr>\n",
              "    <tr>\n",
              "      <th>4</th>\n",
              "      <td>febri_rinaldi</td>\n",
              "      <td>http://pbs.twimg.com/profile_images/6178160259...</td>\n",
              "      <td>24</td>\n",
              "      <td>male</td>\n",
              "      <td>Azure</td>\n",
              "    </tr>\n",
              "  </tbody>\n",
              "</table>\n",
              "</div>"
            ],
            "text/plain": [
              "        Twitter_ID  ... API_used\n",
              "0        NiaBolde1  ...    Azure\n",
              "1    GabriellaWest  ...    Azure\n",
              "2  HoneybunchHunts  ...    Azure\n",
              "3      Johnny_Ace_  ...    Azure\n",
              "4    febri_rinaldi  ...    Azure\n",
              "\n",
              "[5 rows x 5 columns]"
            ]
          },
          "metadata": {
            "tags": []
          },
          "execution_count": 27
        }
      ]
    },
    {
      "cell_type": "code",
      "metadata": {
        "id": "UPOYgbPKGsfs",
        "colab_type": "code",
        "colab": {
          "base_uri": "https://localhost:8080/",
          "height": 35
        },
        "outputId": "4991475f-5e20-4558-deea-630167024252"
      },
      "source": [
        "df_user.to_csv('control_group_user_profile.csv')\n",
        "df_user.shape"
      ],
      "execution_count": 25,
      "outputs": [
        {
          "output_type": "execute_result",
          "data": {
            "text/plain": [
              "(267, 5)"
            ]
          },
          "metadata": {
            "tags": []
          },
          "execution_count": 25
        }
      ]
    },
    {
      "cell_type": "code",
      "metadata": {
        "id": "Ih3hGHsoL802",
        "colab_type": "code",
        "colab": {}
      },
      "source": [
        "from google.colab import files\n",
        "files.download('control_group_user_profile.csv')"
      ],
      "execution_count": 0,
      "outputs": []
    }
  ]
}