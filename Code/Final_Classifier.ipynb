{
  "nbformat": 4,
  "nbformat_minor": 0,
  "metadata": {
    "colab": {
      "name": "Final_Classifier.ipynb",
      "provenance": [],
      "collapsed_sections": [],
      "authorship_tag": "ABX9TyOXLIKcG8j95n8+dPCiRF7l",
      "include_colab_link": true
    },
    "kernelspec": {
      "name": "python3",
      "display_name": "Python 3"
    }
  },
  "cells": [
    {
      "cell_type": "markdown",
      "metadata": {
        "id": "view-in-github",
        "colab_type": "text"
      },
      "source": [
        "<a href=\"https://colab.research.google.com/github/abhilashhn1993/depression-assessment-on-twitter/blob/Dragon/Code/Final_Classifier.ipynb\" target=\"_parent\"><img src=\"https://colab.research.google.com/assets/colab-badge.svg\" alt=\"Open In Colab\"/></a>"
      ]
    },
    {
      "cell_type": "code",
      "metadata": {
        "id": "-RHUo5Am8e4l"
      },
      "source": [
        "import pandas as pd\n",
        "import numpy as np\n",
        "import matplotlib.pyplot as plt \n",
        "import re\n",
        "import string\n",
        "import datetime"
      ],
      "execution_count": 1,
      "outputs": []
    },
    {
      "cell_type": "code",
      "metadata": {
        "id": "ceWMxnS38l3_"
      },
      "source": [
        "from sklearn.linear_model import LogisticRegression\n",
        "from sklearn import metrics\n",
        "from sklearn.metrics import classification_report\n",
        "from sklearn.metrics import accuracy_score\n",
        "from sklearn.metrics import precision_recall_fscore_support as score\n",
        "from sklearn.metrics import roc_auc_score\n",
        "from sklearn.metrics import roc_curve\n",
        "from sklearn.svm import SVC\n",
        "\n",
        "from sklearn import model_selection, naive_bayes, svm\n",
        "from sklearn.model_selection import cross_val_score\n",
        "from sklearn.metrics import accuracy_score, recall_score, precision_score"
      ],
      "execution_count": 60,
      "outputs": []
    },
    {
      "cell_type": "code",
      "metadata": {
        "id": "_AHH6gXIZFfv"
      },
      "source": [
        "def performCV(X, Y, model, folds, measure):\n",
        "  return cross_val_score(model, X, Y, cv=folds, scoring=measure)"
      ],
      "execution_count": 3,
      "outputs": []
    },
    {
      "cell_type": "code",
      "metadata": {
        "id": "wZWjsVhI81Rh"
      },
      "source": [
        "from google.colab import files\n",
        "uploaded = files.upload()"
      ],
      "execution_count": null,
      "outputs": []
    },
    {
      "cell_type": "code",
      "metadata": {
        "id": "1IXXiUxB83Hw"
      },
      "source": [
        "import io\n",
        "df = pd.read_excel(io.BytesIO(uploaded['Pre_Post_CG_Classifier.xlsx']), sheet_name='post-cg_AgeGender')"
      ],
      "execution_count": 179,
      "outputs": []
    },
    {
      "cell_type": "code",
      "metadata": {
        "id": "Cux6PZ3A87OH"
      },
      "source": [
        "df.head()"
      ],
      "execution_count": null,
      "outputs": []
    },
    {
      "cell_type": "code",
      "metadata": {
        "id": "EQdhU9k0qTPe"
      },
      "source": [
        "df.shape"
      ],
      "execution_count": null,
      "outputs": []
    },
    {
      "cell_type": "code",
      "metadata": {
        "id": "TuImrm9V88Qd"
      },
      "source": [
        "#Data pre-processing\n",
        "#Leave out Twitter_handle column from the classifier \n",
        "df = df.drop(['Twitter_handle'], axis=1)"
      ],
      "execution_count": 182,
      "outputs": []
    },
    {
      "cell_type": "markdown",
      "metadata": {
        "id": "BKS0K_TIWT7c"
      },
      "source": [
        "**###############OPTIONAL(SKIP IF NOT NEEDED)########################**"
      ]
    },
    {
      "cell_type": "markdown",
      "metadata": {
        "id": "18hC9nsJfYDQ"
      },
      "source": [
        "**Performing One hot encoding to convert categorical features for modeling**"
      ]
    },
    {
      "cell_type": "code",
      "metadata": {
        "id": "ORqwcykd9LkV"
      },
      "source": [
        "new_cols = ['Age_group','Gender']"
      ],
      "execution_count": 183,
      "outputs": []
    },
    {
      "cell_type": "code",
      "metadata": {
        "id": "P-EfQpHcvapl"
      },
      "source": [
        "df_proc = pd.get_dummies(df, prefix_sep=\"_\", columns=new_cols)\n",
        "df_proc.head()"
      ],
      "execution_count": null,
      "outputs": []
    },
    {
      "cell_type": "code",
      "metadata": {
        "id": "huWYYH3uvauw"
      },
      "source": [
        "features_for_modeling = list(range(0, df_proc.shape[1]-1))"
      ],
      "execution_count": 185,
      "outputs": []
    },
    {
      "cell_type": "code",
      "metadata": {
        "id": "2v9fHxxQvazr"
      },
      "source": [
        "#Seperate Train and target from the dataframe\n",
        "df_proc_train = df_proc.iloc[:,features_for_modeling]\n",
        "df_proc_train = df_proc.drop(['Target'], axis=1)\n",
        "df_proc_train.head()"
      ],
      "execution_count": null,
      "outputs": []
    },
    {
      "cell_type": "code",
      "metadata": {
        "id": "_tv76yaxva8c"
      },
      "source": [
        "df_proc_target = df_proc.loc[:,['Target']]\n",
        "df_proc_target.head()"
      ],
      "execution_count": null,
      "outputs": []
    },
    {
      "cell_type": "code",
      "metadata": {
        "id": "4lgdJeYrva56"
      },
      "source": [
        "df_proc_train.shape"
      ],
      "execution_count": null,
      "outputs": []
    },
    {
      "cell_type": "code",
      "metadata": {
        "id": "B8iDMy6ava2X"
      },
      "source": [
        "Train_X, Test_X, Train_Y, Test_Y = model_selection.train_test_split(df_proc_train,df_proc_target,test_size=0.3)\n",
        "sum(Test_Y['Target'] == 1)"
      ],
      "execution_count": null,
      "outputs": []
    },
    {
      "cell_type": "code",
      "metadata": {
        "id": "BFjAg-urvaxz"
      },
      "source": [
        "Train_Y.Target.value_counts()"
      ],
      "execution_count": null,
      "outputs": []
    },
    {
      "cell_type": "markdown",
      "metadata": {
        "id": "VQq2Ux25kdOk"
      },
      "source": [
        "**SKIP to classifier after this line of code**"
      ]
    },
    {
      "cell_type": "markdown",
      "metadata": {
        "id": "2MWD504AWpRZ"
      },
      "source": [
        "**###############OPTIONAL CODE ENDS########################**"
      ]
    },
    {
      "cell_type": "code",
      "metadata": {
        "id": "EU8gy2mH1JzC"
      },
      "source": [
        "features_for_modeling = list(range(0, df.shape[1]-1))"
      ],
      "execution_count": 143,
      "outputs": []
    },
    {
      "cell_type": "code",
      "metadata": {
        "id": "tsO-lcxG1ICP"
      },
      "source": [
        "#Seperate Train and target from the dataframe\n",
        "df_train = df.iloc[:,features_for_modeling]\n",
        "df_train = df.drop(['Target'], axis=1)\n",
        "df_train.head()"
      ],
      "execution_count": null,
      "outputs": []
    },
    {
      "cell_type": "code",
      "metadata": {
        "id": "u56bXMoV1MHf"
      },
      "source": [
        "df_target = df.loc[:,['Target']]\n",
        "df_target.head()"
      ],
      "execution_count": null,
      "outputs": []
    },
    {
      "cell_type": "code",
      "metadata": {
        "id": "uhHsrTpz1O21"
      },
      "source": [
        "df_train.shape"
      ],
      "execution_count": null,
      "outputs": []
    },
    {
      "cell_type": "code",
      "metadata": {
        "id": "VJG2jJ0A1Qi-"
      },
      "source": [
        "Train_X, Test_X, Train_Y, Test_Y = model_selection.train_test_split(df_train,df_target,test_size=0.3)\n",
        "sum(Test_Y['Target'] == 1)"
      ],
      "execution_count": null,
      "outputs": []
    },
    {
      "cell_type": "code",
      "metadata": {
        "id": "tlwoa_Ev1Sk5"
      },
      "source": [
        "Train_Y.Target.value_counts()"
      ],
      "execution_count": null,
      "outputs": []
    },
    {
      "cell_type": "markdown",
      "metadata": {
        "id": "BJSoOPvzXaL1"
      },
      "source": [
        "**CLASSIFIERS**"
      ]
    },
    {
      "cell_type": "markdown",
      "metadata": {
        "id": "1b_iz1ZofgRc"
      },
      "source": [
        "**Naive Bayes Classifier**"
      ]
    },
    {
      "cell_type": "code",
      "metadata": {
        "id": "k7pYorfkfiS8"
      },
      "source": [
        "from sklearn.naive_bayes import GaussianNB\n",
        "model =  GaussianNB()"
      ],
      "execution_count": 220,
      "outputs": []
    },
    {
      "cell_type": "code",
      "metadata": {
        "id": "sWyscyTinOxg"
      },
      "source": [
        "nb = model.fit(Train_X, Train_Y)\n",
        "y_pred_nb = nb.predict(Test_X)"
      ],
      "execution_count": null,
      "outputs": []
    },
    {
      "cell_type": "code",
      "metadata": {
        "id": "L8u8vG4PnO0H"
      },
      "source": [
        "print(\"Accuracy:\",metrics.accuracy_score(Test_Y, y_pred_nb))"
      ],
      "execution_count": null,
      "outputs": []
    },
    {
      "cell_type": "code",
      "metadata": {
        "id": "L_0hvE14nO5M"
      },
      "source": [
        "precision, recall, fscore, support = score(Test_Y, y_pred_nb)\n",
        "print(\"Recall: \", recall.mean(), \"Precision: \", precision.mean(), \"F-score: \", fscore.mean())"
      ],
      "execution_count": null,
      "outputs": []
    },
    {
      "cell_type": "code",
      "metadata": {
        "id": "2TrotOXFnO29"
      },
      "source": [
        "nb_roc_auc = roc_auc_score(Test_Y, model.fit(Train_X, Train_Y).predict(Test_X))\n",
        "fpr, tpr, thresholds = roc_curve(Test_Y, model.fit(Train_X, Train_Y).predict_proba(Test_X)[:,1])\n",
        "plt.figure()\n",
        "plt.plot(fpr, tpr, label='NB (area = %0.2f)' % nb_roc_auc)\n",
        "plt.plot([0, 1], [0, 1],'r--')\n",
        "plt.xlim([0.0, 1.0])\n",
        "plt.ylim([0.0, 1.05])\n",
        "plt.xlabel('False Positive Rate')\n",
        "plt.ylabel('True Positive Rate')\n",
        "plt.title('ROC')\n",
        "plt.legend(loc=\"lower right\")\n",
        "plt.savefig('NB_post-cg_Topics_AgeGender')\n",
        "plt.show()"
      ],
      "execution_count": null,
      "outputs": []
    },
    {
      "cell_type": "markdown",
      "metadata": {
        "id": "fcjm5eDm4bUR"
      },
      "source": [
        "**NB with Cross Validation**"
      ]
    },
    {
      "cell_type": "markdown",
      "metadata": {
        "id": "Yydd4DLq4-I2"
      },
      "source": [
        "5 fold CV"
      ]
    },
    {
      "cell_type": "code",
      "metadata": {
        "id": "m0XfQyhL4gfo"
      },
      "source": [
        "from sklearn.naive_bayes import GaussianNB\n",
        "model =  GaussianNB()\n",
        "\n",
        "accuracy = performCV(Train_X, Train_Y, model, 5, 'accuracy')\n",
        "recall = performCV(Train_X, Train_Y, model, 5, 'recall')\n",
        "precision = performCV(Train_X, Train_Y, model, 5, 'precision')\n",
        "f1score = performCV(Train_X, Train_Y, model, 5, 'f1')"
      ],
      "execution_count": null,
      "outputs": []
    },
    {
      "cell_type": "code",
      "metadata": {
        "id": "ygIi47RGQttR"
      },
      "source": [
        "print(\"Accuracy: \", accuracy.mean(), \"Recall: \", recall.mean(), \"Precision: \", \n",
        "      precision.mean(), \"f1-score: \", f1score.mean())"
      ],
      "execution_count": null,
      "outputs": []
    },
    {
      "cell_type": "markdown",
      "metadata": {
        "id": "OslouataP9K4"
      },
      "source": [
        "10 fold CV"
      ]
    },
    {
      "cell_type": "code",
      "metadata": {
        "id": "fpMLDg9qP_CC"
      },
      "source": [
        "accuracy = performCV(Train_X, Train_Y, model, 10, 'accuracy')\n",
        "recall = performCV(Train_X, Train_Y, model, 10, 'recall')\n",
        "precision = performCV(Train_X, Train_Y, model, 10, 'precision')\n",
        "f1score = performCV(Train_X, Train_Y, model, 10, 'f1')"
      ],
      "execution_count": null,
      "outputs": []
    },
    {
      "cell_type": "code",
      "metadata": {
        "id": "brAxv85SQzt5"
      },
      "source": [
        "print(\"Accuracy: \", accuracy.mean(), \"Recall: \", recall.mean(), \"Precision: \", \n",
        "      precision.mean(), \"f1-score: \", f1score.mean())"
      ],
      "execution_count": null,
      "outputs": []
    },
    {
      "cell_type": "markdown",
      "metadata": {
        "id": "6PW2iyl5oDJw"
      },
      "source": [
        "**Logistic Regression**"
      ]
    },
    {
      "cell_type": "code",
      "metadata": {
        "id": "tU33Pi3BoYMV"
      },
      "source": [
        "logreg = LogisticRegression()\n",
        "logreg.fit(Train_X, Train_Y)"
      ],
      "execution_count": null,
      "outputs": []
    },
    {
      "cell_type": "code",
      "metadata": {
        "id": "tQfNAwmcoZ7L"
      },
      "source": [
        "y_pred = logreg.predict(Test_X)\n",
        "print('Accuracy of logistic regression classifier on test set: {:.4f}'.format(logreg.score(Test_X, Test_Y)))"
      ],
      "execution_count": null,
      "outputs": []
    },
    {
      "cell_type": "code",
      "metadata": {
        "id": "vIluZy6Woe8A"
      },
      "source": [
        "precision, recall, fscore, support = score(Test_Y, y_pred)\n",
        "print(\"Recall: \", recall.mean(), \"Precision: \", precision.mean(), \"F-score: \", fscore.mean())"
      ],
      "execution_count": null,
      "outputs": []
    },
    {
      "cell_type": "code",
      "metadata": {
        "id": "0aR0UhpZohX6"
      },
      "source": [
        "logit_roc_auc = roc_auc_score(Test_Y, logreg.predict(Test_X))\n",
        "fpr, tpr, thresholds = roc_curve(Test_Y, logreg.predict_proba(Test_X)[:,1])\n",
        "plt.figure()\n",
        "plt.plot(fpr, tpr, label='LR (area = %0.2f)' % logit_roc_auc)\n",
        "plt.plot([0, 1], [0, 1],'r--')\n",
        "plt.xlim([0.0, 1.0])\n",
        "plt.ylim([0.0, 1.05])\n",
        "plt.xlabel('False Positive Rate')\n",
        "plt.ylabel('True Positive Rate')\n",
        "plt.title('ROC')\n",
        "plt.legend(loc=\"lower right\")\n",
        "plt.savefig('LR_post-cg_Topics_AgeGender')\n",
        "plt.show()"
      ],
      "execution_count": null,
      "outputs": []
    },
    {
      "cell_type": "markdown",
      "metadata": {
        "id": "HbsiaT2OQQh6"
      },
      "source": [
        "**Logistic Regression with Cross Validation**"
      ]
    },
    {
      "cell_type": "markdown",
      "metadata": {
        "id": "cSBN0S-LILr0"
      },
      "source": [
        "5-fold\n"
      ]
    },
    {
      "cell_type": "code",
      "metadata": {
        "id": "T6oOw8fBQbht"
      },
      "source": [
        "logreg = LogisticRegression()\n",
        "\n",
        "accuracy = performCV(Train_X, Train_Y, logreg, 5, 'accuracy')\n",
        "recall = performCV(Train_X, Train_Y, logreg, 5, 'recall')\n",
        "precision = performCV(Train_X, Train_Y, logreg, 5, 'precision')\n",
        "f1score = performCV(Train_X, Train_Y, logreg, 5, 'f1')"
      ],
      "execution_count": null,
      "outputs": []
    },
    {
      "cell_type": "code",
      "metadata": {
        "id": "xmeNXwDqQb87"
      },
      "source": [
        "print(\"Accuracy: \", accuracy.mean(), \"Recall: \", recall.mean(), \"Precision: \", \n",
        "      precision.mean(), \"f1-score: \", f1score.mean())"
      ],
      "execution_count": null,
      "outputs": []
    },
    {
      "cell_type": "markdown",
      "metadata": {
        "id": "W8ScSisbIN_0"
      },
      "source": [
        "10-fold\n"
      ]
    },
    {
      "cell_type": "code",
      "metadata": {
        "id": "cHefOHldRTzU"
      },
      "source": [
        "accuracy = performCV(Train_X, Train_Y, logreg, 10, 'accuracy')\n",
        "recall = performCV(Train_X, Train_Y, logreg, 10, 'recall')\n",
        "precision = performCV(Train_X, Train_Y, logreg, 10, 'precision')\n",
        "f1score = performCV(Train_X, Train_Y, logreg, 10, 'f1')"
      ],
      "execution_count": null,
      "outputs": []
    },
    {
      "cell_type": "code",
      "metadata": {
        "id": "6LQ4-GeuRUD8"
      },
      "source": [
        "print(\"Accuracy: \", accuracy.mean(), \"Recall: \", recall.mean(), \"Precision: \", \n",
        "      precision.mean(), \"f1-score: \", f1score.mean())"
      ],
      "execution_count": null,
      "outputs": []
    },
    {
      "cell_type": "markdown",
      "metadata": {
        "id": "rWuhtDlgV7mg"
      },
      "source": [
        "**Combination of Models**"
      ]
    },
    {
      "cell_type": "code",
      "metadata": {
        "id": "EwwK2IebV67E"
      },
      "source": [
        "plt.figure()\n",
        "models = [\n",
        "          {\n",
        "              'label': 'LR',\n",
        "              'model': LogisticRegression(),\n",
        "          },\n",
        "          {\n",
        "              'label': 'NB',\n",
        "              'model': GaussianNB(),\n",
        "          }\n",
        "]\n",
        "\n",
        "for m in models:\n",
        "  model = m['model']\n",
        "  model.fit(Train_X, Train_Y)\n",
        "  y_pred = model.predict(Test_X)\n",
        "\n",
        "  fpr, tpr, thresholds = metrics.roc_curve(Test_Y, model.predict_proba(Test_X)[:,1])\n",
        "\n",
        "  auc = metrics.roc_auc_score(Test_Y, model.predict(Test_X))\n",
        "\n",
        "  plt.plot(fpr, tpr, label='%s (area = %0.2f)' % (m['label'], auc))\n",
        "\n",
        "# Custom settings for the plot\n",
        "#plt.figure() \n",
        "plt.plot([0, 1], [0, 1],'r--')\n",
        "plt.xlim([0.0, 1.0])\n",
        "plt.ylim([0.0, 1.05])\n",
        "plt.xlabel('1-Specificity(False Positive Rate)')\n",
        "plt.ylabel('Sensitivity(True Positive Rate)')\n",
        "plt.title('ROC')\n",
        "plt.legend(loc=\"lower right\")\n",
        "plt.savefig('Combined_post_cg_AgeGender')\n",
        "plt.show()   # Display"
      ],
      "execution_count": null,
      "outputs": []
    },
    {
      "cell_type": "markdown",
      "metadata": {
        "id": "9Yxy_GRrkf8p"
      },
      "source": [
        "**SVM Classifier**"
      ]
    },
    {
      "cell_type": "code",
      "metadata": {
        "id": "LUpa99N6lhot"
      },
      "source": [
        "svclassifier = SVC(C= 1, kernel='linear', degree=3, gamma=\"auto\")\n",
        "svclassifier.fit(Train_X, Train_Y)"
      ],
      "execution_count": null,
      "outputs": []
    },
    {
      "cell_type": "code",
      "metadata": {
        "id": "QToW1bie11cU"
      },
      "source": [
        "# Make prediction\n",
        "y_pred = svclassifier.predict(Test_X)\n",
        "accuracy = accuracy_score(Test_Y, y_pred)\n",
        "#Evaluate Model\n",
        "precision, recall, fscore, support = score(Test_Y, y_pred)\n",
        "print(\"Accuracy: \", accuracy.mean(), \"Recall: \", recall.mean(), \"Precision: \", \n",
        "    precision.mean(), \"f1-score: \", fscore.mean())"
      ],
      "execution_count": null,
      "outputs": []
    },
    {
      "cell_type": "markdown",
      "metadata": {
        "id": "0S5eM8HOSMmK"
      },
      "source": [
        "**SVM with cross validation**"
      ]
    },
    {
      "cell_type": "code",
      "metadata": {
        "id": "Kzrm0mB3SU5y"
      },
      "source": [
        "svclassifier = SVC(C= 1, kernel='linear', degree=3, gamma=\"auto\")\n",
        "\n",
        "accuracy = performCV(Train_X, Train_Y, svclassifier, 5, 'accuracy')\n",
        "recall = performCV(Train_X, Train_Y, svclassifier, 5, 'recall')\n",
        "precision = performCV(Train_X, Train_Y, svclassifier, 5, 'precision')\n",
        "f1score = performCV(Train_X, Train_Y, svclassifier, 5, 'f1')"
      ],
      "execution_count": null,
      "outputs": []
    },
    {
      "cell_type": "code",
      "metadata": {
        "id": "oXDjgMXxSyB1"
      },
      "source": [
        "print(\"Accuracy: \", accuracy.mean(), \"Recall: \", recall.mean(), \"Precision: \", \n",
        "      precision.mean(), \"f1-score: \", f1score.mean())"
      ],
      "execution_count": null,
      "outputs": []
    },
    {
      "cell_type": "code",
      "metadata": {
        "id": "wYBHImmeba-f"
      },
      "source": [
        "accuracy = performCV(Train_X, Train_Y, svclassifier, 10, 'accuracy')\n",
        "recall = performCV(Train_X, Train_Y, svclassifier, 10, 'recall')\n",
        "precision = performCV(Train_X, Train_Y, svclassifier, 10, 'precision')\n",
        "f1score = performCV(Train_X, Train_Y, svclassifier, 10, 'f1')"
      ],
      "execution_count": null,
      "outputs": []
    },
    {
      "cell_type": "code",
      "metadata": {
        "id": "kU1SXRD6bb51"
      },
      "source": [
        "print(\"Accuracy: \", accuracy.mean(), \"Recall: \", recall.mean(), \"Precision: \", \n",
        "      precision.mean(), \"f1-score: \", f1score.mean())"
      ],
      "execution_count": null,
      "outputs": []
    }
  ]
}