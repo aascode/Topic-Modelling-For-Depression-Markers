{
  "nbformat": 4,
  "nbformat_minor": 0,
  "metadata": {
    "colab": {
      "name": "AgenGenderProfiling.ipynb",
      "provenance": [],
      "collapsed_sections": [],
      "include_colab_link": true
    },
    "kernelspec": {
      "name": "python3",
      "display_name": "Python 3"
    }
  },
  "cells": [
    {
      "cell_type": "markdown",
      "metadata": {
        "id": "view-in-github",
        "colab_type": "text"
      },
      "source": [
        "<a href=\"https://colab.research.google.com/github/abhilashhn1993/depression-assessment-on-twitter/blob/Dragon/Code/AgenGenderProfiling.ipynb\" target=\"_parent\"><img src=\"https://colab.research.google.com/assets/colab-badge.svg\" alt=\"Open In Colab\"/></a>"
      ]
    },
    {
      "cell_type": "code",
      "metadata": {
        "id": "iu_-0ceXVDAS",
        "colab_type": "code",
        "colab": {}
      },
      "source": [
        "!pip install tweepy\n",
        "!pip install --upgrade azure-cognitiveservices-vision-face"
      ],
      "execution_count": 0,
      "outputs": []
    },
    {
      "cell_type": "code",
      "metadata": {
        "id": "W92hyDaTVI-B",
        "colab_type": "code",
        "colab": {}
      },
      "source": [
        "import tweepy\n",
        "import pandas as pd\n",
        "import numpy as np\n",
        "import asyncio\n",
        "import io\n",
        "import glob\n",
        "import os\n",
        "import sys\n",
        "import time\n",
        "import uuid\n",
        "import requests\n",
        "from urllib.parse import urlparse\n",
        "from io import BytesIO\n",
        "from PIL import Image, ImageDraw\n",
        "from azure.cognitiveservices.vision.face import FaceClient\n",
        "from msrest.authentication import CognitiveServicesCredentials\n",
        "from azure.cognitiveservices.vision.face.models import TrainingStatusType, Person, SnapshotObjectType, OperationStatusType\n",
        "from PIL import Image\n",
        "import requests\n",
        "from io import BytesIO\n",
        "import pandas as pd"
      ],
      "execution_count": 0,
      "outputs": []
    },
    {
      "cell_type": "code",
      "metadata": {
        "id": "biAzMILkVLES",
        "colab_type": "code",
        "colab": {}
      },
      "source": [
        "twitter_keys = {\n",
        "        'consumer_key':        '',\n",
        "        'consumer_secret':     '',\n",
        "        'access_token_key':    '',\n",
        "        'access_token_secret': ''\n",
        "    }"
      ],
      "execution_count": 0,
      "outputs": []
    },
    {
      "cell_type": "code",
      "metadata": {
        "id": "Oinyj8w_VMgX",
        "colab_type": "code",
        "colab": {}
      },
      "source": [
        "auth = tweepy.OAuthHandler(twitter_keys['consumer_key'], twitter_keys['consumer_secret'])\n",
        "auth.set_access_token(twitter_keys['access_token_key'], twitter_keys['access_token_secret'])\n",
        "api = tweepy.API(auth)"
      ],
      "execution_count": 0,
      "outputs": []
    },
    {
      "cell_type": "code",
      "metadata": {
        "id": "w_FDc2IPFbf4",
        "colab_type": "code",
        "colab": {}
      },
      "source": [
        "face_client = FaceClient('https://facedetecttweet.cognitiveservices.azure.com/', CognitiveServicesCredentials(''))"
      ],
      "execution_count": 0,
      "outputs": []
    },
    {
      "cell_type": "code",
      "metadata": {
        "id": "7wkURkSzEy0e",
        "colab_type": "code",
        "colab": {}
      },
      "source": [
        "from google.colab import files\n",
        "uploaded = files.upload()"
      ],
      "execution_count": 0,
      "outputs": []
    },
    {
      "cell_type": "code",
      "metadata": {
        "id": "e9CsravSE_n6",
        "colab_type": "code",
        "colab": {}
      },
      "source": [
        "import io\n",
        "df = pd.read_excel(io.BytesIO(uploaded['random_tweets.xlsx']))"
      ],
      "execution_count": 0,
      "outputs": []
    },
    {
      "cell_type": "code",
      "metadata": {
        "id": "0imFZDlPFJ5a",
        "colab_type": "code",
        "outputId": "5a003379-8ec9-413a-e817-c33ac7ea303b",
        "colab": {
          "base_uri": "https://localhost:8080/",
          "height": 198
        }
      },
      "source": [
        "df.head()"
      ],
      "execution_count": 15,
      "outputs": [
        {
          "output_type": "execute_result",
          "data": {
            "text/html": [
              "<div>\n",
              "<style scoped>\n",
              "    .dataframe tbody tr th:only-of-type {\n",
              "        vertical-align: middle;\n",
              "    }\n",
              "\n",
              "    .dataframe tbody tr th {\n",
              "        vertical-align: top;\n",
              "    }\n",
              "\n",
              "    .dataframe thead th {\n",
              "        text-align: right;\n",
              "    }\n",
              "</style>\n",
              "<table border=\"1\" class=\"dataframe\">\n",
              "  <thead>\n",
              "    <tr style=\"text-align: right;\">\n",
              "      <th></th>\n",
              "      <th>Tweets</th>\n",
              "      <th>Twitter_handle</th>\n",
              "      <th>date</th>\n",
              "    </tr>\n",
              "  </thead>\n",
              "  <tbody>\n",
              "    <tr>\n",
              "      <th>0</th>\n",
              "      <td>Idiosyncratic turn-ons are my favorite kind</td>\n",
              "      <td>NiaBolde1</td>\n",
              "      <td>2019-11-29 23:59:59+00:00</td>\n",
              "    </tr>\n",
              "    <tr>\n",
              "      <th>1</th>\n",
              "      <td>I've always loved the kind way you treat both ...</td>\n",
              "      <td>GabriellaWest</td>\n",
              "      <td>2019-11-29 23:59:59+00:00</td>\n",
              "    </tr>\n",
              "    <tr>\n",
              "      <th>2</th>\n",
              "      <td>The flavors in this recipe cannot be beat! #ve...</td>\n",
              "      <td>HoneybunchHunts</td>\n",
              "      <td>2019-11-29 23:59:59+00:00</td>\n",
              "    </tr>\n",
              "    <tr>\n",
              "      <th>3</th>\n",
              "      <td>LIVE w/The SQUAD on CALL OF DUTY: MODERN WARFARE</td>\n",
              "      <td>Johnny_Ace_</td>\n",
              "      <td>2019-11-29 23:59:59+00:00</td>\n",
              "    </tr>\n",
              "    <tr>\n",
              "      <th>4</th>\n",
              "      <td>Buzzin Super Bounty! New crypto-rewards from l...</td>\n",
              "      <td>febri_rinaldi</td>\n",
              "      <td>2019-11-29 23:59:59+00:00</td>\n",
              "    </tr>\n",
              "  </tbody>\n",
              "</table>\n",
              "</div>"
            ],
            "text/plain": [
              "                                              Tweets  ...                       date\n",
              "0       Idiosyncratic turn-ons are my favorite kind   ...  2019-11-29 23:59:59+00:00\n",
              "1  I've always loved the kind way you treat both ...  ...  2019-11-29 23:59:59+00:00\n",
              "2  The flavors in this recipe cannot be beat! #ve...  ...  2019-11-29 23:59:59+00:00\n",
              "3   LIVE w/The SQUAD on CALL OF DUTY: MODERN WARFARE  ...  2019-11-29 23:59:59+00:00\n",
              "4  Buzzin Super Bounty! New crypto-rewards from l...  ...  2019-11-29 23:59:59+00:00\n",
              "\n",
              "[5 rows x 3 columns]"
            ]
          },
          "metadata": {
            "tags": []
          },
          "execution_count": 15
        }
      ]
    },
    {
      "cell_type": "code",
      "metadata": {
        "id": "-FqBkoMvFNT6",
        "colab_type": "code",
        "colab": {}
      },
      "source": [
        "user_list = []\n",
        "for user in df['Twitter_handle'].dropna():\n",
        "    user_list.append(user)\n",
        "print(user_list)"
      ],
      "execution_count": 0,
      "outputs": []
    },
    {
      "cell_type": "code",
      "metadata": {
        "id": "d4TGwG4vDSqC",
        "colab_type": "code",
        "colab": {}
      },
      "source": [
        "len(user_list)"
      ],
      "execution_count": 0,
      "outputs": []
    },
    {
      "cell_type": "code",
      "metadata": {
        "id": "Mkklr4V6FQE6",
        "colab_type": "code",
        "colab": {}
      },
      "source": [
        "cols = ['Twitter_ID','Image URL','Age','Gender','API_used']\n",
        "df_user = pd.DataFrame(columns=cols)\n",
        "df_user.head()"
      ],
      "execution_count": 0,
      "outputs": []
    },
    {
      "cell_type": "code",
      "metadata": {
        "id": "UjtCe2uGFYkp",
        "colab_type": "code",
        "colab": {}
      },
      "source": [
        "image_url = []\n",
        "row_index = 0\n",
        "for user in user_list:\n",
        "    try:\n",
        "        tweets = api.get_user(user)\n",
        "        imgURL = tweets.profile_image_url.replace('_normal','')\n",
        "        \n",
        "        df_user.loc[row_index,'Twitter_ID'] = user\n",
        "        df_user.loc[row_index, 'Image URL'] = imgURL\n",
        "        df_user.loc[row_index, 'API_used'] = 'Azure'\n",
        "        \n",
        "        detected_faces = face_client.face.detect_with_url(url=imgURL,\n",
        "                                                          return_face_attributes=[\"age\",\"gender\",\"headPose\",\"smile\",\"facialHair\",\"glasses\",\"emotion\",\n",
        "                                                                                  \"hair\",\"makeup\",\"occlusion\",\"accessories\",\"blur\",\"exposure\",\"noise\"],\n",
        "                                                          detection_model='detection_01',return_face_landmarks=True)\n",
        "        if not detected_faces:\n",
        "            df_user.loc[row_index,['Age', 'Gender']] = 'NA'\n",
        "            row_index=row_index+1\n",
        "        else:\n",
        "            for face in detected_faces:\n",
        "                df_user.loc[row_index, ['Age']] = face.face_attributes.age\n",
        "                df_user.loc[row_index, ['Gender']] = face.face_attributes.gender.replace('Gender.','')\n",
        "                row_index=row_index+1\n",
        "    except:\n",
        "        pass"
      ],
      "execution_count": 0,
      "outputs": []
    },
    {
      "cell_type": "code",
      "metadata": {
        "id": "nn97mYNWZAPL",
        "colab_type": "code",
        "colab": {}
      },
      "source": [
        "df_user.head()"
      ],
      "execution_count": 0,
      "outputs": []
    },
    {
      "cell_type": "code",
      "metadata": {
        "id": "UPOYgbPKGsfs",
        "colab_type": "code",
        "colab": {}
      },
      "source": [
        "df_user.to_csv('control_group_user_profile.csv')\n",
        "df_user.shape"
      ],
      "execution_count": 0,
      "outputs": []
    },
    {
      "cell_type": "code",
      "metadata": {
        "id": "Ih3hGHsoL802",
        "colab_type": "code",
        "colab": {}
      },
      "source": [
        "from google.colab import files\n",
        "files.download('control_group_user_profile.csv')"
      ],
      "execution_count": 0,
      "outputs": []
    }
  ]
}