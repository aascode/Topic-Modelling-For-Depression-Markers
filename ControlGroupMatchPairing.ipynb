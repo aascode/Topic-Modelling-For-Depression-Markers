{
  "nbformat": 4,
  "nbformat_minor": 0,
  "metadata": {
    "colab": {
      "name": "ControlGroupMatchPairing.ipynb",
      "provenance": [],
      "collapsed_sections": [],
      "authorship_tag": "ABX9TyODJNqMM5L2nuA///1qdiki",
      "include_colab_link": true
    },
    "kernelspec": {
      "name": "python3",
      "display_name": "Python 3"
    }
  },
  "cells": [
    {
      "cell_type": "markdown",
      "metadata": {
        "id": "view-in-github",
        "colab_type": "text"
      },
      "source": [
        "<a href=\"https://colab.research.google.com/github/abhilashhn1993/depression-assessment-on-twitter/blob/Dragon/ControlGroupMatchPairing.ipynb\" target=\"_parent\"><img src=\"https://colab.research.google.com/assets/colab-badge.svg\" alt=\"Open In Colab\"/></a>"
      ]
    },
    {
      "cell_type": "code",
      "metadata": {
        "id": "1LqZTMp85bJu",
        "colab_type": "code",
        "colab": {}
      },
      "source": [
        "import pandas as pd\n",
        "import numpy as np\n",
        "import io\n",
        "import time"
      ],
      "execution_count": 12,
      "outputs": []
    },
    {
      "cell_type": "code",
      "metadata": {
        "id": "7lgSfrJI5n5r",
        "colab_type": "code",
        "colab": {}
      },
      "source": [
        "from google.colab import files\n",
        "uploaded = files.upload()"
      ],
      "execution_count": null,
      "outputs": []
    },
    {
      "cell_type": "code",
      "metadata": {
        "id": "sXTgU3Gv5q-l",
        "colab_type": "code",
        "colab": {}
      },
      "source": [
        "data_dep = pd.read_excel(io.BytesIO(uploaded['Dep-controlgroup_match_pairing.xlsx']))\n",
        "data_cg = pd.read_excel(io.BytesIO(uploaded['control_1000_UserProfile.xlsx']))"
      ],
      "execution_count": 3,
      "outputs": []
    },
    {
      "cell_type": "code",
      "metadata": {
        "id": "HFoD66GL53yz",
        "colab_type": "code",
        "colab": {}
      },
      "source": [
        "data_dep.head()"
      ],
      "execution_count": null,
      "outputs": []
    },
    {
      "cell_type": "code",
      "metadata": {
        "id": "GiAc8bbO531g",
        "colab_type": "code",
        "colab": {}
      },
      "source": [
        "data_cg['flag'] = 0\n",
        "data_cg.head()"
      ],
      "execution_count": null,
      "outputs": []
    },
    {
      "cell_type": "code",
      "metadata": {
        "id": "zRTvS7L4IUna",
        "colab_type": "code",
        "colab": {}
      },
      "source": [
        "cols = ['Dep_User_handle', 'Age', 'Age_group', 'Gender', 'API', 'Date_of_diagnosis', 'CG_User_handle', 'C_Age', 'C_Age_group', 'C_Gender', 'C_API']\n",
        "df_res = pd.DataFrame(columns=cols)\n",
        "df_res.head()"
      ],
      "execution_count": null,
      "outputs": []
    },
    {
      "cell_type": "code",
      "metadata": {
        "id": "2Zw8yxxTJZ5V",
        "colab_type": "code",
        "colab": {}
      },
      "source": [
        "row_index = 1\n",
        "for index,row in data_dep.iterrows():\n",
        "  user_id = row['Dep_users_Twitter_handle']\n",
        "  dod = row['Date_of_Diagnosis']\n",
        "  age = row['Age']\n",
        "  age_group = row['Age_group']\n",
        "  gender = row['Gender']\n",
        "  api = row['Api_used']\n",
        "\n",
        "  for ind, rw in data_cg.iterrows():\n",
        "    if rw['flag']==0:\n",
        "      if rw['Age'] == age and rw['Gender'] == gender and rw['Age_group'] == age_group:\n",
        "        df_res.at[row_index,'Dep_User_handle'] = user_id\n",
        "        df_res.at[row_index,'Age'] = age\n",
        "        df_res.at[row_index,'Age_group'] = age_group\n",
        "        df_res.at[row_index,'Gender'] = gender\n",
        "        df_res.at[row_index,'API'] = api\n",
        "        df_res.at[row_index,'Date_of_diagnosis'] = dod\n",
        "        df_res.at[row_index,'CG_User_handle'] = rw['Twitter_handle']\n",
        "        df_res.at[row_index,'C_Age'] = rw['Age']\n",
        "        df_res.at[row_index,'C_Age_group'] = rw['Age_group']\n",
        "        df_res.at[row_index,'C_Gender'] = rw['Gender']\n",
        "        df_res.at[row_index,'C_API'] = rw['API_used']\n",
        "        \n",
        "        rw['flag'] = 1\n",
        "        row_index = row_index+1\n",
        "        break\n",
        "      else:\n",
        "        continue\n",
        "    else:\n",
        "      continue"
      ],
      "execution_count": 63,
      "outputs": []
    },
    {
      "cell_type": "code",
      "metadata": {
        "id": "2SuMnqwRJunT",
        "colab_type": "code",
        "colab": {}
      },
      "source": [
        "df_res.head()"
      ],
      "execution_count": null,
      "outputs": []
    },
    {
      "cell_type": "code",
      "metadata": {
        "id": "t0HOb_NOJ94K",
        "colab_type": "code",
        "colab": {}
      },
      "source": [
        "df_res.to_excel('match_pair.xlsx')\n",
        "from google.colab import files\n",
        "files.download('match_pair.xlsx')"
      ],
      "execution_count": 65,
      "outputs": []
    }
  ]
}