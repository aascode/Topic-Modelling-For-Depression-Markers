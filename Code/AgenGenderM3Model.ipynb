{
  "nbformat": 4,
  "nbformat_minor": 0,
  "metadata": {
    "colab": {
      "name": "AgenGenderM3Model.ipynb",
      "provenance": [],
      "mount_file_id": "1ueRzuie7wNWvBSgX7Z50xzoLG5BcdbEl",
      "authorship_tag": "ABX9TyMag40a8+rOabHM9n3VxZxa",
      "include_colab_link": true
    },
    "kernelspec": {
      "name": "python3",
      "display_name": "Python 3"
    }
  },
  "cells": [
    {
      "cell_type": "markdown",
      "metadata": {
        "id": "view-in-github",
        "colab_type": "text"
      },
      "source": [
        "<a href=\"https://colab.research.google.com/github/abhilashhn1993/depression-assessment-on-twitter/blob/Dragon/Code/AgenGenderM3Model.ipynb\" target=\"_parent\"><img src=\"https://colab.research.google.com/assets/colab-badge.svg\" alt=\"Open In Colab\"/></a>"
      ]
    },
    {
      "cell_type": "code",
      "metadata": {
        "id": "FPl5K6hFboMr",
        "colab_type": "code",
        "colab": {}
      },
      "source": [
        "!pip install m3inference\n",
        "!pip install tweepy"
      ],
      "execution_count": null,
      "outputs": []
    },
    {
      "cell_type": "code",
      "metadata": {
        "id": "vqw84ozGcMqV",
        "colab_type": "code",
        "colab": {}
      },
      "source": [
        "import re\n",
        "import os\n",
        "import string\n",
        "import pandas as pd\n",
        "import numpy as np\n",
        "import datetime\n",
        "from io import BytesIO\n",
        "import tweepy"
      ],
      "execution_count": 3,
      "outputs": []
    },
    {
      "cell_type": "code",
      "metadata": {
        "id": "cC09F5e8fDeI",
        "colab_type": "code",
        "colab": {}
      },
      "source": [
        "twitter_keys = {\n",
        "        'consumer_key':        '',\n",
        "        'consumer_secret':     '',\n",
        "        'access_token_key':    '',\n",
        "        'access_token_secret': ''\n",
        "    }"
      ],
      "execution_count": 4,
      "outputs": []
    },
    {
      "cell_type": "code",
      "metadata": {
        "id": "PjyprxePfErM",
        "colab_type": "code",
        "colab": {}
      },
      "source": [
        "auth = tweepy.OAuthHandler(twitter_keys['consumer_key'], twitter_keys['consumer_secret'])\n",
        "auth.set_access_token(twitter_keys['access_token_key'], twitter_keys['access_token_secret'])\n",
        "api = tweepy.API(auth)"
      ],
      "execution_count": 5,
      "outputs": []
    },
    {
      "cell_type": "code",
      "metadata": {
        "id": "PWG7HwNXNWl_",
        "colab_type": "code",
        "colab": {}
      },
      "source": [
        "from google.colab import files\n",
        "uploaded = files.upload()"
      ],
      "execution_count": null,
      "outputs": []
    },
    {
      "cell_type": "code",
      "metadata": {
        "id": "RgwosxFBNapH",
        "colab_type": "code",
        "colab": {}
      },
      "source": [
        "#to read file locally\n",
        "import io\n",
        "df = pd.read_excel(io.BytesIO(uploaded['controlgroup_user_azure_output.xlsx']))\n",
        "df.head()"
      ],
      "execution_count": null,
      "outputs": []
    },
    {
      "cell_type": "code",
      "metadata": {
        "id": "teeQylF6cMt3",
        "colab_type": "code",
        "colab": {}
      },
      "source": [
        "#To read file from the drive\n",
        "df = pd.read_excel('/content/drive/My Drive/Twitter Depression Analysis/Dataset/TwitterUsers_Profile.xlsx', encoding='Latin-1', sheet_name='Type 1', \n",
        "                   keep_default_na=False)\n",
        "df.head()"
      ],
      "execution_count": null,
      "outputs": []
    },
    {
      "cell_type": "code",
      "metadata": {
        "id": "c9fQe-OdCPiK",
        "colab_type": "code",
        "colab": {}
      },
      "source": [
        "import pprint\n",
        "from m3inference import M3Twitter\n",
        "m3twitter=M3Twitter()"
      ],
      "execution_count": null,
      "outputs": []
    },
    {
      "cell_type": "code",
      "metadata": {
        "id": "yXxGUfkFGCKG",
        "colab_type": "code",
        "colab": {}
      },
      "source": [
        "#The position of the columns are coded to read the dataset only in the below desired format\n",
        "## TWITTER_HANDLE   IMAGE_URL   AGE   GENDER  API_USED\n",
        "\n",
        "for i in range(len(df)):\n",
        "  if pd.isna(df.iloc[i,3]):\n",
        "    try:\n",
        "      userobj = m3twitter.infer_screen_name(df.iloc[i,0])\n",
        "      df.iloc[i,2] = max(userobj['output']['age'], key=userobj['output']['age'].get)\n",
        "      df.iloc[i,4] = 'M3'\n",
        "      if userobj['output']['gender']['male'] > 0.5:\n",
        "        df.iloc[i,3] = \"male\"\n",
        "      else:\n",
        "        df.iloc[i,3] = \"female\"\n",
        "    except:\n",
        "      missed_users.append(df.iloc[i,0])\n",
        "      time.sleep(240)\n",
        "      pass"
      ],
      "execution_count": null,
      "outputs": []
    },
    {
      "cell_type": "code",
      "metadata": {
        "id": "9VO4TA8eWjzi",
        "colab_type": "code",
        "colab": {}
      },
      "source": [
        "df.head()"
      ],
      "execution_count": null,
      "outputs": []
    },
    {
      "cell_type": "code",
      "metadata": {
        "id": "AEgkLRi2PNUs",
        "colab_type": "code",
        "colab": {}
      },
      "source": [
        "df.to_excel('controlgroup_User_Profile.xlsx')"
      ],
      "execution_count": 18,
      "outputs": []
    },
    {
      "cell_type": "code",
      "metadata": {
        "id": "986O1jB1SYNs",
        "colab_type": "code",
        "colab": {}
      },
      "source": [
        "from google.colab import files\n",
        "files.download('controlgroup_User_Profile.xlsx')"
      ],
      "execution_count": 19,
      "outputs": []
    },
    {
      "cell_type": "code",
      "metadata": {
        "id": "Fx9YGWMjicDr",
        "colab_type": "code",
        "colab": {}
      },
      "source": [
        "#SAMPLE TO TRY OUT M3 PREDICTIONS\n",
        "pred = m3twitter.infer_screen_name('<user_name>')"
      ],
      "execution_count": null,
      "outputs": []
    }
  ]
}