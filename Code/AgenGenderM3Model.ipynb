{
  "nbformat": 4,
  "nbformat_minor": 0,
  "metadata": {
    "colab": {
      "name": "AgenGenderM3Model.ipynb",
      "provenance": [],
      "mount_file_id": "1ueRzuie7wNWvBSgX7Z50xzoLG5BcdbEl",
      "authorship_tag": "ABX9TyMCmPyPsB26Wo1hHF3kUuAa",
      "include_colab_link": true
    },
    "kernelspec": {
      "name": "python3",
      "display_name": "Python 3"
    }
  },
  "cells": [
    {
      "cell_type": "markdown",
      "metadata": {
        "id": "view-in-github",
        "colab_type": "text"
      },
      "source": [
        "<a href=\"https://colab.research.google.com/github/abhilashhn1993/depression-assessment-on-twitter/blob/Dragon/Code/AgenGenderM3Model.ipynb\" target=\"_parent\"><img src=\"https://colab.research.google.com/assets/colab-badge.svg\" alt=\"Open In Colab\"/></a>"
      ]
    },
    {
      "cell_type": "code",
      "metadata": {
        "id": "wH12dBVfcRE_",
        "colab_type": "code",
        "colab": {}
      },
      "source": [
        "from google.colab import drive\n",
        "drive.mount('/content/drive')"
      ],
      "execution_count": 0,
      "outputs": []
    },
    {
      "cell_type": "code",
      "metadata": {
        "id": "FPl5K6hFboMr",
        "colab_type": "code",
        "colab": {}
      },
      "source": [
        "!pip install m3inference\n",
        "!pip install tweepy"
      ],
      "execution_count": 0,
      "outputs": []
    },
    {
      "cell_type": "code",
      "metadata": {
        "id": "vqw84ozGcMqV",
        "colab_type": "code",
        "colab": {}
      },
      "source": [
        "import re\n",
        "import os\n",
        "import string\n",
        "import pandas as pd\n",
        "import numpy as np\n",
        "import datetime\n",
        "from io import BytesIO\n",
        "import tweepy"
      ],
      "execution_count": 0,
      "outputs": []
    },
    {
      "cell_type": "code",
      "metadata": {
        "id": "cC09F5e8fDeI",
        "colab_type": "code",
        "colab": {}
      },
      "source": [
        "twitter_keys = {\n",
        "        'consumer_key':        '',\n",
        "        'consumer_secret':     '',\n",
        "        'access_token_key':    '',\n",
        "        'access_token_secret': ''\n",
        "    }"
      ],
      "execution_count": 0,
      "outputs": []
    },
    {
      "cell_type": "code",
      "metadata": {
        "id": "PjyprxePfErM",
        "colab_type": "code",
        "colab": {}
      },
      "source": [
        "auth = tweepy.OAuthHandler(twitter_keys['consumer_key'], twitter_keys['consumer_secret'])\n",
        "auth.set_access_token(twitter_keys['access_token_key'], twitter_keys['access_token_secret'])\n",
        "api = tweepy.API(auth)"
      ],
      "execution_count": 0,
      "outputs": []
    },
    {
      "cell_type": "code",
      "metadata": {
        "id": "teeQylF6cMt3",
        "colab_type": "code",
        "outputId": "c64516cf-4cec-4726-afa1-2e4df502d46c",
        "colab": {
          "base_uri": "https://localhost:8080/",
          "height": 198
        }
      },
      "source": [
        "df = pd.read_excel('/content/drive/My Drive/Twitter Depression Analysis/Dataset/TwitterUsers_Profile.xlsx', encoding='Latin-1', sheet_name='Type 1', \n",
        "                   keep_default_na=False)\n",
        "df.head()"
      ],
      "execution_count": 0,
      "outputs": [
        {
          "output_type": "execute_result",
          "data": {
            "text/html": [
              "<div>\n",
              "<style scoped>\n",
              "    .dataframe tbody tr th:only-of-type {\n",
              "        vertical-align: middle;\n",
              "    }\n",
              "\n",
              "    .dataframe tbody tr th {\n",
              "        vertical-align: top;\n",
              "    }\n",
              "\n",
              "    .dataframe thead th {\n",
              "        text-align: right;\n",
              "    }\n",
              "</style>\n",
              "<table border=\"1\" class=\"dataframe\">\n",
              "  <thead>\n",
              "    <tr style=\"text-align: right;\">\n",
              "      <th></th>\n",
              "      <th>Twitter_ID</th>\n",
              "      <th>Image URL</th>\n",
              "      <th>Age</th>\n",
              "      <th>Gender</th>\n",
              "    </tr>\n",
              "  </thead>\n",
              "  <tbody>\n",
              "    <tr>\n",
              "      <th>0</th>\n",
              "      <td>@taegifIower</td>\n",
              "      <td>http://pbs.twimg.com/profile_images/1218523659...</td>\n",
              "      <td>NA</td>\n",
              "      <td>NA</td>\n",
              "    </tr>\n",
              "    <tr>\n",
              "      <th>1</th>\n",
              "      <td>@doodybeardLIVE</td>\n",
              "      <td>http://pbs.twimg.com/profile_images/1236429556...</td>\n",
              "      <td>38</td>\n",
              "      <td>male</td>\n",
              "    </tr>\n",
              "    <tr>\n",
              "      <th>2</th>\n",
              "      <td>@sunnylesbian</td>\n",
              "      <td>http://pbs.twimg.com/profile_images/1260095325...</td>\n",
              "      <td>31</td>\n",
              "      <td>female</td>\n",
              "    </tr>\n",
              "    <tr>\n",
              "      <th>3</th>\n",
              "      <td>@Ohsnapitzzash</td>\n",
              "      <td>http://pbs.twimg.com/profile_images/1253331750...</td>\n",
              "      <td>22</td>\n",
              "      <td>female</td>\n",
              "    </tr>\n",
              "    <tr>\n",
              "      <th>4</th>\n",
              "      <td>@ItzOverhauled</td>\n",
              "      <td>http://pbs.twimg.com/profile_images/1264667976...</td>\n",
              "      <td>NA</td>\n",
              "      <td>NA</td>\n",
              "    </tr>\n",
              "  </tbody>\n",
              "</table>\n",
              "</div>"
            ],
            "text/plain": [
              "        Twitter_ID  ...  Gender\n",
              "0     @taegifIower  ...      NA\n",
              "1  @doodybeardLIVE  ...    male\n",
              "2    @sunnylesbian  ...  female\n",
              "3   @Ohsnapitzzash  ...  female\n",
              "4   @ItzOverhauled  ...      NA\n",
              "\n",
              "[5 rows x 4 columns]"
            ]
          },
          "metadata": {
            "tags": []
          },
          "execution_count": 311
        }
      ]
    },
    {
      "cell_type": "code",
      "metadata": {
        "id": "c9fQe-OdCPiK",
        "colab_type": "code",
        "colab": {}
      },
      "source": [
        "import pprint\n",
        "from m3inference import M3Twitter\n",
        "m3twitter=M3Twitter()"
      ],
      "execution_count": 0,
      "outputs": []
    },
    {
      "cell_type": "code",
      "metadata": {
        "id": "yXxGUfkFGCKG",
        "colab_type": "code",
        "colab": {}
      },
      "source": [
        "for i in range(len(df)):\n",
        "  if df.iloc[i,3] == 'NA':\n",
        "    try:\n",
        "      userobj = m3twitter.infer_screen_name(df.iloc[i,0])\n",
        "      df.iloc[i,2] = max(userobj['output']['age'], key=userobj['output']['age'].get)\n",
        "      if userobj['output']['gender']['male'] > 0.5:\n",
        "        df.iloc[i,3] = \"Male\"\n",
        "      else:\n",
        "        df.iloc[i,3] = \"Female\"\n",
        "    except:\n",
        "      missed_users.append(df.iloc[i,0])\n",
        "      time.sleep(240)\n",
        "      pass"
      ],
      "execution_count": 0,
      "outputs": []
    },
    {
      "cell_type": "code",
      "metadata": {
        "id": "9VO4TA8eWjzi",
        "colab_type": "code",
        "colab": {}
      },
      "source": [
        "df.head()"
      ],
      "execution_count": 0,
      "outputs": []
    },
    {
      "cell_type": "code",
      "metadata": {
        "id": "AEgkLRi2PNUs",
        "colab_type": "code",
        "colab": {}
      },
      "source": [
        "df.to_csv('User_Profile_type2.csv')"
      ],
      "execution_count": 0,
      "outputs": []
    },
    {
      "cell_type": "code",
      "metadata": {
        "id": "Fx9YGWMjicDr",
        "colab_type": "code",
        "colab": {}
      },
      "source": [
        "prd = m3twitter.infer_screen_name('elizabethraine')"
      ],
      "execution_count": 0,
      "outputs": []
    }
  ]
}