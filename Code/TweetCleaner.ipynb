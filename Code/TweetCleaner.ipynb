{
  "nbformat": 4,
  "nbformat_minor": 0,
  "metadata": {
    "colab": {
      "name": "TweetCleaner.ipynb",
      "provenance": [],
      "collapsed_sections": [],
      "authorship_tag": "ABX9TyOz6P/4vaUDNWqGONtAL+l0",
      "include_colab_link": true
    },
    "kernelspec": {
      "name": "python3",
      "display_name": "Python 3"
    }
  },
  "cells": [
    {
      "cell_type": "markdown",
      "metadata": {
        "id": "view-in-github",
        "colab_type": "text"
      },
      "source": [
        "<a href=\"https://colab.research.google.com/github/abhilashhn1993/depression-assessment-on-twitter/blob/Dragon/Code/TweetCleaner.ipynb\" target=\"_parent\"><img src=\"https://colab.research.google.com/assets/colab-badge.svg\" alt=\"Open In Colab\"/></a>"
      ]
    },
    {
      "cell_type": "code",
      "metadata": {
        "id": "sbO1-imqjOmU",
        "colab_type": "code",
        "colab": {}
      },
      "source": [
        "!pip install spacy"
      ],
      "execution_count": 0,
      "outputs": []
    },
    {
      "cell_type": "code",
      "metadata": {
        "id": "X_1Wir7BjXEZ",
        "colab_type": "code",
        "colab": {}
      },
      "source": [
        "import re\n",
        "import numpy as np\n",
        "import pandas as pd\n",
        "from pprint import pprint\n",
        "import gensim\n",
        "import spacy\n",
        "import gensim.corpora as corpora\n",
        "from gensim.utils import simple_preprocess\n",
        "from gensim.models import CoherenceModel\n",
        "import matplotlib.pyplot as plt\n",
        "%matplotlib inline\n",
        "import logging\n",
        "logging.basicConfig(format='%(asctime)s : %(levelname)s : %(message)s', level=logging.ERROR)\n",
        "import warnings\n",
        "warnings.filterwarnings(\"ignore\",category=DeprecationWarning)"
      ],
      "execution_count": 0,
      "outputs": []
    },
    {
      "cell_type": "markdown",
      "metadata": {
        "id": "PXxytZa_jdsm",
        "colab_type": "text"
      },
      "source": [
        "**BASIC TEXT CLEANING**\n",
        "    \n",
        "\n",
        "1.   Punctuation removal\n",
        "2.   Removing URLs\n",
        "3.   Removing Junk characters (non-english)\n",
        "4.   Remove @ mentions from tweets\n",
        "5.   Change to lower case   "
      ]
    },
    {
      "cell_type": "code",
      "metadata": {
        "id": "WCxNz3YFtbDy",
        "colab_type": "code",
        "colab": {}
      },
      "source": [
        "#Method to remove texts with consecutive characters\n",
        "def remove_pattern(input_txt, pattern):\n",
        "    r = re.findall(pattern, input_txt)\n",
        "    for i in r:\n",
        "        input_txt = re.sub(i, '', input_txt)\n",
        "    return input_txt"
      ],
      "execution_count": 0,
      "outputs": []
    },
    {
      "cell_type": "code",
      "metadata": {
        "id": "8gz5PnVJAOPo",
        "colab_type": "code",
        "colab": {}
      },
      "source": [
        "def cleanTweets(df):\n",
        "   # remove twitter Return handles (RT @xxx:)\n",
        "   df['Tweets'] = np.vectorize(remove_pattern)(df['Tweets'], \"RT @[\\w]*:\")\n",
        "   # remove twitter handles (@xxx)\n",
        "   df['Tweets'] = np.vectorize(remove_pattern)(df['Tweets'], \"@[\\w]*\")\n",
        "   # remove URL links (httpxxx)\n",
        "   df['Tweets'] = np.vectorize(remove_pattern)(df['Tweets'], \"https?://[A-Za-z0-9./]*\")\n",
        "   return df"
      ],
      "execution_count": 0,
      "outputs": []
    },
    {
      "cell_type": "code",
      "metadata": {
        "id": "oLcPwvVXtgob",
        "colab_type": "code",
        "colab": {}
      },
      "source": [
        "from google.colab import files\n",
        "uploaded = files.upload()"
      ],
      "execution_count": 0,
      "outputs": []
    },
    {
      "cell_type": "code",
      "metadata": {
        "id": "L2lA3hrZtju8",
        "colab_type": "code",
        "colab": {}
      },
      "source": [
        "import io\n",
        "df_pre = pd.read_excel(io.BytesIO(uploaded['All_users_pre_post_tweets.xlsx']), sheet_name='pre_tweets')\n",
        "df_post = pd.read_excel(io.BytesIO(uploaded['All_users_pre_post_tweets.xlsx']), sheet_name='post_tweets')"
      ],
      "execution_count": 0,
      "outputs": []
    },
    {
      "cell_type": "code",
      "metadata": {
        "id": "nK5DpwJMwhmG",
        "colab_type": "code",
        "colab": {}
      },
      "source": [
        "df_post.head()"
      ],
      "execution_count": 0,
      "outputs": []
    },
    {
      "cell_type": "code",
      "metadata": {
        "id": "XLpu_J7D2KjW",
        "colab_type": "code",
        "colab": {}
      },
      "source": [
        "df_pre['Tweets'] = df_pre['Tweets'].map(lambda x: str(x))\n",
        "df_post['Tweets'] = df_post['Tweets'].map(lambda x: str(x))"
      ],
      "execution_count": 0,
      "outputs": []
    },
    {
      "cell_type": "code",
      "metadata": {
        "id": "SryagDT5w6-r",
        "colab_type": "code",
        "colab": {}
      },
      "source": [
        "df_pre_conc = df_pre.groupby(['Twitter_handle','User_type'])['Tweets'].agg(' '.join).reset_index(name='Tweets')\n",
        "df_pre_conc.head()"
      ],
      "execution_count": 0,
      "outputs": []
    },
    {
      "cell_type": "code",
      "metadata": {
        "id": "KgXVSCMsRN3z",
        "colab_type": "code",
        "colab": {}
      },
      "source": [
        "df_post_conc = df_post.groupby(['Twitter_handle','User_type'])['Tweets'].agg(' '.join).reset_index(name='Tweets')\n",
        "df_post_conc.head()"
      ],
      "execution_count": 0,
      "outputs": []
    },
    {
      "cell_type": "code",
      "metadata": {
        "id": "YvQ5qlKBDuxJ",
        "colab_type": "code",
        "colab": {}
      },
      "source": [
        "df_pre_conc = cleanTweets(df_pre_conc)\n",
        "df_post_conc = cleanTweets(df_post_conc)"
      ],
      "execution_count": 0,
      "outputs": []
    },
    {
      "cell_type": "code",
      "metadata": {
        "id": "Oun1qFWhJFWt",
        "colab_type": "code",
        "colab": {}
      },
      "source": [
        "regex = re.compile('[^a-zA-Z]')"
      ],
      "execution_count": 0,
      "outputs": []
    },
    {
      "cell_type": "code",
      "metadata": {
        "id": "Dm1rigyuKBfp",
        "colab_type": "code",
        "colab": {}
      },
      "source": [
        "#Remove non-alphanumeric values from pre data\n",
        "for index,row in df_pre_conc.iterrows():\n",
        "  out = regex.sub(' ',row['Tweets'])\n",
        "  df_pre_conc.at[index, 'Tweets'] = ' '.join(out.split())"
      ],
      "execution_count": 0,
      "outputs": []
    },
    {
      "cell_type": "code",
      "metadata": {
        "id": "FyIz0jm1RjWY",
        "colab_type": "code",
        "colab": {}
      },
      "source": [
        "#Remove non-alphanumeric values from post data\n",
        "for index,row in df_post_conc.iterrows():\n",
        "  out = regex.sub(' ',row['Tweets'])\n",
        "  df_post_conc.at[index, 'Tweets'] = ' '.join(out.split())"
      ],
      "execution_count": 0,
      "outputs": []
    },
    {
      "cell_type": "code",
      "metadata": {
        "id": "Vcpq7_DPLSav",
        "colab_type": "code",
        "colab": {}
      },
      "source": [
        "df_post_conc.head()"
      ],
      "execution_count": 0,
      "outputs": []
    },
    {
      "cell_type": "code",
      "metadata": {
        "id": "daXfmqAbMWPZ",
        "colab_type": "code",
        "colab": {}
      },
      "source": [
        "df_pre_conc.to_excel('pre_all_tweets_concat_cleaned.xlsx')\n",
        "df_post_conc.to_excel('post_all_tweets_concat_cleaned.xlsx')"
      ],
      "execution_count": 0,
      "outputs": []
    },
    {
      "cell_type": "code",
      "metadata": {
        "id": "G0SIWGslR2mI",
        "colab_type": "code",
        "colab": {}
      },
      "source": [
        "from google.colab import files\n",
        "files.download('pre_all_tweets_concat_cleaned.xlsx')\n",
        "files.download('post_all_tweets_concat_cleaned.xlsx')"
      ],
      "execution_count": 0,
      "outputs": []
    }
  ]
}