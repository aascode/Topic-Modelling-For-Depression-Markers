{
  "nbformat": 4,
  "nbformat_minor": 0,
  "metadata": {
    "colab": {
      "name": "Untitled0.ipynb",
      "provenance": [],
      "authorship_tag": "ABX9TyMftBU+v6IZyE3SzJjmxrGp",
      "include_colab_link": true
    },
    "kernelspec": {
      "name": "python3",
      "display_name": "Python 3"
    }
  },
  "cells": [
    {
      "cell_type": "markdown",
      "metadata": {
        "id": "view-in-github",
        "colab_type": "text"
      },
      "source": [
        "<a href=\"https://colab.research.google.com/github/abhilashhn1993/depression-assessment-on-twitter/blob/Dragon/Code/pre_post_TweetsCombining.ipynb\" target=\"_parent\"><img src=\"https://colab.research.google.com/assets/colab-badge.svg\" alt=\"Open In Colab\"/></a>"
      ]
    },
    {
      "cell_type": "code",
      "metadata": {
        "id": "i1sFqXS4duXk",
        "colab_type": "code",
        "colab": {}
      },
      "source": [
        "import pandas as pd"
      ],
      "execution_count": 2,
      "outputs": []
    },
    {
      "cell_type": "code",
      "metadata": {
        "id": "tPlHFDZFd1Bk",
        "colab_type": "code",
        "colab": {}
      },
      "source": [
        "from google.colab import files\n",
        "uploaded = files.upload()"
      ],
      "execution_count": null,
      "outputs": []
    },
    {
      "cell_type": "code",
      "metadata": {
        "id": "TRCH1JEed54o",
        "colab_type": "code",
        "colab": {}
      },
      "source": [
        "import io\n",
        "pre = pd.read_excel(io.BytesIO(uploaded['All_tweets_LIWC_results.xlsx']), sheet_name='pre_tweets')\n",
        "post = pd.read_excel(io.BytesIO(uploaded['All_tweets_LIWC_results.xlsx']), sheet_name='post_tweets')"
      ],
      "execution_count": 4,
      "outputs": []
    },
    {
      "cell_type": "code",
      "metadata": {
        "id": "YHVfrW-Vd9CO",
        "colab_type": "code",
        "colab": {}
      },
      "source": [
        "pre = pre.loc[:,['Twitter_handle','Tweets']]\n",
        "pre.head()"
      ],
      "execution_count": null,
      "outputs": []
    },
    {
      "cell_type": "code",
      "metadata": {
        "id": "rljDAw1vd9FS",
        "colab_type": "code",
        "colab": {}
      },
      "source": [
        "post = post.loc[:,['Twitter_handle','Tweets']]\n",
        "post.head()"
      ],
      "execution_count": null,
      "outputs": []
    },
    {
      "cell_type": "code",
      "metadata": {
        "id": "IIMy6GUjeBMY",
        "colab_type": "code",
        "colab": {}
      },
      "source": [
        "frames = [pre,post]\n",
        "df = pd.concat(frames)\n",
        "df.shape"
      ],
      "execution_count": null,
      "outputs": []
    },
    {
      "cell_type": "code",
      "metadata": {
        "id": "mRV-0b-bfYKv",
        "colab_type": "code",
        "colab": {}
      },
      "source": [
        "df_comb = df.groupby(['Twitter_handle'])['Tweets'].agg(' '.join).reset_index(name='Tweets')\n",
        "df_comb.shape"
      ],
      "execution_count": null,
      "outputs": []
    },
    {
      "cell_type": "code",
      "metadata": {
        "id": "Etwleo9Ffpio",
        "colab_type": "code",
        "colab": {}
      },
      "source": [
        "df_comb.head()"
      ],
      "execution_count": null,
      "outputs": []
    },
    {
      "cell_type": "code",
      "metadata": {
        "id": "FffzXpN7f1d7",
        "colab_type": "code",
        "colab": {}
      },
      "source": [
        "df_comb.to_excel('pre_post_all_Tweets_combined.xlsx')\n",
        "files.download('pre_post_all_Tweets_combined.xlsx')"
      ],
      "execution_count": null,
      "outputs": []
    }
  ]
}