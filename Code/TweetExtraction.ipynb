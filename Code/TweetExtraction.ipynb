{
  "nbformat": 4,
  "nbformat_minor": 0,
  "metadata": {
    "colab": {
      "name": "TweetExtraction.ipynb",
      "provenance": [],
      "collapsed_sections": [],
      "include_colab_link": true
    },
    "kernelspec": {
      "name": "python3",
      "display_name": "Python 3"
    },
    "accelerator": "GPU"
  },
  "cells": [
    {
      "cell_type": "markdown",
      "metadata": {
        "id": "view-in-github",
        "colab_type": "text"
      },
      "source": [
        "<a href=\"https://colab.research.google.com/github/abhilashhn1993/depression-assessment-on-twitter/blob/Dragon/Code/TweetExtraction.ipynb\" target=\"_parent\"><img src=\"https://colab.research.google.com/assets/colab-badge.svg\" alt=\"Open In Colab\"/></a>"
      ]
    },
    {
      "cell_type": "markdown",
      "metadata": {
        "id": "qckhVTbf-uoW",
        "colab_type": "text"
      },
      "source": [
        "**Install GetOldTweets3 python library**"
      ]
    },
    {
      "cell_type": "code",
      "metadata": {
        "id": "o0YxvTi3DylN",
        "colab_type": "code",
        "colab": {}
      },
      "source": [
        "!pip install GetoldTweets3"
      ],
      "execution_count": 0,
      "outputs": []
    },
    {
      "cell_type": "code",
      "metadata": {
        "id": "e11wKpSXEXnZ",
        "colab_type": "code",
        "colab": {}
      },
      "source": [
        "import GetOldTweets3 as got\n",
        "import re\n",
        "import string\n",
        "import pandas as pd\n",
        "import numpy as np\n",
        "import datetime\n",
        "import os"
      ],
      "execution_count": 0,
      "outputs": []
    },
    {
      "cell_type": "markdown",
      "metadata": {
        "id": "2WOdfaO6-881",
        "colab_type": "text"
      },
      "source": [
        "Obtaining tweets based on keyword search"
      ]
    },
    {
      "cell_type": "code",
      "metadata": {
        "id": "Wes83hgqEYr5",
        "colab_type": "code",
        "colab": {}
      },
      "source": [
        "tweetCriteria = got.manager.TweetCriteria().setQuerySearch('diagnosed with Depression today')\\\n",
        "                                           .setSince(\"2020-01-01\")\\\n",
        "                                           .setUntil(\"2020-04-04\")\\\n",
        "                                           .setMaxTweets(200)\\\n",
        "                                           .setLang('en')\n",
        "tweet = got.manager.TweetManager.getTweets(tweetCriteria)\n"
      ],
      "execution_count": 0,
      "outputs": []
    },
    {
      "cell_type": "code",
      "metadata": {
        "id": "1dWN7sD_d84p",
        "colab_type": "code",
        "colab": {}
      },
      "source": [
        "len(tweet)"
      ],
      "execution_count": 0,
      "outputs": []
    },
    {
      "cell_type": "markdown",
      "metadata": {
        "id": "hnPzS3Hw_B7j",
        "colab_type": "text"
      },
      "source": [
        "**Saving the tweets into a csv**"
      ]
    },
    {
      "cell_type": "code",
      "metadata": {
        "id": "kWDOluGmy4PK",
        "colab_type": "code",
        "colab": {}
      },
      "source": [
        "import csv\n",
        "with open('/content/tweets_latest.csv', 'w') as csvFile:\n",
        "    fieldnames = ['Tweets', 'Username', 'date', 'handle', 'loc']\n",
        "    writer = csv.DictWriter(csvFile, fieldnames=fieldnames)\n",
        "    writer.writeheader()\n",
        "\n",
        "    for i in tweet:\n",
        "                     \n",
        "        # write the data to the file\n",
        "        writer.writerow({'Username': i.username, 'Tweets': i.text,  \n",
        "                         'date': i.date, 'handle': i.id, 'loc' : i.geo })"
      ],
      "execution_count": 0,
      "outputs": []
    },
    {
      "cell_type": "code",
      "metadata": {
        "id": "Q7PiY3dsp576",
        "colab_type": "code",
        "colab": {}
      },
      "source": [
        "tweetCriteria = got.manager.TweetCriteria().setQuerySearch('diagnosed with PTSD today')\\\n",
        "                                           .setSince(\"2019-08-08\")\\\n",
        "                                           .setUntil(\"2020-04-04\")\\\n",
        "                                           .setMaxTweets(1000)\\\n",
        "                                           .setLang('en')\n",
        "tweet3 = got.manager.TweetManager.getTweets(tweetCriteria)"
      ],
      "execution_count": 0,
      "outputs": []
    },
    {
      "cell_type": "code",
      "metadata": {
        "id": "P7aLNZqKNfKT",
        "colab_type": "code",
        "colab": {}
      },
      "source": [
        "import csv\n",
        "with open('/content/tweets2.csv', 'w') as csvFile:\n",
        "    fieldnames = ['Tweets', 'Username', 'date', 'hashtags']\n",
        "    writer = csv.DictWriter(csvFile, fieldnames=fieldnames)\n",
        "    writer.writeheader()\n",
        "\n",
        "    for i in tweet2:\n",
        "                     \n",
        "        # write the data to the file\n",
        "        writer.writerow({'Username': i.username, 'Tweets': i.text,  \n",
        "                         'date': i.formatted_date, 'hashtags': i.hashtags  })"
      ],
      "execution_count": 0,
      "outputs": []
    },
    {
      "cell_type": "markdown",
      "metadata": {
        "id": "0M0Izn90_uSK",
        "colab_type": "text"
      },
      "source": [
        "**Extracting Tweets based on usernames**"
      ]
    },
    {
      "cell_type": "markdown",
      "metadata": {
        "id": "ynM8gNvFAHXq",
        "colab_type": "text"
      },
      "source": [
        "Using a list \"batch\" to append all the usernames and extract the tweets from their account"
      ]
    },
    {
      "cell_type": "code",
      "metadata": {
        "id": "AMGWn3KWeC1q",
        "colab_type": "code",
        "colab": {}
      },
      "source": [
        " batch = [['@TheEmuEmi','2017-03-25','2018-03-25'],\n",
        "\t\t\t['@EugeniaLeigh','2017-02-01','2018-02-01'],\n",
        "\t\t\t\t['@vkhillier','2017-01-30','2018-01-30'],\n",
        "        \t\t\t\t['@raepkg','2017-01-29','2018-01-29'],        \n",
        "            \t\t\t\t['@VOIDHAYLEE','2017-01-28','2018-01-28'],\n",
        "                \t\t\t\t['@KTMummy','2017-01-24','2018-01-24']] "
      ],
      "execution_count": 0,
      "outputs": []
    },
    {
      "cell_type": "code",
      "metadata": {
        "id": "6XOj0Ch__3Hl",
        "colab_type": "code",
        "colab": {}
      },
      "source": [
        "#To import the users tweeets into a CSV file\n",
        "import csv\n",
        "with open('/content/tweets_of_PTSDUsers.csv', 'a') as csvFile:\n",
        "  fieldnames = ['Tweets', 'Username', 'date']\n",
        "  writer = csv.DictWriter(csvFile, fieldnames=fieldnames)\n",
        "  writer.writeheader()\n",
        "  for i in batch :\n",
        "      tweetCriteria = got.manager.TweetCriteria().setUsername(i[0])\\\n",
        "                                    .setSince(i[1])\\\n",
        "                                    .setUntil(i[2])\\\n",
        "                                    .setMaxTweets(2000)\\\n",
        "                                    .setLang('en')\n",
        "      tweet = got.manager.TweetManager.getTweets(tweetCriteria)\n",
        "      # outF = open(\"/content/tweets_FromUsers.csv\", \"a\")\n",
        "      for j in tweet:\n",
        "            \n",
        "          # write line to output file\n",
        "          writer.writerow({'Username': j.username, 'Tweets': j.text,'date': j.formatted_date })"
      ],
      "execution_count": 0,
      "outputs": []
    }
  ]
}