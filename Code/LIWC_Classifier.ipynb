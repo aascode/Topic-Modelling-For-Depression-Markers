{
  "nbformat": 4,
  "nbformat_minor": 0,
  "metadata": {
    "colab": {
      "name": "LIWC_Classifier.ipynb",
      "provenance": [],
      "collapsed_sections": [],
      "authorship_tag": "ABX9TyM80uWij5hKJFnusTCiOWgz",
      "include_colab_link": true
    },
    "kernelspec": {
      "name": "python3",
      "display_name": "Python 3"
    }
  },
  "cells": [
    {
      "cell_type": "markdown",
      "metadata": {
        "id": "view-in-github",
        "colab_type": "text"
      },
      "source": [
        "<a href=\"https://colab.research.google.com/github/abhilashhn1993/depression-assessment-on-twitter/blob/Dragon/Code/LIWC_Classifier.ipynb\" target=\"_parent\"><img src=\"https://colab.research.google.com/assets/colab-badge.svg\" alt=\"Open In Colab\"/></a>"
      ]
    },
    {
      "cell_type": "code",
      "metadata": {
        "id": "4Lcb6jHcHC0Y",
        "colab_type": "code",
        "colab": {}
      },
      "source": [
        "import re\n",
        "import string\n",
        "import pandas as pd\n",
        "import numpy as np\n",
        "import datetime\n",
        "import os\n",
        "import pandas as pd\n",
        "from collections import Counter"
      ],
      "execution_count": 102,
      "outputs": []
    },
    {
      "cell_type": "code",
      "metadata": {
        "id": "3BxBUhncI5FV",
        "colab_type": "code",
        "colab": {}
      },
      "source": [
        "from sklearn import model_selection, naive_bayes, svm\n",
        "from sklearn.metrics import accuracy_score, recall_score, precision_score\n",
        "from sklearn.metrics import classification_report"
      ],
      "execution_count": 103,
      "outputs": []
    },
    {
      "cell_type": "code",
      "metadata": {
        "id": "TTyJmAf65SF0",
        "colab_type": "code",
        "colab": {}
      },
      "source": [
        "from sklearn.svm import SVC  \n",
        "from sklearn.metrics import classification_report, confusion_matrix  \n",
        "from sklearn.model_selection import cross_val_score\n",
        "from sklearn.linear_model import LogisticRegression\n",
        "from sklearn import metrics\n",
        "from sklearn.metrics import classification_report\n",
        "from sklearn.metrics import precision_recall_fscore_support as score\n",
        "from sklearn.metrics import roc_auc_score\n",
        "from sklearn.metrics import roc_curve\n",
        "import matplotlib.pyplot as plt \n",
        "plt.rc(\"font\", size=14)"
      ],
      "execution_count": null,
      "outputs": []
    },
    {
      "cell_type": "code",
      "metadata": {
        "id": "y8va9ByCI6jT",
        "colab_type": "code",
        "colab": {
          "resources": {
            "http://localhost:8080/nbextensions/google.colab/files.js": {
              "data": "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",
              "ok": true,
              "headers": [
                [
                  "content-type",
                  "application/javascript"
                ]
              ],
              "status": 200,
              "status_text": ""
            }
          },
          "base_uri": "https://localhost:8080/",
          "height": 72
        },
        "outputId": "06d287c9-b2c7-43f3-d9aa-3f8dbdd0ee1e"
      },
      "source": [
        "from google.colab import files\n",
        "uploaded = files.upload()"
      ],
      "execution_count": 6,
      "outputs": [
        {
          "output_type": "display_data",
          "data": {
            "text/html": [
              "\n",
              "     <input type=\"file\" id=\"files-3c35ca86-2d7b-4a57-b6d3-83dec5e16b58\" name=\"files[]\" multiple disabled\n",
              "        style=\"border:none\" />\n",
              "     <output id=\"result-3c35ca86-2d7b-4a57-b6d3-83dec5e16b58\">\n",
              "      Upload widget is only available when the cell has been executed in the\n",
              "      current browser session. Please rerun this cell to enable.\n",
              "      </output>\n",
              "      <script src=\"/nbextensions/google.colab/files.js\"></script> "
            ],
            "text/plain": [
              "<IPython.core.display.HTML object>"
            ]
          },
          "metadata": {
            "tags": []
          }
        },
        {
          "output_type": "stream",
          "text": [
            "Saving Control_Dep_Only_LIWC_Features.xlsx to Control_Dep_Only_LIWC_Features.xlsx\n"
          ],
          "name": "stdout"
        }
      ]
    },
    {
      "cell_type": "code",
      "metadata": {
        "id": "ndWj-6chJBJL",
        "colab_type": "code",
        "colab": {}
      },
      "source": [
        "import io\n",
        "df_all = pd.read_excel(io.BytesIO(uploaded['Control_Dep_Only_LIWC_Features.xlsx']), sheet_name='CG_Dep_All_LIWC_features')\n",
        "df_sig10 = pd.read_excel(io.BytesIO(uploaded['Control_Dep_Only_LIWC_Features.xlsx']), sheet_name='CG_Dep_5-10%_LIWC_features')\n",
        "df_sig5 = pd.read_excel(io.BytesIO(uploaded['Control_Dep_Only_LIWC_Features.xlsx']), sheet_name='CG_Dep_Only_5%_LIWC_features')\n",
        "df_sig5_chosen = pd.read_excel(io.BytesIO(uploaded['Control_Dep_Only_LIWC_Features.xlsx']), sheet_name='CG_Dep_5%_chosen_LIWC_features')"
      ],
      "execution_count": 106,
      "outputs": []
    },
    {
      "cell_type": "markdown",
      "metadata": {
        "id": "-oegVcfK5FD0",
        "colab_type": "text"
      },
      "source": [
        "**All LIWC features**"
      ]
    },
    {
      "cell_type": "code",
      "metadata": {
        "id": "hrc_KbUyLED5",
        "colab_type": "code",
        "colab": {
          "base_uri": "https://localhost:8080/",
          "height": 253
        },
        "outputId": "ae453434-d370-4b12-887b-df371fe6a313"
      },
      "source": [
        "df_all.head()"
      ],
      "execution_count": 107,
      "outputs": [
        {
          "output_type": "execute_result",
          "data": {
            "text/html": [
              "<div>\n",
              "<style scoped>\n",
              "    .dataframe tbody tr th:only-of-type {\n",
              "        vertical-align: middle;\n",
              "    }\n",
              "\n",
              "    .dataframe tbody tr th {\n",
              "        vertical-align: top;\n",
              "    }\n",
              "\n",
              "    .dataframe thead th {\n",
              "        text-align: right;\n",
              "    }\n",
              "</style>\n",
              "<table border=\"1\" class=\"dataframe\">\n",
              "  <thead>\n",
              "    <tr style=\"text-align: right;\">\n",
              "      <th></th>\n",
              "      <th>Twitter_handle</th>\n",
              "      <th>WC</th>\n",
              "      <th>Analytic</th>\n",
              "      <th>Clout</th>\n",
              "      <th>Authentic</th>\n",
              "      <th>Tone</th>\n",
              "      <th>WPS</th>\n",
              "      <th>Sixltr</th>\n",
              "      <th>Dic</th>\n",
              "      <th>function</th>\n",
              "      <th>pronoun</th>\n",
              "      <th>ppron</th>\n",
              "      <th>i</th>\n",
              "      <th>we</th>\n",
              "      <th>you</th>\n",
              "      <th>shehe</th>\n",
              "      <th>they</th>\n",
              "      <th>ipron</th>\n",
              "      <th>article</th>\n",
              "      <th>prep</th>\n",
              "      <th>auxverb</th>\n",
              "      <th>adverb</th>\n",
              "      <th>conj</th>\n",
              "      <th>negate</th>\n",
              "      <th>verb</th>\n",
              "      <th>adj</th>\n",
              "      <th>compare</th>\n",
              "      <th>interrog</th>\n",
              "      <th>number</th>\n",
              "      <th>quant</th>\n",
              "      <th>affect</th>\n",
              "      <th>posemo</th>\n",
              "      <th>negemo</th>\n",
              "      <th>anx</th>\n",
              "      <th>anger</th>\n",
              "      <th>sad</th>\n",
              "      <th>social</th>\n",
              "      <th>family</th>\n",
              "      <th>friend</th>\n",
              "      <th>female</th>\n",
              "      <th>...</th>\n",
              "      <th>cause</th>\n",
              "      <th>discrep</th>\n",
              "      <th>tentat</th>\n",
              "      <th>certain</th>\n",
              "      <th>differ</th>\n",
              "      <th>percept</th>\n",
              "      <th>see</th>\n",
              "      <th>hear</th>\n",
              "      <th>feel</th>\n",
              "      <th>bio</th>\n",
              "      <th>body</th>\n",
              "      <th>health</th>\n",
              "      <th>sexual</th>\n",
              "      <th>ingest</th>\n",
              "      <th>drives</th>\n",
              "      <th>affiliation</th>\n",
              "      <th>achieve</th>\n",
              "      <th>power</th>\n",
              "      <th>reward</th>\n",
              "      <th>risk</th>\n",
              "      <th>focuspast</th>\n",
              "      <th>focuspresent</th>\n",
              "      <th>focusfuture</th>\n",
              "      <th>relativ</th>\n",
              "      <th>motion</th>\n",
              "      <th>space</th>\n",
              "      <th>time</th>\n",
              "      <th>work</th>\n",
              "      <th>leisure</th>\n",
              "      <th>home</th>\n",
              "      <th>money</th>\n",
              "      <th>relig</th>\n",
              "      <th>death</th>\n",
              "      <th>informal</th>\n",
              "      <th>swear</th>\n",
              "      <th>netspeak</th>\n",
              "      <th>assent</th>\n",
              "      <th>nonflu</th>\n",
              "      <th>filler</th>\n",
              "      <th>Target</th>\n",
              "    </tr>\n",
              "  </thead>\n",
              "  <tbody>\n",
              "    <tr>\n",
              "      <th>0</th>\n",
              "      <td>__Siiwe</td>\n",
              "      <td>4668</td>\n",
              "      <td>29.07</td>\n",
              "      <td>61.56</td>\n",
              "      <td>53.10</td>\n",
              "      <td>32.00</td>\n",
              "      <td>4668</td>\n",
              "      <td>12.72</td>\n",
              "      <td>90.47</td>\n",
              "      <td>55.01</td>\n",
              "      <td>19.75</td>\n",
              "      <td>13.45</td>\n",
              "      <td>7.35</td>\n",
              "      <td>0.75</td>\n",
              "      <td>2.66</td>\n",
              "      <td>1.63</td>\n",
              "      <td>1.07</td>\n",
              "      <td>6.30</td>\n",
              "      <td>4.61</td>\n",
              "      <td>10.26</td>\n",
              "      <td>10.30</td>\n",
              "      <td>6.58</td>\n",
              "      <td>4.88</td>\n",
              "      <td>2.01</td>\n",
              "      <td>18.92</td>\n",
              "      <td>3.45</td>\n",
              "      <td>1.48</td>\n",
              "      <td>2.57</td>\n",
              "      <td>0.84</td>\n",
              "      <td>1.69</td>\n",
              "      <td>6.36</td>\n",
              "      <td>3.34</td>\n",
              "      <td>2.98</td>\n",
              "      <td>0.36</td>\n",
              "      <td>1.26</td>\n",
              "      <td>0.81</td>\n",
              "      <td>13.43</td>\n",
              "      <td>0.71</td>\n",
              "      <td>1.37</td>\n",
              "      <td>1.44</td>\n",
              "      <td>...</td>\n",
              "      <td>2.29</td>\n",
              "      <td>2.19</td>\n",
              "      <td>2.29</td>\n",
              "      <td>1.86</td>\n",
              "      <td>3.64</td>\n",
              "      <td>2.91</td>\n",
              "      <td>1.39</td>\n",
              "      <td>0.77</td>\n",
              "      <td>0.58</td>\n",
              "      <td>2.63</td>\n",
              "      <td>0.84</td>\n",
              "      <td>0.96</td>\n",
              "      <td>0.32</td>\n",
              "      <td>0.56</td>\n",
              "      <td>7.50</td>\n",
              "      <td>2.55</td>\n",
              "      <td>1.46</td>\n",
              "      <td>2.40</td>\n",
              "      <td>1.33</td>\n",
              "      <td>0.49</td>\n",
              "      <td>3.68</td>\n",
              "      <td>13.41</td>\n",
              "      <td>0.99</td>\n",
              "      <td>12.06</td>\n",
              "      <td>1.71</td>\n",
              "      <td>4.84</td>\n",
              "      <td>5.66</td>\n",
              "      <td>2.27</td>\n",
              "      <td>0.94</td>\n",
              "      <td>0.69</td>\n",
              "      <td>1.31</td>\n",
              "      <td>0.39</td>\n",
              "      <td>0.49</td>\n",
              "      <td>2.46</td>\n",
              "      <td>0.90</td>\n",
              "      <td>1.37</td>\n",
              "      <td>0.24</td>\n",
              "      <td>0.21</td>\n",
              "      <td>0.00</td>\n",
              "      <td>1</td>\n",
              "    </tr>\n",
              "    <tr>\n",
              "      <th>1</th>\n",
              "      <td>_301yung</td>\n",
              "      <td>6755</td>\n",
              "      <td>56.31</td>\n",
              "      <td>51.66</td>\n",
              "      <td>66.39</td>\n",
              "      <td>28.97</td>\n",
              "      <td>6755</td>\n",
              "      <td>11.09</td>\n",
              "      <td>85.68</td>\n",
              "      <td>49.74</td>\n",
              "      <td>17.39</td>\n",
              "      <td>11.98</td>\n",
              "      <td>7.09</td>\n",
              "      <td>0.44</td>\n",
              "      <td>3.33</td>\n",
              "      <td>0.58</td>\n",
              "      <td>0.53</td>\n",
              "      <td>5.40</td>\n",
              "      <td>5.23</td>\n",
              "      <td>11.67</td>\n",
              "      <td>5.76</td>\n",
              "      <td>6.10</td>\n",
              "      <td>4.69</td>\n",
              "      <td>1.67</td>\n",
              "      <td>15.43</td>\n",
              "      <td>4.17</td>\n",
              "      <td>1.73</td>\n",
              "      <td>2.03</td>\n",
              "      <td>0.70</td>\n",
              "      <td>2.01</td>\n",
              "      <td>9.40</td>\n",
              "      <td>4.74</td>\n",
              "      <td>4.54</td>\n",
              "      <td>0.38</td>\n",
              "      <td>2.37</td>\n",
              "      <td>0.81</td>\n",
              "      <td>10.57</td>\n",
              "      <td>0.47</td>\n",
              "      <td>0.31</td>\n",
              "      <td>0.67</td>\n",
              "      <td>...</td>\n",
              "      <td>1.72</td>\n",
              "      <td>1.89</td>\n",
              "      <td>2.69</td>\n",
              "      <td>1.98</td>\n",
              "      <td>2.65</td>\n",
              "      <td>2.75</td>\n",
              "      <td>1.01</td>\n",
              "      <td>0.87</td>\n",
              "      <td>0.84</td>\n",
              "      <td>3.63</td>\n",
              "      <td>1.26</td>\n",
              "      <td>0.96</td>\n",
              "      <td>0.71</td>\n",
              "      <td>0.46</td>\n",
              "      <td>7.77</td>\n",
              "      <td>2.01</td>\n",
              "      <td>1.21</td>\n",
              "      <td>2.38</td>\n",
              "      <td>2.29</td>\n",
              "      <td>0.59</td>\n",
              "      <td>4.06</td>\n",
              "      <td>9.39</td>\n",
              "      <td>1.36</td>\n",
              "      <td>14.26</td>\n",
              "      <td>2.49</td>\n",
              "      <td>6.65</td>\n",
              "      <td>5.79</td>\n",
              "      <td>0.81</td>\n",
              "      <td>1.13</td>\n",
              "      <td>0.37</td>\n",
              "      <td>0.49</td>\n",
              "      <td>0.62</td>\n",
              "      <td>0.24</td>\n",
              "      <td>5.91</td>\n",
              "      <td>2.52</td>\n",
              "      <td>3.08</td>\n",
              "      <td>0.16</td>\n",
              "      <td>0.18</td>\n",
              "      <td>0.09</td>\n",
              "      <td>1</td>\n",
              "    </tr>\n",
              "    <tr>\n",
              "      <th>2</th>\n",
              "      <td>_illust0907</td>\n",
              "      <td>3563</td>\n",
              "      <td>51.88</td>\n",
              "      <td>62.97</td>\n",
              "      <td>36.23</td>\n",
              "      <td>69.17</td>\n",
              "      <td>3563</td>\n",
              "      <td>16.67</td>\n",
              "      <td>75.75</td>\n",
              "      <td>43.25</td>\n",
              "      <td>15.80</td>\n",
              "      <td>10.95</td>\n",
              "      <td>5.64</td>\n",
              "      <td>0.73</td>\n",
              "      <td>2.95</td>\n",
              "      <td>0.59</td>\n",
              "      <td>1.07</td>\n",
              "      <td>4.86</td>\n",
              "      <td>3.73</td>\n",
              "      <td>8.76</td>\n",
              "      <td>5.33</td>\n",
              "      <td>6.12</td>\n",
              "      <td>4.80</td>\n",
              "      <td>0.73</td>\n",
              "      <td>13.02</td>\n",
              "      <td>3.48</td>\n",
              "      <td>1.15</td>\n",
              "      <td>1.38</td>\n",
              "      <td>0.56</td>\n",
              "      <td>1.96</td>\n",
              "      <td>7.97</td>\n",
              "      <td>5.02</td>\n",
              "      <td>2.72</td>\n",
              "      <td>0.22</td>\n",
              "      <td>0.93</td>\n",
              "      <td>0.95</td>\n",
              "      <td>9.46</td>\n",
              "      <td>0.59</td>\n",
              "      <td>0.39</td>\n",
              "      <td>1.26</td>\n",
              "      <td>...</td>\n",
              "      <td>1.40</td>\n",
              "      <td>1.63</td>\n",
              "      <td>2.08</td>\n",
              "      <td>1.54</td>\n",
              "      <td>2.36</td>\n",
              "      <td>3.40</td>\n",
              "      <td>1.66</td>\n",
              "      <td>0.79</td>\n",
              "      <td>0.84</td>\n",
              "      <td>2.58</td>\n",
              "      <td>1.09</td>\n",
              "      <td>0.73</td>\n",
              "      <td>0.31</td>\n",
              "      <td>0.34</td>\n",
              "      <td>6.06</td>\n",
              "      <td>2.13</td>\n",
              "      <td>1.29</td>\n",
              "      <td>1.49</td>\n",
              "      <td>1.71</td>\n",
              "      <td>0.34</td>\n",
              "      <td>2.98</td>\n",
              "      <td>7.75</td>\n",
              "      <td>1.91</td>\n",
              "      <td>12.10</td>\n",
              "      <td>1.63</td>\n",
              "      <td>4.29</td>\n",
              "      <td>6.51</td>\n",
              "      <td>1.26</td>\n",
              "      <td>1.43</td>\n",
              "      <td>0.28</td>\n",
              "      <td>0.39</td>\n",
              "      <td>0.48</td>\n",
              "      <td>0.20</td>\n",
              "      <td>5.33</td>\n",
              "      <td>1.09</td>\n",
              "      <td>3.54</td>\n",
              "      <td>0.42</td>\n",
              "      <td>0.67</td>\n",
              "      <td>0.08</td>\n",
              "      <td>1</td>\n",
              "    </tr>\n",
              "    <tr>\n",
              "      <th>3</th>\n",
              "      <td>_niebohater</td>\n",
              "      <td>1054</td>\n",
              "      <td>54.01</td>\n",
              "      <td>35.55</td>\n",
              "      <td>77.44</td>\n",
              "      <td>80.72</td>\n",
              "      <td>1054</td>\n",
              "      <td>14.61</td>\n",
              "      <td>83.87</td>\n",
              "      <td>47.91</td>\n",
              "      <td>16.79</td>\n",
              "      <td>11.67</td>\n",
              "      <td>9.01</td>\n",
              "      <td>0.57</td>\n",
              "      <td>1.61</td>\n",
              "      <td>0.19</td>\n",
              "      <td>0.28</td>\n",
              "      <td>5.12</td>\n",
              "      <td>5.41</td>\n",
              "      <td>9.77</td>\n",
              "      <td>4.74</td>\n",
              "      <td>6.45</td>\n",
              "      <td>5.31</td>\n",
              "      <td>1.42</td>\n",
              "      <td>13.38</td>\n",
              "      <td>5.88</td>\n",
              "      <td>3.04</td>\n",
              "      <td>1.14</td>\n",
              "      <td>0.47</td>\n",
              "      <td>1.90</td>\n",
              "      <td>7.97</td>\n",
              "      <td>5.50</td>\n",
              "      <td>2.47</td>\n",
              "      <td>0.38</td>\n",
              "      <td>0.57</td>\n",
              "      <td>0.66</td>\n",
              "      <td>8.54</td>\n",
              "      <td>0.00</td>\n",
              "      <td>0.28</td>\n",
              "      <td>0.19</td>\n",
              "      <td>...</td>\n",
              "      <td>1.42</td>\n",
              "      <td>1.52</td>\n",
              "      <td>2.66</td>\n",
              "      <td>1.90</td>\n",
              "      <td>3.80</td>\n",
              "      <td>4.17</td>\n",
              "      <td>1.90</td>\n",
              "      <td>1.23</td>\n",
              "      <td>0.85</td>\n",
              "      <td>1.99</td>\n",
              "      <td>0.66</td>\n",
              "      <td>0.66</td>\n",
              "      <td>0.19</td>\n",
              "      <td>0.19</td>\n",
              "      <td>6.64</td>\n",
              "      <td>3.04</td>\n",
              "      <td>1.23</td>\n",
              "      <td>1.04</td>\n",
              "      <td>1.14</td>\n",
              "      <td>0.66</td>\n",
              "      <td>2.28</td>\n",
              "      <td>10.34</td>\n",
              "      <td>1.14</td>\n",
              "      <td>11.39</td>\n",
              "      <td>0.85</td>\n",
              "      <td>4.36</td>\n",
              "      <td>6.07</td>\n",
              "      <td>1.14</td>\n",
              "      <td>2.56</td>\n",
              "      <td>0.00</td>\n",
              "      <td>0.19</td>\n",
              "      <td>0.19</td>\n",
              "      <td>0.28</td>\n",
              "      <td>2.37</td>\n",
              "      <td>0.19</td>\n",
              "      <td>0.76</td>\n",
              "      <td>0.95</td>\n",
              "      <td>0.38</td>\n",
              "      <td>0.19</td>\n",
              "      <td>1</td>\n",
              "    </tr>\n",
              "    <tr>\n",
              "      <th>4</th>\n",
              "      <td>_Roxiesaunders</td>\n",
              "      <td>5248</td>\n",
              "      <td>26.86</td>\n",
              "      <td>56.29</td>\n",
              "      <td>58.77</td>\n",
              "      <td>51.82</td>\n",
              "      <td>5248</td>\n",
              "      <td>9.74</td>\n",
              "      <td>88.26</td>\n",
              "      <td>49.31</td>\n",
              "      <td>19.84</td>\n",
              "      <td>14.18</td>\n",
              "      <td>7.72</td>\n",
              "      <td>0.51</td>\n",
              "      <td>5.05</td>\n",
              "      <td>0.63</td>\n",
              "      <td>0.27</td>\n",
              "      <td>5.66</td>\n",
              "      <td>2.67</td>\n",
              "      <td>9.05</td>\n",
              "      <td>7.81</td>\n",
              "      <td>7.87</td>\n",
              "      <td>4.08</td>\n",
              "      <td>1.71</td>\n",
              "      <td>18.64</td>\n",
              "      <td>5.70</td>\n",
              "      <td>2.15</td>\n",
              "      <td>1.85</td>\n",
              "      <td>0.63</td>\n",
              "      <td>1.68</td>\n",
              "      <td>13.72</td>\n",
              "      <td>7.43</td>\n",
              "      <td>6.04</td>\n",
              "      <td>0.38</td>\n",
              "      <td>3.91</td>\n",
              "      <td>0.44</td>\n",
              "      <td>11.24</td>\n",
              "      <td>0.34</td>\n",
              "      <td>0.44</td>\n",
              "      <td>0.69</td>\n",
              "      <td>...</td>\n",
              "      <td>1.12</td>\n",
              "      <td>2.12</td>\n",
              "      <td>2.06</td>\n",
              "      <td>2.21</td>\n",
              "      <td>1.96</td>\n",
              "      <td>2.84</td>\n",
              "      <td>1.03</td>\n",
              "      <td>0.74</td>\n",
              "      <td>1.01</td>\n",
              "      <td>5.96</td>\n",
              "      <td>1.60</td>\n",
              "      <td>0.93</td>\n",
              "      <td>1.92</td>\n",
              "      <td>0.50</td>\n",
              "      <td>8.96</td>\n",
              "      <td>3.77</td>\n",
              "      <td>0.91</td>\n",
              "      <td>1.64</td>\n",
              "      <td>2.61</td>\n",
              "      <td>0.69</td>\n",
              "      <td>3.41</td>\n",
              "      <td>13.41</td>\n",
              "      <td>2.17</td>\n",
              "      <td>13.24</td>\n",
              "      <td>2.10</td>\n",
              "      <td>4.69</td>\n",
              "      <td>7.16</td>\n",
              "      <td>0.97</td>\n",
              "      <td>1.24</td>\n",
              "      <td>0.30</td>\n",
              "      <td>0.36</td>\n",
              "      <td>0.25</td>\n",
              "      <td>0.13</td>\n",
              "      <td>8.73</td>\n",
              "      <td>3.83</td>\n",
              "      <td>3.51</td>\n",
              "      <td>1.03</td>\n",
              "      <td>0.84</td>\n",
              "      <td>0.06</td>\n",
              "      <td>1</td>\n",
              "    </tr>\n",
              "  </tbody>\n",
              "</table>\n",
              "<p>5 rows × 83 columns</p>\n",
              "</div>"
            ],
            "text/plain": [
              "   Twitter_handle    WC  Analytic  Clout  ...  assent  nonflu  filler  Target\n",
              "0         __Siiwe  4668     29.07  61.56  ...    0.24    0.21    0.00       1\n",
              "1        _301yung  6755     56.31  51.66  ...    0.16    0.18    0.09       1\n",
              "2     _illust0907  3563     51.88  62.97  ...    0.42    0.67    0.08       1\n",
              "3     _niebohater  1054     54.01  35.55  ...    0.95    0.38    0.19       1\n",
              "4  _Roxiesaunders  5248     26.86  56.29  ...    1.03    0.84    0.06       1\n",
              "\n",
              "[5 rows x 83 columns]"
            ]
          },
          "metadata": {
            "tags": []
          },
          "execution_count": 107
        }
      ]
    },
    {
      "cell_type": "code",
      "metadata": {
        "id": "83tOxnIEM6wG",
        "colab_type": "code",
        "colab": {}
      },
      "source": [
        "#Leave out Twitter_handle column from the classifier \n",
        "df_all = df_all.drop(['Twitter_handle'], axis=1)"
      ],
      "execution_count": 108,
      "outputs": []
    },
    {
      "cell_type": "code",
      "metadata": {
        "id": "v5CaIyixd5lm",
        "colab_type": "code",
        "colab": {}
      },
      "source": [
        "features_for_modeling = list(range(0, df_all.shape[1]-1))"
      ],
      "execution_count": 109,
      "outputs": []
    },
    {
      "cell_type": "code",
      "metadata": {
        "id": "lXwm-RPnL8_l",
        "colab_type": "code",
        "colab": {
          "base_uri": "https://localhost:8080/",
          "height": 253
        },
        "outputId": "897e1449-82f1-453d-abd6-3f90831fe838"
      },
      "source": [
        "#Seperate Train and target from the dataframe\n",
        "df_all_train = df_all.iloc[:,features_for_modeling]\n",
        "df_all_train.head()"
      ],
      "execution_count": 110,
      "outputs": [
        {
          "output_type": "execute_result",
          "data": {
            "text/html": [
              "<div>\n",
              "<style scoped>\n",
              "    .dataframe tbody tr th:only-of-type {\n",
              "        vertical-align: middle;\n",
              "    }\n",
              "\n",
              "    .dataframe tbody tr th {\n",
              "        vertical-align: top;\n",
              "    }\n",
              "\n",
              "    .dataframe thead th {\n",
              "        text-align: right;\n",
              "    }\n",
              "</style>\n",
              "<table border=\"1\" class=\"dataframe\">\n",
              "  <thead>\n",
              "    <tr style=\"text-align: right;\">\n",
              "      <th></th>\n",
              "      <th>WC</th>\n",
              "      <th>Analytic</th>\n",
              "      <th>Clout</th>\n",
              "      <th>Authentic</th>\n",
              "      <th>Tone</th>\n",
              "      <th>WPS</th>\n",
              "      <th>Sixltr</th>\n",
              "      <th>Dic</th>\n",
              "      <th>function</th>\n",
              "      <th>pronoun</th>\n",
              "      <th>ppron</th>\n",
              "      <th>i</th>\n",
              "      <th>we</th>\n",
              "      <th>you</th>\n",
              "      <th>shehe</th>\n",
              "      <th>they</th>\n",
              "      <th>ipron</th>\n",
              "      <th>article</th>\n",
              "      <th>prep</th>\n",
              "      <th>auxverb</th>\n",
              "      <th>adverb</th>\n",
              "      <th>conj</th>\n",
              "      <th>negate</th>\n",
              "      <th>verb</th>\n",
              "      <th>adj</th>\n",
              "      <th>compare</th>\n",
              "      <th>interrog</th>\n",
              "      <th>number</th>\n",
              "      <th>quant</th>\n",
              "      <th>affect</th>\n",
              "      <th>posemo</th>\n",
              "      <th>negemo</th>\n",
              "      <th>anx</th>\n",
              "      <th>anger</th>\n",
              "      <th>sad</th>\n",
              "      <th>social</th>\n",
              "      <th>family</th>\n",
              "      <th>friend</th>\n",
              "      <th>female</th>\n",
              "      <th>male</th>\n",
              "      <th>...</th>\n",
              "      <th>insight</th>\n",
              "      <th>cause</th>\n",
              "      <th>discrep</th>\n",
              "      <th>tentat</th>\n",
              "      <th>certain</th>\n",
              "      <th>differ</th>\n",
              "      <th>percept</th>\n",
              "      <th>see</th>\n",
              "      <th>hear</th>\n",
              "      <th>feel</th>\n",
              "      <th>bio</th>\n",
              "      <th>body</th>\n",
              "      <th>health</th>\n",
              "      <th>sexual</th>\n",
              "      <th>ingest</th>\n",
              "      <th>drives</th>\n",
              "      <th>affiliation</th>\n",
              "      <th>achieve</th>\n",
              "      <th>power</th>\n",
              "      <th>reward</th>\n",
              "      <th>risk</th>\n",
              "      <th>focuspast</th>\n",
              "      <th>focuspresent</th>\n",
              "      <th>focusfuture</th>\n",
              "      <th>relativ</th>\n",
              "      <th>motion</th>\n",
              "      <th>space</th>\n",
              "      <th>time</th>\n",
              "      <th>work</th>\n",
              "      <th>leisure</th>\n",
              "      <th>home</th>\n",
              "      <th>money</th>\n",
              "      <th>relig</th>\n",
              "      <th>death</th>\n",
              "      <th>informal</th>\n",
              "      <th>swear</th>\n",
              "      <th>netspeak</th>\n",
              "      <th>assent</th>\n",
              "      <th>nonflu</th>\n",
              "      <th>filler</th>\n",
              "    </tr>\n",
              "  </thead>\n",
              "  <tbody>\n",
              "    <tr>\n",
              "      <th>0</th>\n",
              "      <td>4668</td>\n",
              "      <td>29.07</td>\n",
              "      <td>61.56</td>\n",
              "      <td>53.10</td>\n",
              "      <td>32.00</td>\n",
              "      <td>4668</td>\n",
              "      <td>12.72</td>\n",
              "      <td>90.47</td>\n",
              "      <td>55.01</td>\n",
              "      <td>19.75</td>\n",
              "      <td>13.45</td>\n",
              "      <td>7.35</td>\n",
              "      <td>0.75</td>\n",
              "      <td>2.66</td>\n",
              "      <td>1.63</td>\n",
              "      <td>1.07</td>\n",
              "      <td>6.30</td>\n",
              "      <td>4.61</td>\n",
              "      <td>10.26</td>\n",
              "      <td>10.30</td>\n",
              "      <td>6.58</td>\n",
              "      <td>4.88</td>\n",
              "      <td>2.01</td>\n",
              "      <td>18.92</td>\n",
              "      <td>3.45</td>\n",
              "      <td>1.48</td>\n",
              "      <td>2.57</td>\n",
              "      <td>0.84</td>\n",
              "      <td>1.69</td>\n",
              "      <td>6.36</td>\n",
              "      <td>3.34</td>\n",
              "      <td>2.98</td>\n",
              "      <td>0.36</td>\n",
              "      <td>1.26</td>\n",
              "      <td>0.81</td>\n",
              "      <td>13.43</td>\n",
              "      <td>0.71</td>\n",
              "      <td>1.37</td>\n",
              "      <td>1.44</td>\n",
              "      <td>2.06</td>\n",
              "      <td>...</td>\n",
              "      <td>2.23</td>\n",
              "      <td>2.29</td>\n",
              "      <td>2.19</td>\n",
              "      <td>2.29</td>\n",
              "      <td>1.86</td>\n",
              "      <td>3.64</td>\n",
              "      <td>2.91</td>\n",
              "      <td>1.39</td>\n",
              "      <td>0.77</td>\n",
              "      <td>0.58</td>\n",
              "      <td>2.63</td>\n",
              "      <td>0.84</td>\n",
              "      <td>0.96</td>\n",
              "      <td>0.32</td>\n",
              "      <td>0.56</td>\n",
              "      <td>7.50</td>\n",
              "      <td>2.55</td>\n",
              "      <td>1.46</td>\n",
              "      <td>2.40</td>\n",
              "      <td>1.33</td>\n",
              "      <td>0.49</td>\n",
              "      <td>3.68</td>\n",
              "      <td>13.41</td>\n",
              "      <td>0.99</td>\n",
              "      <td>12.06</td>\n",
              "      <td>1.71</td>\n",
              "      <td>4.84</td>\n",
              "      <td>5.66</td>\n",
              "      <td>2.27</td>\n",
              "      <td>0.94</td>\n",
              "      <td>0.69</td>\n",
              "      <td>1.31</td>\n",
              "      <td>0.39</td>\n",
              "      <td>0.49</td>\n",
              "      <td>2.46</td>\n",
              "      <td>0.90</td>\n",
              "      <td>1.37</td>\n",
              "      <td>0.24</td>\n",
              "      <td>0.21</td>\n",
              "      <td>0.00</td>\n",
              "    </tr>\n",
              "    <tr>\n",
              "      <th>1</th>\n",
              "      <td>6755</td>\n",
              "      <td>56.31</td>\n",
              "      <td>51.66</td>\n",
              "      <td>66.39</td>\n",
              "      <td>28.97</td>\n",
              "      <td>6755</td>\n",
              "      <td>11.09</td>\n",
              "      <td>85.68</td>\n",
              "      <td>49.74</td>\n",
              "      <td>17.39</td>\n",
              "      <td>11.98</td>\n",
              "      <td>7.09</td>\n",
              "      <td>0.44</td>\n",
              "      <td>3.33</td>\n",
              "      <td>0.58</td>\n",
              "      <td>0.53</td>\n",
              "      <td>5.40</td>\n",
              "      <td>5.23</td>\n",
              "      <td>11.67</td>\n",
              "      <td>5.76</td>\n",
              "      <td>6.10</td>\n",
              "      <td>4.69</td>\n",
              "      <td>1.67</td>\n",
              "      <td>15.43</td>\n",
              "      <td>4.17</td>\n",
              "      <td>1.73</td>\n",
              "      <td>2.03</td>\n",
              "      <td>0.70</td>\n",
              "      <td>2.01</td>\n",
              "      <td>9.40</td>\n",
              "      <td>4.74</td>\n",
              "      <td>4.54</td>\n",
              "      <td>0.38</td>\n",
              "      <td>2.37</td>\n",
              "      <td>0.81</td>\n",
              "      <td>10.57</td>\n",
              "      <td>0.47</td>\n",
              "      <td>0.31</td>\n",
              "      <td>0.67</td>\n",
              "      <td>1.38</td>\n",
              "      <td>...</td>\n",
              "      <td>2.01</td>\n",
              "      <td>1.72</td>\n",
              "      <td>1.89</td>\n",
              "      <td>2.69</td>\n",
              "      <td>1.98</td>\n",
              "      <td>2.65</td>\n",
              "      <td>2.75</td>\n",
              "      <td>1.01</td>\n",
              "      <td>0.87</td>\n",
              "      <td>0.84</td>\n",
              "      <td>3.63</td>\n",
              "      <td>1.26</td>\n",
              "      <td>0.96</td>\n",
              "      <td>0.71</td>\n",
              "      <td>0.46</td>\n",
              "      <td>7.77</td>\n",
              "      <td>2.01</td>\n",
              "      <td>1.21</td>\n",
              "      <td>2.38</td>\n",
              "      <td>2.29</td>\n",
              "      <td>0.59</td>\n",
              "      <td>4.06</td>\n",
              "      <td>9.39</td>\n",
              "      <td>1.36</td>\n",
              "      <td>14.26</td>\n",
              "      <td>2.49</td>\n",
              "      <td>6.65</td>\n",
              "      <td>5.79</td>\n",
              "      <td>0.81</td>\n",
              "      <td>1.13</td>\n",
              "      <td>0.37</td>\n",
              "      <td>0.49</td>\n",
              "      <td>0.62</td>\n",
              "      <td>0.24</td>\n",
              "      <td>5.91</td>\n",
              "      <td>2.52</td>\n",
              "      <td>3.08</td>\n",
              "      <td>0.16</td>\n",
              "      <td>0.18</td>\n",
              "      <td>0.09</td>\n",
              "    </tr>\n",
              "    <tr>\n",
              "      <th>2</th>\n",
              "      <td>3563</td>\n",
              "      <td>51.88</td>\n",
              "      <td>62.97</td>\n",
              "      <td>36.23</td>\n",
              "      <td>69.17</td>\n",
              "      <td>3563</td>\n",
              "      <td>16.67</td>\n",
              "      <td>75.75</td>\n",
              "      <td>43.25</td>\n",
              "      <td>15.80</td>\n",
              "      <td>10.95</td>\n",
              "      <td>5.64</td>\n",
              "      <td>0.73</td>\n",
              "      <td>2.95</td>\n",
              "      <td>0.59</td>\n",
              "      <td>1.07</td>\n",
              "      <td>4.86</td>\n",
              "      <td>3.73</td>\n",
              "      <td>8.76</td>\n",
              "      <td>5.33</td>\n",
              "      <td>6.12</td>\n",
              "      <td>4.80</td>\n",
              "      <td>0.73</td>\n",
              "      <td>13.02</td>\n",
              "      <td>3.48</td>\n",
              "      <td>1.15</td>\n",
              "      <td>1.38</td>\n",
              "      <td>0.56</td>\n",
              "      <td>1.96</td>\n",
              "      <td>7.97</td>\n",
              "      <td>5.02</td>\n",
              "      <td>2.72</td>\n",
              "      <td>0.22</td>\n",
              "      <td>0.93</td>\n",
              "      <td>0.95</td>\n",
              "      <td>9.46</td>\n",
              "      <td>0.59</td>\n",
              "      <td>0.39</td>\n",
              "      <td>1.26</td>\n",
              "      <td>0.25</td>\n",
              "      <td>...</td>\n",
              "      <td>1.01</td>\n",
              "      <td>1.40</td>\n",
              "      <td>1.63</td>\n",
              "      <td>2.08</td>\n",
              "      <td>1.54</td>\n",
              "      <td>2.36</td>\n",
              "      <td>3.40</td>\n",
              "      <td>1.66</td>\n",
              "      <td>0.79</td>\n",
              "      <td>0.84</td>\n",
              "      <td>2.58</td>\n",
              "      <td>1.09</td>\n",
              "      <td>0.73</td>\n",
              "      <td>0.31</td>\n",
              "      <td>0.34</td>\n",
              "      <td>6.06</td>\n",
              "      <td>2.13</td>\n",
              "      <td>1.29</td>\n",
              "      <td>1.49</td>\n",
              "      <td>1.71</td>\n",
              "      <td>0.34</td>\n",
              "      <td>2.98</td>\n",
              "      <td>7.75</td>\n",
              "      <td>1.91</td>\n",
              "      <td>12.10</td>\n",
              "      <td>1.63</td>\n",
              "      <td>4.29</td>\n",
              "      <td>6.51</td>\n",
              "      <td>1.26</td>\n",
              "      <td>1.43</td>\n",
              "      <td>0.28</td>\n",
              "      <td>0.39</td>\n",
              "      <td>0.48</td>\n",
              "      <td>0.20</td>\n",
              "      <td>5.33</td>\n",
              "      <td>1.09</td>\n",
              "      <td>3.54</td>\n",
              "      <td>0.42</td>\n",
              "      <td>0.67</td>\n",
              "      <td>0.08</td>\n",
              "    </tr>\n",
              "    <tr>\n",
              "      <th>3</th>\n",
              "      <td>1054</td>\n",
              "      <td>54.01</td>\n",
              "      <td>35.55</td>\n",
              "      <td>77.44</td>\n",
              "      <td>80.72</td>\n",
              "      <td>1054</td>\n",
              "      <td>14.61</td>\n",
              "      <td>83.87</td>\n",
              "      <td>47.91</td>\n",
              "      <td>16.79</td>\n",
              "      <td>11.67</td>\n",
              "      <td>9.01</td>\n",
              "      <td>0.57</td>\n",
              "      <td>1.61</td>\n",
              "      <td>0.19</td>\n",
              "      <td>0.28</td>\n",
              "      <td>5.12</td>\n",
              "      <td>5.41</td>\n",
              "      <td>9.77</td>\n",
              "      <td>4.74</td>\n",
              "      <td>6.45</td>\n",
              "      <td>5.31</td>\n",
              "      <td>1.42</td>\n",
              "      <td>13.38</td>\n",
              "      <td>5.88</td>\n",
              "      <td>3.04</td>\n",
              "      <td>1.14</td>\n",
              "      <td>0.47</td>\n",
              "      <td>1.90</td>\n",
              "      <td>7.97</td>\n",
              "      <td>5.50</td>\n",
              "      <td>2.47</td>\n",
              "      <td>0.38</td>\n",
              "      <td>0.57</td>\n",
              "      <td>0.66</td>\n",
              "      <td>8.54</td>\n",
              "      <td>0.00</td>\n",
              "      <td>0.28</td>\n",
              "      <td>0.19</td>\n",
              "      <td>0.57</td>\n",
              "      <td>...</td>\n",
              "      <td>3.04</td>\n",
              "      <td>1.42</td>\n",
              "      <td>1.52</td>\n",
              "      <td>2.66</td>\n",
              "      <td>1.90</td>\n",
              "      <td>3.80</td>\n",
              "      <td>4.17</td>\n",
              "      <td>1.90</td>\n",
              "      <td>1.23</td>\n",
              "      <td>0.85</td>\n",
              "      <td>1.99</td>\n",
              "      <td>0.66</td>\n",
              "      <td>0.66</td>\n",
              "      <td>0.19</td>\n",
              "      <td>0.19</td>\n",
              "      <td>6.64</td>\n",
              "      <td>3.04</td>\n",
              "      <td>1.23</td>\n",
              "      <td>1.04</td>\n",
              "      <td>1.14</td>\n",
              "      <td>0.66</td>\n",
              "      <td>2.28</td>\n",
              "      <td>10.34</td>\n",
              "      <td>1.14</td>\n",
              "      <td>11.39</td>\n",
              "      <td>0.85</td>\n",
              "      <td>4.36</td>\n",
              "      <td>6.07</td>\n",
              "      <td>1.14</td>\n",
              "      <td>2.56</td>\n",
              "      <td>0.00</td>\n",
              "      <td>0.19</td>\n",
              "      <td>0.19</td>\n",
              "      <td>0.28</td>\n",
              "      <td>2.37</td>\n",
              "      <td>0.19</td>\n",
              "      <td>0.76</td>\n",
              "      <td>0.95</td>\n",
              "      <td>0.38</td>\n",
              "      <td>0.19</td>\n",
              "    </tr>\n",
              "    <tr>\n",
              "      <th>4</th>\n",
              "      <td>5248</td>\n",
              "      <td>26.86</td>\n",
              "      <td>56.29</td>\n",
              "      <td>58.77</td>\n",
              "      <td>51.82</td>\n",
              "      <td>5248</td>\n",
              "      <td>9.74</td>\n",
              "      <td>88.26</td>\n",
              "      <td>49.31</td>\n",
              "      <td>19.84</td>\n",
              "      <td>14.18</td>\n",
              "      <td>7.72</td>\n",
              "      <td>0.51</td>\n",
              "      <td>5.05</td>\n",
              "      <td>0.63</td>\n",
              "      <td>0.27</td>\n",
              "      <td>5.66</td>\n",
              "      <td>2.67</td>\n",
              "      <td>9.05</td>\n",
              "      <td>7.81</td>\n",
              "      <td>7.87</td>\n",
              "      <td>4.08</td>\n",
              "      <td>1.71</td>\n",
              "      <td>18.64</td>\n",
              "      <td>5.70</td>\n",
              "      <td>2.15</td>\n",
              "      <td>1.85</td>\n",
              "      <td>0.63</td>\n",
              "      <td>1.68</td>\n",
              "      <td>13.72</td>\n",
              "      <td>7.43</td>\n",
              "      <td>6.04</td>\n",
              "      <td>0.38</td>\n",
              "      <td>3.91</td>\n",
              "      <td>0.44</td>\n",
              "      <td>11.24</td>\n",
              "      <td>0.34</td>\n",
              "      <td>0.44</td>\n",
              "      <td>0.69</td>\n",
              "      <td>0.34</td>\n",
              "      <td>...</td>\n",
              "      <td>2.15</td>\n",
              "      <td>1.12</td>\n",
              "      <td>2.12</td>\n",
              "      <td>2.06</td>\n",
              "      <td>2.21</td>\n",
              "      <td>1.96</td>\n",
              "      <td>2.84</td>\n",
              "      <td>1.03</td>\n",
              "      <td>0.74</td>\n",
              "      <td>1.01</td>\n",
              "      <td>5.96</td>\n",
              "      <td>1.60</td>\n",
              "      <td>0.93</td>\n",
              "      <td>1.92</td>\n",
              "      <td>0.50</td>\n",
              "      <td>8.96</td>\n",
              "      <td>3.77</td>\n",
              "      <td>0.91</td>\n",
              "      <td>1.64</td>\n",
              "      <td>2.61</td>\n",
              "      <td>0.69</td>\n",
              "      <td>3.41</td>\n",
              "      <td>13.41</td>\n",
              "      <td>2.17</td>\n",
              "      <td>13.24</td>\n",
              "      <td>2.10</td>\n",
              "      <td>4.69</td>\n",
              "      <td>7.16</td>\n",
              "      <td>0.97</td>\n",
              "      <td>1.24</td>\n",
              "      <td>0.30</td>\n",
              "      <td>0.36</td>\n",
              "      <td>0.25</td>\n",
              "      <td>0.13</td>\n",
              "      <td>8.73</td>\n",
              "      <td>3.83</td>\n",
              "      <td>3.51</td>\n",
              "      <td>1.03</td>\n",
              "      <td>0.84</td>\n",
              "      <td>0.06</td>\n",
              "    </tr>\n",
              "  </tbody>\n",
              "</table>\n",
              "<p>5 rows × 81 columns</p>\n",
              "</div>"
            ],
            "text/plain": [
              "     WC  Analytic  Clout  Authentic  ...  netspeak  assent  nonflu  filler\n",
              "0  4668     29.07  61.56      53.10  ...      1.37    0.24    0.21    0.00\n",
              "1  6755     56.31  51.66      66.39  ...      3.08    0.16    0.18    0.09\n",
              "2  3563     51.88  62.97      36.23  ...      3.54    0.42    0.67    0.08\n",
              "3  1054     54.01  35.55      77.44  ...      0.76    0.95    0.38    0.19\n",
              "4  5248     26.86  56.29      58.77  ...      3.51    1.03    0.84    0.06\n",
              "\n",
              "[5 rows x 81 columns]"
            ]
          },
          "metadata": {
            "tags": []
          },
          "execution_count": 110
        }
      ]
    },
    {
      "cell_type": "code",
      "metadata": {
        "id": "zvz4Zl5sMlO6",
        "colab_type": "code",
        "colab": {
          "base_uri": "https://localhost:8080/",
          "height": 204
        },
        "outputId": "85642b17-7baa-4d30-e416-064661782882"
      },
      "source": [
        "df_all_target = df_all.iloc[:,[df_all.shape[1]-1]]\n",
        "df_all_target.head()"
      ],
      "execution_count": 111,
      "outputs": [
        {
          "output_type": "execute_result",
          "data": {
            "text/html": [
              "<div>\n",
              "<style scoped>\n",
              "    .dataframe tbody tr th:only-of-type {\n",
              "        vertical-align: middle;\n",
              "    }\n",
              "\n",
              "    .dataframe tbody tr th {\n",
              "        vertical-align: top;\n",
              "    }\n",
              "\n",
              "    .dataframe thead th {\n",
              "        text-align: right;\n",
              "    }\n",
              "</style>\n",
              "<table border=\"1\" class=\"dataframe\">\n",
              "  <thead>\n",
              "    <tr style=\"text-align: right;\">\n",
              "      <th></th>\n",
              "      <th>Target</th>\n",
              "    </tr>\n",
              "  </thead>\n",
              "  <tbody>\n",
              "    <tr>\n",
              "      <th>0</th>\n",
              "      <td>1</td>\n",
              "    </tr>\n",
              "    <tr>\n",
              "      <th>1</th>\n",
              "      <td>1</td>\n",
              "    </tr>\n",
              "    <tr>\n",
              "      <th>2</th>\n",
              "      <td>1</td>\n",
              "    </tr>\n",
              "    <tr>\n",
              "      <th>3</th>\n",
              "      <td>1</td>\n",
              "    </tr>\n",
              "    <tr>\n",
              "      <th>4</th>\n",
              "      <td>1</td>\n",
              "    </tr>\n",
              "  </tbody>\n",
              "</table>\n",
              "</div>"
            ],
            "text/plain": [
              "   Target\n",
              "0       1\n",
              "1       1\n",
              "2       1\n",
              "3       1\n",
              "4       1"
            ]
          },
          "metadata": {
            "tags": []
          },
          "execution_count": 111
        }
      ]
    },
    {
      "cell_type": "markdown",
      "metadata": {
        "id": "9xHGHdV0O_OY",
        "colab_type": "text"
      },
      "source": [
        "**SVM Model with linear kernel**"
      ]
    },
    {
      "cell_type": "code",
      "metadata": {
        "id": "8fha--WOOGUy",
        "colab_type": "code",
        "colab": {
          "base_uri": "https://localhost:8080/",
          "height": 34
        },
        "outputId": "73ef435b-057e-4347-c0f4-4f5ebb5b4324"
      },
      "source": [
        "Train_X, Test_X, Train_Y, Test_Y = model_selection.train_test_split(df_all_train,df_all_target,test_size=0.3)\n",
        "sum(Test_Y['Target'] == 1)"
      ],
      "execution_count": 112,
      "outputs": [
        {
          "output_type": "execute_result",
          "data": {
            "text/plain": [
              "67"
            ]
          },
          "metadata": {
            "tags": []
          },
          "execution_count": 112
        }
      ]
    },
    {
      "cell_type": "code",
      "metadata": {
        "id": "ECk16fnUfH_R",
        "colab_type": "code",
        "colab": {
          "base_uri": "https://localhost:8080/",
          "height": 68
        },
        "outputId": "0a4da64f-5141-4293-cd83-b1a73520e83d"
      },
      "source": [
        "Train_Y.Target.value_counts()"
      ],
      "execution_count": 113,
      "outputs": [
        {
          "output_type": "execute_result",
          "data": {
            "text/plain": [
              "1    163\n",
              "0    159\n",
              "Name: Target, dtype: int64"
            ]
          },
          "metadata": {
            "tags": []
          },
          "execution_count": 113
        }
      ]
    },
    {
      "cell_type": "code",
      "metadata": {
        "id": "aiKwoRVTRA-Z",
        "colab_type": "code",
        "colab": {
          "base_uri": "https://localhost:8080/",
          "height": 139
        },
        "outputId": "d3deb9a3-25ca-40f9-b539-aac7c9f9c6c1"
      },
      "source": [
        "svclassifier = SVC(C= 1, kernel='linear', degree=3, gamma=\"auto\")\n",
        "svclassifier.fit(Train_X, Train_Y)"
      ],
      "execution_count": 116,
      "outputs": [
        {
          "output_type": "stream",
          "text": [
            "/usr/local/lib/python3.6/dist-packages/sklearn/utils/validation.py:760: DataConversionWarning: A column-vector y was passed when a 1d array was expected. Please change the shape of y to (n_samples, ), for example using ravel().\n",
            "  y = column_or_1d(y, warn=True)\n"
          ],
          "name": "stderr"
        },
        {
          "output_type": "execute_result",
          "data": {
            "text/plain": [
              "SVC(C=1, break_ties=False, cache_size=200, class_weight=None, coef0=0.0,\n",
              "    decision_function_shape='ovr', degree=3, gamma='auto', kernel='linear',\n",
              "    max_iter=-1, probability=False, random_state=None, shrinking=True,\n",
              "    tol=0.001, verbose=False)"
            ]
          },
          "metadata": {
            "tags": []
          },
          "execution_count": 116
        }
      ]
    },
    {
      "cell_type": "code",
      "metadata": {
        "id": "wNgfg6PhSNpU",
        "colab_type": "code",
        "colab": {
          "base_uri": "https://localhost:8080/",
          "height": 34
        },
        "outputId": "166d3b4d-3346-449a-d3e5-ae53407095ce"
      },
      "source": [
        "# Make prediction\n",
        "y_pred = svclassifier.predict(Test_X)\n",
        "# Evaluate our model\n",
        "print(\"Recall :\",recall_score(Test_Y['Target'],y_pred),\"Accuracy :\",accuracy_score(Test_Y['Target'],y_pred))"
      ],
      "execution_count": 117,
      "outputs": [
        {
          "output_type": "stream",
          "text": [
            "Recall : 0.7611940298507462 Accuracy : 0.7463768115942029\n"
          ],
          "name": "stdout"
        }
      ]
    },
    {
      "cell_type": "markdown",
      "metadata": {
        "id": "ZCadqTbrmxlO",
        "colab_type": "text"
      },
      "source": [
        "**Logistic Regression**"
      ]
    },
    {
      "cell_type": "code",
      "metadata": {
        "id": "PmKEamHRmw5z",
        "colab_type": "code",
        "colab": {
          "base_uri": "https://localhost:8080/",
          "height": 156
        },
        "outputId": "889dfc73-2316-48e8-8aff-dba0a5bf88f3"
      },
      "source": [
        "logreg = LogisticRegression(max_iter=100000)\n",
        "logreg.fit(Train_X, Train_Y)"
      ],
      "execution_count": 118,
      "outputs": [
        {
          "output_type": "stream",
          "text": [
            "/usr/local/lib/python3.6/dist-packages/sklearn/utils/validation.py:760: DataConversionWarning: A column-vector y was passed when a 1d array was expected. Please change the shape of y to (n_samples, ), for example using ravel().\n",
            "  y = column_or_1d(y, warn=True)\n"
          ],
          "name": "stderr"
        },
        {
          "output_type": "execute_result",
          "data": {
            "text/plain": [
              "LogisticRegression(C=1.0, class_weight=None, dual=False, fit_intercept=True,\n",
              "                   intercept_scaling=1, l1_ratio=None, max_iter=100000,\n",
              "                   multi_class='auto', n_jobs=None, penalty='l2',\n",
              "                   random_state=None, solver='lbfgs', tol=0.0001, verbose=0,\n",
              "                   warm_start=False)"
            ]
          },
          "metadata": {
            "tags": []
          },
          "execution_count": 118
        }
      ]
    },
    {
      "cell_type": "code",
      "metadata": {
        "id": "Hrq4_4fKm2O-",
        "colab_type": "code",
        "colab": {
          "base_uri": "https://localhost:8080/",
          "height": 34
        },
        "outputId": "56afa9e2-fda5-4cf7-dde7-25aacc0e6ee1"
      },
      "source": [
        "y_pred = logreg.predict(Test_X)\n",
        "print('Accuracy of logistic regression classifier on test set: {:.2f}'.format(logreg.score(Test_X, Test_Y)))"
      ],
      "execution_count": 119,
      "outputs": [
        {
          "output_type": "stream",
          "text": [
            "Accuracy of logistic regression classifier on test set: 0.76\n"
          ],
          "name": "stdout"
        }
      ]
    },
    {
      "cell_type": "code",
      "metadata": {
        "id": "iKCa7b5hm2Rv",
        "colab_type": "code",
        "colab": {
          "base_uri": "https://localhost:8080/",
          "height": 170
        },
        "outputId": "8177d1d6-8fcf-492c-83d9-c0a09876db4c"
      },
      "source": [
        "print(classification_report(Test_Y, y_pred))"
      ],
      "execution_count": 120,
      "outputs": [
        {
          "output_type": "stream",
          "text": [
            "              precision    recall  f1-score   support\n",
            "\n",
            "           0       0.77      0.76      0.77        71\n",
            "           1       0.75      0.76      0.76        67\n",
            "\n",
            "    accuracy                           0.76       138\n",
            "   macro avg       0.76      0.76      0.76       138\n",
            "weighted avg       0.76      0.76      0.76       138\n",
            "\n"
          ],
          "name": "stdout"
        }
      ]
    },
    {
      "cell_type": "code",
      "metadata": {
        "id": "egKSBf4sro6D",
        "colab_type": "code",
        "colab": {
          "base_uri": "https://localhost:8080/",
          "height": 34
        },
        "outputId": "09054d8d-eaca-4230-f08c-beb8c75ebd99"
      },
      "source": [
        "precision, recall, fscore, support = score(Test_Y, y_pred)\n",
        "print((recall))"
      ],
      "execution_count": 121,
      "outputs": [
        {
          "output_type": "stream",
          "text": [
            "[0.76056338 0.76119403]\n"
          ],
          "name": "stdout"
        }
      ]
    },
    {
      "cell_type": "code",
      "metadata": {
        "id": "z_yXugywm-tT",
        "colab_type": "code",
        "colab": {
          "base_uri": "https://localhost:8080/",
          "height": 307
        },
        "outputId": "8bf49a2f-e891-44dc-9c0c-3284152613cb"
      },
      "source": [
        "logit_roc_auc = roc_auc_score(Test_Y, logreg.predict(Test_X))\n",
        "fpr, tpr, thresholds = roc_curve(Test_Y, logreg.predict_proba(Test_X)[:,1])\n",
        "plt.figure()\n",
        "plt.plot(fpr, tpr, label='Logistic Regression (area = %0.2f)' % logit_roc_auc)\n",
        "plt.plot([0, 1], [0, 1],'r--')\n",
        "plt.xlim([0.0, 1.0])\n",
        "plt.ylim([0.0, 1.05])\n",
        "plt.xlabel('False Positive Rate')\n",
        "plt.ylabel('True Positive Rate')\n",
        "plt.title('Receiver operating characteristic')\n",
        "plt.legend(loc=\"lower right\")\n",
        "plt.savefig('Log_ROC')\n",
        "plt.show()"
      ],
      "execution_count": 122,
      "outputs": [
        {
          "output_type": "display_data",
          "data": {
            "image/png": "[encoded data removed]",
            "text/plain": [
              "<Figure size 432x288 with 1 Axes>"
            ]
          },
          "metadata": {
            "tags": [],
            "needs_background": "light"
          }
        }
      ]
    },
    {
      "cell_type": "markdown",
      "metadata": {
        "id": "6Vm1ZvAFWozU",
        "colab_type": "text"
      },
      "source": [
        "**LIWC features with 10% significance level**"
      ]
    },
    {
      "cell_type": "code",
      "metadata": {
        "id": "_c1-D1AfWtkR",
        "colab_type": "code",
        "colab": {
          "base_uri": "https://localhost:8080/",
          "height": 224
        },
        "outputId": "089c33f4-fedc-4cfa-85d7-93ccb1fabbb9"
      },
      "source": [
        "df_sig10.head()"
      ],
      "execution_count": 123,
      "outputs": [
        {
          "output_type": "execute_result",
          "data": {
            "text/html": [
              "<div>\n",
              "<style scoped>\n",
              "    .dataframe tbody tr th:only-of-type {\n",
              "        vertical-align: middle;\n",
              "    }\n",
              "\n",
              "    .dataframe tbody tr th {\n",
              "        vertical-align: top;\n",
              "    }\n",
              "\n",
              "    .dataframe thead th {\n",
              "        text-align: right;\n",
              "    }\n",
              "</style>\n",
              "<table border=\"1\" class=\"dataframe\">\n",
              "  <thead>\n",
              "    <tr style=\"text-align: right;\">\n",
              "      <th></th>\n",
              "      <th>Twitter_handle</th>\n",
              "      <th>WC</th>\n",
              "      <th>Analytic</th>\n",
              "      <th>Clout</th>\n",
              "      <th>Authentic</th>\n",
              "      <th>Tone</th>\n",
              "      <th>WPS</th>\n",
              "      <th>Dic</th>\n",
              "      <th>function</th>\n",
              "      <th>pronoun</th>\n",
              "      <th>ppron</th>\n",
              "      <th>i</th>\n",
              "      <th>shehe</th>\n",
              "      <th>they</th>\n",
              "      <th>prep</th>\n",
              "      <th>auxverb</th>\n",
              "      <th>adverb</th>\n",
              "      <th>conj</th>\n",
              "      <th>verb</th>\n",
              "      <th>adj</th>\n",
              "      <th>compare</th>\n",
              "      <th>number</th>\n",
              "      <th>quant</th>\n",
              "      <th>affect</th>\n",
              "      <th>negemo</th>\n",
              "      <th>anx</th>\n",
              "      <th>anger</th>\n",
              "      <th>sad</th>\n",
              "      <th>friend</th>\n",
              "      <th>cogproc</th>\n",
              "      <th>insight</th>\n",
              "      <th>cause</th>\n",
              "      <th>discrep</th>\n",
              "      <th>tentat</th>\n",
              "      <th>certain</th>\n",
              "      <th>differ</th>\n",
              "      <th>feel</th>\n",
              "      <th>bio</th>\n",
              "      <th>body</th>\n",
              "      <th>health</th>\n",
              "      <th>sexual</th>\n",
              "      <th>affiliation</th>\n",
              "      <th>achieve</th>\n",
              "      <th>power</th>\n",
              "      <th>risk</th>\n",
              "      <th>focuspast</th>\n",
              "      <th>focuspresent</th>\n",
              "      <th>focusfuture</th>\n",
              "      <th>time</th>\n",
              "      <th>death</th>\n",
              "      <th>informal</th>\n",
              "      <th>swear</th>\n",
              "      <th>filler</th>\n",
              "      <th>Target</th>\n",
              "    </tr>\n",
              "  </thead>\n",
              "  <tbody>\n",
              "    <tr>\n",
              "      <th>0</th>\n",
              "      <td>__Siiwe</td>\n",
              "      <td>4668</td>\n",
              "      <td>29.07</td>\n",
              "      <td>61.56</td>\n",
              "      <td>53.10</td>\n",
              "      <td>32.00</td>\n",
              "      <td>4668</td>\n",
              "      <td>90.47</td>\n",
              "      <td>55.01</td>\n",
              "      <td>19.75</td>\n",
              "      <td>13.45</td>\n",
              "      <td>7.35</td>\n",
              "      <td>1.63</td>\n",
              "      <td>1.07</td>\n",
              "      <td>10.26</td>\n",
              "      <td>10.30</td>\n",
              "      <td>6.58</td>\n",
              "      <td>4.88</td>\n",
              "      <td>18.92</td>\n",
              "      <td>3.45</td>\n",
              "      <td>1.48</td>\n",
              "      <td>0.84</td>\n",
              "      <td>1.69</td>\n",
              "      <td>6.36</td>\n",
              "      <td>2.98</td>\n",
              "      <td>0.36</td>\n",
              "      <td>1.26</td>\n",
              "      <td>0.81</td>\n",
              "      <td>1.37</td>\n",
              "      <td>12.55</td>\n",
              "      <td>2.23</td>\n",
              "      <td>2.29</td>\n",
              "      <td>2.19</td>\n",
              "      <td>2.29</td>\n",
              "      <td>1.86</td>\n",
              "      <td>3.64</td>\n",
              "      <td>0.58</td>\n",
              "      <td>2.63</td>\n",
              "      <td>0.84</td>\n",
              "      <td>0.96</td>\n",
              "      <td>0.32</td>\n",
              "      <td>2.55</td>\n",
              "      <td>1.46</td>\n",
              "      <td>2.40</td>\n",
              "      <td>0.49</td>\n",
              "      <td>3.68</td>\n",
              "      <td>13.41</td>\n",
              "      <td>0.99</td>\n",
              "      <td>5.66</td>\n",
              "      <td>0.49</td>\n",
              "      <td>2.46</td>\n",
              "      <td>0.90</td>\n",
              "      <td>0.00</td>\n",
              "      <td>1</td>\n",
              "    </tr>\n",
              "    <tr>\n",
              "      <th>1</th>\n",
              "      <td>_301yung</td>\n",
              "      <td>6755</td>\n",
              "      <td>56.31</td>\n",
              "      <td>51.66</td>\n",
              "      <td>66.39</td>\n",
              "      <td>28.97</td>\n",
              "      <td>6755</td>\n",
              "      <td>85.68</td>\n",
              "      <td>49.74</td>\n",
              "      <td>17.39</td>\n",
              "      <td>11.98</td>\n",
              "      <td>7.09</td>\n",
              "      <td>0.58</td>\n",
              "      <td>0.53</td>\n",
              "      <td>11.67</td>\n",
              "      <td>5.76</td>\n",
              "      <td>6.10</td>\n",
              "      <td>4.69</td>\n",
              "      <td>15.43</td>\n",
              "      <td>4.17</td>\n",
              "      <td>1.73</td>\n",
              "      <td>0.70</td>\n",
              "      <td>2.01</td>\n",
              "      <td>9.40</td>\n",
              "      <td>4.54</td>\n",
              "      <td>0.38</td>\n",
              "      <td>2.37</td>\n",
              "      <td>0.81</td>\n",
              "      <td>0.31</td>\n",
              "      <td>11.47</td>\n",
              "      <td>2.01</td>\n",
              "      <td>1.72</td>\n",
              "      <td>1.89</td>\n",
              "      <td>2.69</td>\n",
              "      <td>1.98</td>\n",
              "      <td>2.65</td>\n",
              "      <td>0.84</td>\n",
              "      <td>3.63</td>\n",
              "      <td>1.26</td>\n",
              "      <td>0.96</td>\n",
              "      <td>0.71</td>\n",
              "      <td>2.01</td>\n",
              "      <td>1.21</td>\n",
              "      <td>2.38</td>\n",
              "      <td>0.59</td>\n",
              "      <td>4.06</td>\n",
              "      <td>9.39</td>\n",
              "      <td>1.36</td>\n",
              "      <td>5.79</td>\n",
              "      <td>0.24</td>\n",
              "      <td>5.91</td>\n",
              "      <td>2.52</td>\n",
              "      <td>0.09</td>\n",
              "      <td>1</td>\n",
              "    </tr>\n",
              "    <tr>\n",
              "      <th>2</th>\n",
              "      <td>_illust0907</td>\n",
              "      <td>3563</td>\n",
              "      <td>51.88</td>\n",
              "      <td>62.97</td>\n",
              "      <td>36.23</td>\n",
              "      <td>69.17</td>\n",
              "      <td>3563</td>\n",
              "      <td>75.75</td>\n",
              "      <td>43.25</td>\n",
              "      <td>15.80</td>\n",
              "      <td>10.95</td>\n",
              "      <td>5.64</td>\n",
              "      <td>0.59</td>\n",
              "      <td>1.07</td>\n",
              "      <td>8.76</td>\n",
              "      <td>5.33</td>\n",
              "      <td>6.12</td>\n",
              "      <td>4.80</td>\n",
              "      <td>13.02</td>\n",
              "      <td>3.48</td>\n",
              "      <td>1.15</td>\n",
              "      <td>0.56</td>\n",
              "      <td>1.96</td>\n",
              "      <td>7.97</td>\n",
              "      <td>2.72</td>\n",
              "      <td>0.22</td>\n",
              "      <td>0.93</td>\n",
              "      <td>0.95</td>\n",
              "      <td>0.39</td>\n",
              "      <td>8.67</td>\n",
              "      <td>1.01</td>\n",
              "      <td>1.40</td>\n",
              "      <td>1.63</td>\n",
              "      <td>2.08</td>\n",
              "      <td>1.54</td>\n",
              "      <td>2.36</td>\n",
              "      <td>0.84</td>\n",
              "      <td>2.58</td>\n",
              "      <td>1.09</td>\n",
              "      <td>0.73</td>\n",
              "      <td>0.31</td>\n",
              "      <td>2.13</td>\n",
              "      <td>1.29</td>\n",
              "      <td>1.49</td>\n",
              "      <td>0.34</td>\n",
              "      <td>2.98</td>\n",
              "      <td>7.75</td>\n",
              "      <td>1.91</td>\n",
              "      <td>6.51</td>\n",
              "      <td>0.20</td>\n",
              "      <td>5.33</td>\n",
              "      <td>1.09</td>\n",
              "      <td>0.08</td>\n",
              "      <td>1</td>\n",
              "    </tr>\n",
              "    <tr>\n",
              "      <th>3</th>\n",
              "      <td>_niebohater</td>\n",
              "      <td>1054</td>\n",
              "      <td>54.01</td>\n",
              "      <td>35.55</td>\n",
              "      <td>77.44</td>\n",
              "      <td>80.72</td>\n",
              "      <td>1054</td>\n",
              "      <td>83.87</td>\n",
              "      <td>47.91</td>\n",
              "      <td>16.79</td>\n",
              "      <td>11.67</td>\n",
              "      <td>9.01</td>\n",
              "      <td>0.19</td>\n",
              "      <td>0.28</td>\n",
              "      <td>9.77</td>\n",
              "      <td>4.74</td>\n",
              "      <td>6.45</td>\n",
              "      <td>5.31</td>\n",
              "      <td>13.38</td>\n",
              "      <td>5.88</td>\n",
              "      <td>3.04</td>\n",
              "      <td>0.47</td>\n",
              "      <td>1.90</td>\n",
              "      <td>7.97</td>\n",
              "      <td>2.47</td>\n",
              "      <td>0.38</td>\n",
              "      <td>0.57</td>\n",
              "      <td>0.66</td>\n",
              "      <td>0.28</td>\n",
              "      <td>13.09</td>\n",
              "      <td>3.04</td>\n",
              "      <td>1.42</td>\n",
              "      <td>1.52</td>\n",
              "      <td>2.66</td>\n",
              "      <td>1.90</td>\n",
              "      <td>3.80</td>\n",
              "      <td>0.85</td>\n",
              "      <td>1.99</td>\n",
              "      <td>0.66</td>\n",
              "      <td>0.66</td>\n",
              "      <td>0.19</td>\n",
              "      <td>3.04</td>\n",
              "      <td>1.23</td>\n",
              "      <td>1.04</td>\n",
              "      <td>0.66</td>\n",
              "      <td>2.28</td>\n",
              "      <td>10.34</td>\n",
              "      <td>1.14</td>\n",
              "      <td>6.07</td>\n",
              "      <td>0.28</td>\n",
              "      <td>2.37</td>\n",
              "      <td>0.19</td>\n",
              "      <td>0.19</td>\n",
              "      <td>1</td>\n",
              "    </tr>\n",
              "    <tr>\n",
              "      <th>4</th>\n",
              "      <td>_Roxiesaunders</td>\n",
              "      <td>5248</td>\n",
              "      <td>26.86</td>\n",
              "      <td>56.29</td>\n",
              "      <td>58.77</td>\n",
              "      <td>51.82</td>\n",
              "      <td>5248</td>\n",
              "      <td>88.26</td>\n",
              "      <td>49.31</td>\n",
              "      <td>19.84</td>\n",
              "      <td>14.18</td>\n",
              "      <td>7.72</td>\n",
              "      <td>0.63</td>\n",
              "      <td>0.27</td>\n",
              "      <td>9.05</td>\n",
              "      <td>7.81</td>\n",
              "      <td>7.87</td>\n",
              "      <td>4.08</td>\n",
              "      <td>18.64</td>\n",
              "      <td>5.70</td>\n",
              "      <td>2.15</td>\n",
              "      <td>0.63</td>\n",
              "      <td>1.68</td>\n",
              "      <td>13.72</td>\n",
              "      <td>6.04</td>\n",
              "      <td>0.38</td>\n",
              "      <td>3.91</td>\n",
              "      <td>0.44</td>\n",
              "      <td>0.44</td>\n",
              "      <td>10.58</td>\n",
              "      <td>2.15</td>\n",
              "      <td>1.12</td>\n",
              "      <td>2.12</td>\n",
              "      <td>2.06</td>\n",
              "      <td>2.21</td>\n",
              "      <td>1.96</td>\n",
              "      <td>1.01</td>\n",
              "      <td>5.96</td>\n",
              "      <td>1.60</td>\n",
              "      <td>0.93</td>\n",
              "      <td>1.92</td>\n",
              "      <td>3.77</td>\n",
              "      <td>0.91</td>\n",
              "      <td>1.64</td>\n",
              "      <td>0.69</td>\n",
              "      <td>3.41</td>\n",
              "      <td>13.41</td>\n",
              "      <td>2.17</td>\n",
              "      <td>7.16</td>\n",
              "      <td>0.13</td>\n",
              "      <td>8.73</td>\n",
              "      <td>3.83</td>\n",
              "      <td>0.06</td>\n",
              "      <td>1</td>\n",
              "    </tr>\n",
              "  </tbody>\n",
              "</table>\n",
              "</div>"
            ],
            "text/plain": [
              "   Twitter_handle    WC  Analytic  Clout  ...  informal  swear  filler  Target\n",
              "0         __Siiwe  4668     29.07  61.56  ...      2.46   0.90    0.00       1\n",
              "1        _301yung  6755     56.31  51.66  ...      5.91   2.52    0.09       1\n",
              "2     _illust0907  3563     51.88  62.97  ...      5.33   1.09    0.08       1\n",
              "3     _niebohater  1054     54.01  35.55  ...      2.37   0.19    0.19       1\n",
              "4  _Roxiesaunders  5248     26.86  56.29  ...      8.73   3.83    0.06       1\n",
              "\n",
              "[5 rows x 54 columns]"
            ]
          },
          "metadata": {
            "tags": []
          },
          "execution_count": 123
        }
      ]
    },
    {
      "cell_type": "code",
      "metadata": {
        "id": "JNBSj8dCW0n6",
        "colab_type": "code",
        "colab": {}
      },
      "source": [
        "#Leave out Twitter_handle column from the classifier \n",
        "df_sig10 = df_sig10.drop(['Twitter_handle'], axis=1)"
      ],
      "execution_count": 124,
      "outputs": []
    },
    {
      "cell_type": "code",
      "metadata": {
        "id": "mIHi7rojnUzQ",
        "colab_type": "code",
        "colab": {}
      },
      "source": [
        "features_for_modeling = list(range(0, df_sig10.shape[1]-1))"
      ],
      "execution_count": 125,
      "outputs": []
    },
    {
      "cell_type": "code",
      "metadata": {
        "id": "BnbFeEwmXCGF",
        "colab_type": "code",
        "colab": {
          "base_uri": "https://localhost:8080/",
          "height": 224
        },
        "outputId": "484157e3-a82a-489c-a7da-436f9c43e9e6"
      },
      "source": [
        "#Seperate Train and target from the dataframe\n",
        "df_sig10_train = df_sig10.iloc[:,features_for_modeling]\n",
        "df_sig10_train.head()"
      ],
      "execution_count": 126,
      "outputs": [
        {
          "output_type": "execute_result",
          "data": {
            "text/html": [
              "<div>\n",
              "<style scoped>\n",
              "    .dataframe tbody tr th:only-of-type {\n",
              "        vertical-align: middle;\n",
              "    }\n",
              "\n",
              "    .dataframe tbody tr th {\n",
              "        vertical-align: top;\n",
              "    }\n",
              "\n",
              "    .dataframe thead th {\n",
              "        text-align: right;\n",
              "    }\n",
              "</style>\n",
              "<table border=\"1\" class=\"dataframe\">\n",
              "  <thead>\n",
              "    <tr style=\"text-align: right;\">\n",
              "      <th></th>\n",
              "      <th>WC</th>\n",
              "      <th>Analytic</th>\n",
              "      <th>Clout</th>\n",
              "      <th>Authentic</th>\n",
              "      <th>Tone</th>\n",
              "      <th>WPS</th>\n",
              "      <th>Dic</th>\n",
              "      <th>function</th>\n",
              "      <th>pronoun</th>\n",
              "      <th>ppron</th>\n",
              "      <th>i</th>\n",
              "      <th>shehe</th>\n",
              "      <th>they</th>\n",
              "      <th>prep</th>\n",
              "      <th>auxverb</th>\n",
              "      <th>adverb</th>\n",
              "      <th>conj</th>\n",
              "      <th>verb</th>\n",
              "      <th>adj</th>\n",
              "      <th>compare</th>\n",
              "      <th>number</th>\n",
              "      <th>quant</th>\n",
              "      <th>affect</th>\n",
              "      <th>negemo</th>\n",
              "      <th>anx</th>\n",
              "      <th>anger</th>\n",
              "      <th>sad</th>\n",
              "      <th>friend</th>\n",
              "      <th>cogproc</th>\n",
              "      <th>insight</th>\n",
              "      <th>cause</th>\n",
              "      <th>discrep</th>\n",
              "      <th>tentat</th>\n",
              "      <th>certain</th>\n",
              "      <th>differ</th>\n",
              "      <th>feel</th>\n",
              "      <th>bio</th>\n",
              "      <th>body</th>\n",
              "      <th>health</th>\n",
              "      <th>sexual</th>\n",
              "      <th>affiliation</th>\n",
              "      <th>achieve</th>\n",
              "      <th>power</th>\n",
              "      <th>risk</th>\n",
              "      <th>focuspast</th>\n",
              "      <th>focuspresent</th>\n",
              "      <th>focusfuture</th>\n",
              "      <th>time</th>\n",
              "      <th>death</th>\n",
              "      <th>informal</th>\n",
              "      <th>swear</th>\n",
              "      <th>filler</th>\n",
              "    </tr>\n",
              "  </thead>\n",
              "  <tbody>\n",
              "    <tr>\n",
              "      <th>0</th>\n",
              "      <td>4668</td>\n",
              "      <td>29.07</td>\n",
              "      <td>61.56</td>\n",
              "      <td>53.10</td>\n",
              "      <td>32.00</td>\n",
              "      <td>4668</td>\n",
              "      <td>90.47</td>\n",
              "      <td>55.01</td>\n",
              "      <td>19.75</td>\n",
              "      <td>13.45</td>\n",
              "      <td>7.35</td>\n",
              "      <td>1.63</td>\n",
              "      <td>1.07</td>\n",
              "      <td>10.26</td>\n",
              "      <td>10.30</td>\n",
              "      <td>6.58</td>\n",
              "      <td>4.88</td>\n",
              "      <td>18.92</td>\n",
              "      <td>3.45</td>\n",
              "      <td>1.48</td>\n",
              "      <td>0.84</td>\n",
              "      <td>1.69</td>\n",
              "      <td>6.36</td>\n",
              "      <td>2.98</td>\n",
              "      <td>0.36</td>\n",
              "      <td>1.26</td>\n",
              "      <td>0.81</td>\n",
              "      <td>1.37</td>\n",
              "      <td>12.55</td>\n",
              "      <td>2.23</td>\n",
              "      <td>2.29</td>\n",
              "      <td>2.19</td>\n",
              "      <td>2.29</td>\n",
              "      <td>1.86</td>\n",
              "      <td>3.64</td>\n",
              "      <td>0.58</td>\n",
              "      <td>2.63</td>\n",
              "      <td>0.84</td>\n",
              "      <td>0.96</td>\n",
              "      <td>0.32</td>\n",
              "      <td>2.55</td>\n",
              "      <td>1.46</td>\n",
              "      <td>2.40</td>\n",
              "      <td>0.49</td>\n",
              "      <td>3.68</td>\n",
              "      <td>13.41</td>\n",
              "      <td>0.99</td>\n",
              "      <td>5.66</td>\n",
              "      <td>0.49</td>\n",
              "      <td>2.46</td>\n",
              "      <td>0.90</td>\n",
              "      <td>0.00</td>\n",
              "    </tr>\n",
              "    <tr>\n",
              "      <th>1</th>\n",
              "      <td>6755</td>\n",
              "      <td>56.31</td>\n",
              "      <td>51.66</td>\n",
              "      <td>66.39</td>\n",
              "      <td>28.97</td>\n",
              "      <td>6755</td>\n",
              "      <td>85.68</td>\n",
              "      <td>49.74</td>\n",
              "      <td>17.39</td>\n",
              "      <td>11.98</td>\n",
              "      <td>7.09</td>\n",
              "      <td>0.58</td>\n",
              "      <td>0.53</td>\n",
              "      <td>11.67</td>\n",
              "      <td>5.76</td>\n",
              "      <td>6.10</td>\n",
              "      <td>4.69</td>\n",
              "      <td>15.43</td>\n",
              "      <td>4.17</td>\n",
              "      <td>1.73</td>\n",
              "      <td>0.70</td>\n",
              "      <td>2.01</td>\n",
              "      <td>9.40</td>\n",
              "      <td>4.54</td>\n",
              "      <td>0.38</td>\n",
              "      <td>2.37</td>\n",
              "      <td>0.81</td>\n",
              "      <td>0.31</td>\n",
              "      <td>11.47</td>\n",
              "      <td>2.01</td>\n",
              "      <td>1.72</td>\n",
              "      <td>1.89</td>\n",
              "      <td>2.69</td>\n",
              "      <td>1.98</td>\n",
              "      <td>2.65</td>\n",
              "      <td>0.84</td>\n",
              "      <td>3.63</td>\n",
              "      <td>1.26</td>\n",
              "      <td>0.96</td>\n",
              "      <td>0.71</td>\n",
              "      <td>2.01</td>\n",
              "      <td>1.21</td>\n",
              "      <td>2.38</td>\n",
              "      <td>0.59</td>\n",
              "      <td>4.06</td>\n",
              "      <td>9.39</td>\n",
              "      <td>1.36</td>\n",
              "      <td>5.79</td>\n",
              "      <td>0.24</td>\n",
              "      <td>5.91</td>\n",
              "      <td>2.52</td>\n",
              "      <td>0.09</td>\n",
              "    </tr>\n",
              "    <tr>\n",
              "      <th>2</th>\n",
              "      <td>3563</td>\n",
              "      <td>51.88</td>\n",
              "      <td>62.97</td>\n",
              "      <td>36.23</td>\n",
              "      <td>69.17</td>\n",
              "      <td>3563</td>\n",
              "      <td>75.75</td>\n",
              "      <td>43.25</td>\n",
              "      <td>15.80</td>\n",
              "      <td>10.95</td>\n",
              "      <td>5.64</td>\n",
              "      <td>0.59</td>\n",
              "      <td>1.07</td>\n",
              "      <td>8.76</td>\n",
              "      <td>5.33</td>\n",
              "      <td>6.12</td>\n",
              "      <td>4.80</td>\n",
              "      <td>13.02</td>\n",
              "      <td>3.48</td>\n",
              "      <td>1.15</td>\n",
              "      <td>0.56</td>\n",
              "      <td>1.96</td>\n",
              "      <td>7.97</td>\n",
              "      <td>2.72</td>\n",
              "      <td>0.22</td>\n",
              "      <td>0.93</td>\n",
              "      <td>0.95</td>\n",
              "      <td>0.39</td>\n",
              "      <td>8.67</td>\n",
              "      <td>1.01</td>\n",
              "      <td>1.40</td>\n",
              "      <td>1.63</td>\n",
              "      <td>2.08</td>\n",
              "      <td>1.54</td>\n",
              "      <td>2.36</td>\n",
              "      <td>0.84</td>\n",
              "      <td>2.58</td>\n",
              "      <td>1.09</td>\n",
              "      <td>0.73</td>\n",
              "      <td>0.31</td>\n",
              "      <td>2.13</td>\n",
              "      <td>1.29</td>\n",
              "      <td>1.49</td>\n",
              "      <td>0.34</td>\n",
              "      <td>2.98</td>\n",
              "      <td>7.75</td>\n",
              "      <td>1.91</td>\n",
              "      <td>6.51</td>\n",
              "      <td>0.20</td>\n",
              "      <td>5.33</td>\n",
              "      <td>1.09</td>\n",
              "      <td>0.08</td>\n",
              "    </tr>\n",
              "    <tr>\n",
              "      <th>3</th>\n",
              "      <td>1054</td>\n",
              "      <td>54.01</td>\n",
              "      <td>35.55</td>\n",
              "      <td>77.44</td>\n",
              "      <td>80.72</td>\n",
              "      <td>1054</td>\n",
              "      <td>83.87</td>\n",
              "      <td>47.91</td>\n",
              "      <td>16.79</td>\n",
              "      <td>11.67</td>\n",
              "      <td>9.01</td>\n",
              "      <td>0.19</td>\n",
              "      <td>0.28</td>\n",
              "      <td>9.77</td>\n",
              "      <td>4.74</td>\n",
              "      <td>6.45</td>\n",
              "      <td>5.31</td>\n",
              "      <td>13.38</td>\n",
              "      <td>5.88</td>\n",
              "      <td>3.04</td>\n",
              "      <td>0.47</td>\n",
              "      <td>1.90</td>\n",
              "      <td>7.97</td>\n",
              "      <td>2.47</td>\n",
              "      <td>0.38</td>\n",
              "      <td>0.57</td>\n",
              "      <td>0.66</td>\n",
              "      <td>0.28</td>\n",
              "      <td>13.09</td>\n",
              "      <td>3.04</td>\n",
              "      <td>1.42</td>\n",
              "      <td>1.52</td>\n",
              "      <td>2.66</td>\n",
              "      <td>1.90</td>\n",
              "      <td>3.80</td>\n",
              "      <td>0.85</td>\n",
              "      <td>1.99</td>\n",
              "      <td>0.66</td>\n",
              "      <td>0.66</td>\n",
              "      <td>0.19</td>\n",
              "      <td>3.04</td>\n",
              "      <td>1.23</td>\n",
              "      <td>1.04</td>\n",
              "      <td>0.66</td>\n",
              "      <td>2.28</td>\n",
              "      <td>10.34</td>\n",
              "      <td>1.14</td>\n",
              "      <td>6.07</td>\n",
              "      <td>0.28</td>\n",
              "      <td>2.37</td>\n",
              "      <td>0.19</td>\n",
              "      <td>0.19</td>\n",
              "    </tr>\n",
              "    <tr>\n",
              "      <th>4</th>\n",
              "      <td>5248</td>\n",
              "      <td>26.86</td>\n",
              "      <td>56.29</td>\n",
              "      <td>58.77</td>\n",
              "      <td>51.82</td>\n",
              "      <td>5248</td>\n",
              "      <td>88.26</td>\n",
              "      <td>49.31</td>\n",
              "      <td>19.84</td>\n",
              "      <td>14.18</td>\n",
              "      <td>7.72</td>\n",
              "      <td>0.63</td>\n",
              "      <td>0.27</td>\n",
              "      <td>9.05</td>\n",
              "      <td>7.81</td>\n",
              "      <td>7.87</td>\n",
              "      <td>4.08</td>\n",
              "      <td>18.64</td>\n",
              "      <td>5.70</td>\n",
              "      <td>2.15</td>\n",
              "      <td>0.63</td>\n",
              "      <td>1.68</td>\n",
              "      <td>13.72</td>\n",
              "      <td>6.04</td>\n",
              "      <td>0.38</td>\n",
              "      <td>3.91</td>\n",
              "      <td>0.44</td>\n",
              "      <td>0.44</td>\n",
              "      <td>10.58</td>\n",
              "      <td>2.15</td>\n",
              "      <td>1.12</td>\n",
              "      <td>2.12</td>\n",
              "      <td>2.06</td>\n",
              "      <td>2.21</td>\n",
              "      <td>1.96</td>\n",
              "      <td>1.01</td>\n",
              "      <td>5.96</td>\n",
              "      <td>1.60</td>\n",
              "      <td>0.93</td>\n",
              "      <td>1.92</td>\n",
              "      <td>3.77</td>\n",
              "      <td>0.91</td>\n",
              "      <td>1.64</td>\n",
              "      <td>0.69</td>\n",
              "      <td>3.41</td>\n",
              "      <td>13.41</td>\n",
              "      <td>2.17</td>\n",
              "      <td>7.16</td>\n",
              "      <td>0.13</td>\n",
              "      <td>8.73</td>\n",
              "      <td>3.83</td>\n",
              "      <td>0.06</td>\n",
              "    </tr>\n",
              "  </tbody>\n",
              "</table>\n",
              "</div>"
            ],
            "text/plain": [
              "     WC  Analytic  Clout  Authentic  ...  death  informal  swear  filler\n",
              "0  4668     29.07  61.56      53.10  ...   0.49      2.46   0.90    0.00\n",
              "1  6755     56.31  51.66      66.39  ...   0.24      5.91   2.52    0.09\n",
              "2  3563     51.88  62.97      36.23  ...   0.20      5.33   1.09    0.08\n",
              "3  1054     54.01  35.55      77.44  ...   0.28      2.37   0.19    0.19\n",
              "4  5248     26.86  56.29      58.77  ...   0.13      8.73   3.83    0.06\n",
              "\n",
              "[5 rows x 52 columns]"
            ]
          },
          "metadata": {
            "tags": []
          },
          "execution_count": 126
        }
      ]
    },
    {
      "cell_type": "code",
      "metadata": {
        "id": "YKkKTnXInlZA",
        "colab_type": "code",
        "colab": {
          "base_uri": "https://localhost:8080/",
          "height": 34
        },
        "outputId": "cf4b04b0-537c-4e74-e519-5c27a759e008"
      },
      "source": [
        "df_sig10_train.shape"
      ],
      "execution_count": 127,
      "outputs": [
        {
          "output_type": "execute_result",
          "data": {
            "text/plain": [
              "(460, 52)"
            ]
          },
          "metadata": {
            "tags": []
          },
          "execution_count": 127
        }
      ]
    },
    {
      "cell_type": "code",
      "metadata": {
        "id": "9cSxOOtiXCIp",
        "colab_type": "code",
        "colab": {
          "base_uri": "https://localhost:8080/",
          "height": 204
        },
        "outputId": "56f3f5a0-a243-4714-d354-e50ea4cd92e7"
      },
      "source": [
        "df_sig10_target = df_sig10.iloc[:,[df_sig10.shape[1]-1]]\n",
        "df_sig10_target.head()"
      ],
      "execution_count": 128,
      "outputs": [
        {
          "output_type": "execute_result",
          "data": {
            "text/html": [
              "<div>\n",
              "<style scoped>\n",
              "    .dataframe tbody tr th:only-of-type {\n",
              "        vertical-align: middle;\n",
              "    }\n",
              "\n",
              "    .dataframe tbody tr th {\n",
              "        vertical-align: top;\n",
              "    }\n",
              "\n",
              "    .dataframe thead th {\n",
              "        text-align: right;\n",
              "    }\n",
              "</style>\n",
              "<table border=\"1\" class=\"dataframe\">\n",
              "  <thead>\n",
              "    <tr style=\"text-align: right;\">\n",
              "      <th></th>\n",
              "      <th>Target</th>\n",
              "    </tr>\n",
              "  </thead>\n",
              "  <tbody>\n",
              "    <tr>\n",
              "      <th>0</th>\n",
              "      <td>1</td>\n",
              "    </tr>\n",
              "    <tr>\n",
              "      <th>1</th>\n",
              "      <td>1</td>\n",
              "    </tr>\n",
              "    <tr>\n",
              "      <th>2</th>\n",
              "      <td>1</td>\n",
              "    </tr>\n",
              "    <tr>\n",
              "      <th>3</th>\n",
              "      <td>1</td>\n",
              "    </tr>\n",
              "    <tr>\n",
              "      <th>4</th>\n",
              "      <td>1</td>\n",
              "    </tr>\n",
              "  </tbody>\n",
              "</table>\n",
              "</div>"
            ],
            "text/plain": [
              "   Target\n",
              "0       1\n",
              "1       1\n",
              "2       1\n",
              "3       1\n",
              "4       1"
            ]
          },
          "metadata": {
            "tags": []
          },
          "execution_count": 128
        }
      ]
    },
    {
      "cell_type": "code",
      "metadata": {
        "id": "ypBMhOVEXCLl",
        "colab_type": "code",
        "colab": {
          "base_uri": "https://localhost:8080/",
          "height": 34
        },
        "outputId": "e4c91339-72ec-43d0-d691-6e5404902dbf"
      },
      "source": [
        "Train_X, Test_X, Train_Y, Test_Y = model_selection.train_test_split(df_sig10_train,df_sig10_target,test_size=0.3)\n",
        "sum(Test_Y['Target'] == 1)"
      ],
      "execution_count": 141,
      "outputs": [
        {
          "output_type": "execute_result",
          "data": {
            "text/plain": [
              "70"
            ]
          },
          "metadata": {
            "tags": []
          },
          "execution_count": 141
        }
      ]
    },
    {
      "cell_type": "code",
      "metadata": {
        "id": "rPTj8op_n3eL",
        "colab_type": "code",
        "colab": {
          "base_uri": "https://localhost:8080/",
          "height": 68
        },
        "outputId": "766d7e48-5233-40a3-b529-c9a45a994047"
      },
      "source": [
        "Train_Y.Target.value_counts()"
      ],
      "execution_count": 142,
      "outputs": [
        {
          "output_type": "execute_result",
          "data": {
            "text/plain": [
              "0    162\n",
              "1    160\n",
              "Name: Target, dtype: int64"
            ]
          },
          "metadata": {
            "tags": []
          },
          "execution_count": 142
        }
      ]
    },
    {
      "cell_type": "markdown",
      "metadata": {
        "id": "IZ420nEe6wJ-",
        "colab_type": "text"
      },
      "source": [
        "**SVM with linear kernel**"
      ]
    },
    {
      "cell_type": "code",
      "metadata": {
        "id": "DdthvCvfXCN0",
        "colab_type": "code",
        "colab": {
          "base_uri": "https://localhost:8080/",
          "height": 139
        },
        "outputId": "3a02a12e-5bbd-4b00-b9d3-51e16ebbe143"
      },
      "source": [
        "svclassifier = SVC(C= 1, kernel='linear', degree=3, gamma=\"auto\")\n",
        "svclassifier.fit(Train_X, Train_Y)"
      ],
      "execution_count": 143,
      "outputs": [
        {
          "output_type": "stream",
          "text": [
            "/usr/local/lib/python3.6/dist-packages/sklearn/utils/validation.py:760: DataConversionWarning: A column-vector y was passed when a 1d array was expected. Please change the shape of y to (n_samples, ), for example using ravel().\n",
            "  y = column_or_1d(y, warn=True)\n"
          ],
          "name": "stderr"
        },
        {
          "output_type": "execute_result",
          "data": {
            "text/plain": [
              "SVC(C=1, break_ties=False, cache_size=200, class_weight=None, coef0=0.0,\n",
              "    decision_function_shape='ovr', degree=3, gamma='auto', kernel='linear',\n",
              "    max_iter=-1, probability=False, random_state=None, shrinking=True,\n",
              "    tol=0.001, verbose=False)"
            ]
          },
          "metadata": {
            "tags": []
          },
          "execution_count": 143
        }
      ]
    },
    {
      "cell_type": "code",
      "metadata": {
        "id": "_YCB5mN-XCQV",
        "colab_type": "code",
        "colab": {
          "base_uri": "https://localhost:8080/",
          "height": 34
        },
        "outputId": "97de9365-dce8-4daa-e32e-0f86ab238855"
      },
      "source": [
        "# Make prediction\n",
        "y_pred = svclassifier.predict(Test_X)\n",
        "# Evaluate our model\n",
        "print(\"Recall :\",recall_score(Test_Y['Target'],y_pred),\"Accuracy :\",accuracy_score(Test_Y['Target'],y_pred))"
      ],
      "execution_count": 144,
      "outputs": [
        {
          "output_type": "stream",
          "text": [
            "Recall : 0.7571428571428571 Accuracy : 0.7681159420289855\n"
          ],
          "name": "stdout"
        }
      ]
    },
    {
      "cell_type": "markdown",
      "metadata": {
        "id": "v8a81xiMoPqf",
        "colab_type": "text"
      },
      "source": [
        "**Logistic Regression**"
      ]
    },
    {
      "cell_type": "code",
      "metadata": {
        "id": "uZxd8qO9oMhf",
        "colab_type": "code",
        "colab": {
          "base_uri": "https://localhost:8080/",
          "height": 156
        },
        "outputId": "b6f85a3b-94ec-4b4e-ad35-df209e73089f"
      },
      "source": [
        "logreg = LogisticRegression(max_iter=100000)\n",
        "logreg.fit(Train_X, Train_Y)"
      ],
      "execution_count": 145,
      "outputs": [
        {
          "output_type": "stream",
          "text": [
            "/usr/local/lib/python3.6/dist-packages/sklearn/utils/validation.py:760: DataConversionWarning: A column-vector y was passed when a 1d array was expected. Please change the shape of y to (n_samples, ), for example using ravel().\n",
            "  y = column_or_1d(y, warn=True)\n"
          ],
          "name": "stderr"
        },
        {
          "output_type": "execute_result",
          "data": {
            "text/plain": [
              "LogisticRegression(C=1.0, class_weight=None, dual=False, fit_intercept=True,\n",
              "                   intercept_scaling=1, l1_ratio=None, max_iter=100000,\n",
              "                   multi_class='auto', n_jobs=None, penalty='l2',\n",
              "                   random_state=None, solver='lbfgs', tol=0.0001, verbose=0,\n",
              "                   warm_start=False)"
            ]
          },
          "metadata": {
            "tags": []
          },
          "execution_count": 145
        }
      ]
    },
    {
      "cell_type": "code",
      "metadata": {
        "id": "B6SWVGqaoMtg",
        "colab_type": "code",
        "colab": {
          "base_uri": "https://localhost:8080/",
          "height": 34
        },
        "outputId": "e7015581-cf72-494c-9357-efcb4b2a88e7"
      },
      "source": [
        "y_pred = logreg.predict(Test_X)\n",
        "print('Accuracy of logistic regression classifier on test set: {:.2f}'.format(logreg.score(Test_X, Test_Y)))"
      ],
      "execution_count": 146,
      "outputs": [
        {
          "output_type": "stream",
          "text": [
            "Accuracy of logistic regression classifier on test set: 0.79\n"
          ],
          "name": "stdout"
        }
      ]
    },
    {
      "cell_type": "code",
      "metadata": {
        "id": "OqJsLX9koMqe",
        "colab_type": "code",
        "colab": {
          "base_uri": "https://localhost:8080/",
          "height": 170
        },
        "outputId": "d74482bf-266d-4260-e144-34985bc06a93"
      },
      "source": [
        "print(classification_report(Test_Y, y_pred))"
      ],
      "execution_count": 147,
      "outputs": [
        {
          "output_type": "stream",
          "text": [
            "              precision    recall  f1-score   support\n",
            "\n",
            "           0       0.77      0.81      0.79        68\n",
            "           1       0.81      0.77      0.79        70\n",
            "\n",
            "    accuracy                           0.79       138\n",
            "   macro avg       0.79      0.79      0.79       138\n",
            "weighted avg       0.79      0.79      0.79       138\n",
            "\n"
          ],
          "name": "stdout"
        }
      ]
    },
    {
      "cell_type": "code",
      "metadata": {
        "id": "o-MNdHFt3brJ",
        "colab_type": "code",
        "colab": {
          "base_uri": "https://localhost:8080/",
          "height": 34
        },
        "outputId": "78ab7c91-e85c-454e-c4fe-b3e8a4c81293"
      },
      "source": [
        "precision, recall, fscore, support = score(Test_Y, y_pred)\n",
        "print((recall))"
      ],
      "execution_count": 148,
      "outputs": [
        {
          "output_type": "stream",
          "text": [
            "[0.80882353 0.77142857]\n"
          ],
          "name": "stdout"
        }
      ]
    },
    {
      "cell_type": "code",
      "metadata": {
        "id": "VcYGOryPoMn-",
        "colab_type": "code",
        "colab": {
          "base_uri": "https://localhost:8080/",
          "height": 307
        },
        "outputId": "1ca5ca63-d705-4370-ff51-270f5a4f2970"
      },
      "source": [
        "logit_roc_auc = roc_auc_score(Test_Y, logreg.predict(Test_X))\n",
        "fpr, tpr, thresholds = roc_curve(Test_Y, logreg.predict_proba(Test_X)[:,1])\n",
        "plt.figure()\n",
        "plt.plot(fpr, tpr, label='Logistic Regression (area = %0.2f)' % logit_roc_auc)\n",
        "plt.plot([0, 1], [0, 1],'r--')\n",
        "plt.xlim([0.0, 1.0])\n",
        "plt.ylim([0.0, 1.05])\n",
        "plt.xlabel('False Positive Rate')\n",
        "plt.ylabel('True Positive Rate')\n",
        "plt.title('Receiver operating characteristic')\n",
        "plt.legend(loc=\"lower right\")\n",
        "plt.savefig('Log_ROC')\n",
        "plt.show()"
      ],
      "execution_count": 149,
      "outputs": [
        {
          "output_type": "display_data",
          "data": {
            "image/png": "[encoded data removed]",
            "text/plain": [
              "<Figure size 432x288 with 1 Axes>"
            ]
          },
          "metadata": {
            "tags": [],
            "needs_background": "light"
          }
        }
      ]
    },
    {
      "cell_type": "markdown",
      "metadata": {
        "id": "bYJdfks7mOij",
        "colab_type": "text"
      },
      "source": [
        "**LIWC features with 5% significane level**"
      ]
    },
    {
      "cell_type": "code",
      "metadata": {
        "id": "gIcZiZxbXCSx",
        "colab_type": "code",
        "colab": {
          "base_uri": "https://localhost:8080/",
          "height": 224
        },
        "outputId": "68601225-7422-41df-a765-ef281ec30201"
      },
      "source": [
        "df_sig5.head()"
      ],
      "execution_count": 153,
      "outputs": [
        {
          "output_type": "execute_result",
          "data": {
            "text/html": [
              "<div>\n",
              "<style scoped>\n",
              "    .dataframe tbody tr th:only-of-type {\n",
              "        vertical-align: middle;\n",
              "    }\n",
              "\n",
              "    .dataframe tbody tr th {\n",
              "        vertical-align: top;\n",
              "    }\n",
              "\n",
              "    .dataframe thead th {\n",
              "        text-align: right;\n",
              "    }\n",
              "</style>\n",
              "<table border=\"1\" class=\"dataframe\">\n",
              "  <thead>\n",
              "    <tr style=\"text-align: right;\">\n",
              "      <th></th>\n",
              "      <th>WC</th>\n",
              "      <th>Analytic</th>\n",
              "      <th>Authentic</th>\n",
              "      <th>Tone</th>\n",
              "      <th>WPS</th>\n",
              "      <th>Dic</th>\n",
              "      <th>function</th>\n",
              "      <th>pronoun</th>\n",
              "      <th>ppron</th>\n",
              "      <th>i</th>\n",
              "      <th>adverb</th>\n",
              "      <th>conj</th>\n",
              "      <th>verb</th>\n",
              "      <th>compare</th>\n",
              "      <th>negemo</th>\n",
              "      <th>anx</th>\n",
              "      <th>anger</th>\n",
              "      <th>sad</th>\n",
              "      <th>friend</th>\n",
              "      <th>cogproc</th>\n",
              "      <th>insight</th>\n",
              "      <th>cause</th>\n",
              "      <th>discrep</th>\n",
              "      <th>tentat</th>\n",
              "      <th>certain</th>\n",
              "      <th>differ</th>\n",
              "      <th>feel</th>\n",
              "      <th>bio</th>\n",
              "      <th>health</th>\n",
              "      <th>sexual</th>\n",
              "      <th>risk</th>\n",
              "      <th>focuspast</th>\n",
              "      <th>focuspresent</th>\n",
              "      <th>focusfuture</th>\n",
              "      <th>time</th>\n",
              "      <th>death</th>\n",
              "      <th>Target</th>\n",
              "    </tr>\n",
              "  </thead>\n",
              "  <tbody>\n",
              "    <tr>\n",
              "      <th>0</th>\n",
              "      <td>4668</td>\n",
              "      <td>29.07</td>\n",
              "      <td>53.10</td>\n",
              "      <td>32.00</td>\n",
              "      <td>4668</td>\n",
              "      <td>90.47</td>\n",
              "      <td>55.01</td>\n",
              "      <td>19.75</td>\n",
              "      <td>13.45</td>\n",
              "      <td>7.35</td>\n",
              "      <td>6.58</td>\n",
              "      <td>4.88</td>\n",
              "      <td>18.92</td>\n",
              "      <td>1.48</td>\n",
              "      <td>2.98</td>\n",
              "      <td>0.36</td>\n",
              "      <td>1.26</td>\n",
              "      <td>0.81</td>\n",
              "      <td>1.37</td>\n",
              "      <td>12.55</td>\n",
              "      <td>2.23</td>\n",
              "      <td>2.29</td>\n",
              "      <td>2.19</td>\n",
              "      <td>2.29</td>\n",
              "      <td>1.86</td>\n",
              "      <td>3.64</td>\n",
              "      <td>0.58</td>\n",
              "      <td>2.63</td>\n",
              "      <td>0.96</td>\n",
              "      <td>0.32</td>\n",
              "      <td>0.49</td>\n",
              "      <td>3.68</td>\n",
              "      <td>13.41</td>\n",
              "      <td>0.99</td>\n",
              "      <td>5.66</td>\n",
              "      <td>0.49</td>\n",
              "      <td>1</td>\n",
              "    </tr>\n",
              "    <tr>\n",
              "      <th>1</th>\n",
              "      <td>6755</td>\n",
              "      <td>56.31</td>\n",
              "      <td>66.39</td>\n",
              "      <td>28.97</td>\n",
              "      <td>6755</td>\n",
              "      <td>85.68</td>\n",
              "      <td>49.74</td>\n",
              "      <td>17.39</td>\n",
              "      <td>11.98</td>\n",
              "      <td>7.09</td>\n",
              "      <td>6.10</td>\n",
              "      <td>4.69</td>\n",
              "      <td>15.43</td>\n",
              "      <td>1.73</td>\n",
              "      <td>4.54</td>\n",
              "      <td>0.38</td>\n",
              "      <td>2.37</td>\n",
              "      <td>0.81</td>\n",
              "      <td>0.31</td>\n",
              "      <td>11.47</td>\n",
              "      <td>2.01</td>\n",
              "      <td>1.72</td>\n",
              "      <td>1.89</td>\n",
              "      <td>2.69</td>\n",
              "      <td>1.98</td>\n",
              "      <td>2.65</td>\n",
              "      <td>0.84</td>\n",
              "      <td>3.63</td>\n",
              "      <td>0.96</td>\n",
              "      <td>0.71</td>\n",
              "      <td>0.59</td>\n",
              "      <td>4.06</td>\n",
              "      <td>9.39</td>\n",
              "      <td>1.36</td>\n",
              "      <td>5.79</td>\n",
              "      <td>0.24</td>\n",
              "      <td>1</td>\n",
              "    </tr>\n",
              "    <tr>\n",
              "      <th>2</th>\n",
              "      <td>3563</td>\n",
              "      <td>51.88</td>\n",
              "      <td>36.23</td>\n",
              "      <td>69.17</td>\n",
              "      <td>3563</td>\n",
              "      <td>75.75</td>\n",
              "      <td>43.25</td>\n",
              "      <td>15.80</td>\n",
              "      <td>10.95</td>\n",
              "      <td>5.64</td>\n",
              "      <td>6.12</td>\n",
              "      <td>4.80</td>\n",
              "      <td>13.02</td>\n",
              "      <td>1.15</td>\n",
              "      <td>2.72</td>\n",
              "      <td>0.22</td>\n",
              "      <td>0.93</td>\n",
              "      <td>0.95</td>\n",
              "      <td>0.39</td>\n",
              "      <td>8.67</td>\n",
              "      <td>1.01</td>\n",
              "      <td>1.40</td>\n",
              "      <td>1.63</td>\n",
              "      <td>2.08</td>\n",
              "      <td>1.54</td>\n",
              "      <td>2.36</td>\n",
              "      <td>0.84</td>\n",
              "      <td>2.58</td>\n",
              "      <td>0.73</td>\n",
              "      <td>0.31</td>\n",
              "      <td>0.34</td>\n",
              "      <td>2.98</td>\n",
              "      <td>7.75</td>\n",
              "      <td>1.91</td>\n",
              "      <td>6.51</td>\n",
              "      <td>0.20</td>\n",
              "      <td>1</td>\n",
              "    </tr>\n",
              "    <tr>\n",
              "      <th>3</th>\n",
              "      <td>1054</td>\n",
              "      <td>54.01</td>\n",
              "      <td>77.44</td>\n",
              "      <td>80.72</td>\n",
              "      <td>1054</td>\n",
              "      <td>83.87</td>\n",
              "      <td>47.91</td>\n",
              "      <td>16.79</td>\n",
              "      <td>11.67</td>\n",
              "      <td>9.01</td>\n",
              "      <td>6.45</td>\n",
              "      <td>5.31</td>\n",
              "      <td>13.38</td>\n",
              "      <td>3.04</td>\n",
              "      <td>2.47</td>\n",
              "      <td>0.38</td>\n",
              "      <td>0.57</td>\n",
              "      <td>0.66</td>\n",
              "      <td>0.28</td>\n",
              "      <td>13.09</td>\n",
              "      <td>3.04</td>\n",
              "      <td>1.42</td>\n",
              "      <td>1.52</td>\n",
              "      <td>2.66</td>\n",
              "      <td>1.90</td>\n",
              "      <td>3.80</td>\n",
              "      <td>0.85</td>\n",
              "      <td>1.99</td>\n",
              "      <td>0.66</td>\n",
              "      <td>0.19</td>\n",
              "      <td>0.66</td>\n",
              "      <td>2.28</td>\n",
              "      <td>10.34</td>\n",
              "      <td>1.14</td>\n",
              "      <td>6.07</td>\n",
              "      <td>0.28</td>\n",
              "      <td>1</td>\n",
              "    </tr>\n",
              "    <tr>\n",
              "      <th>4</th>\n",
              "      <td>5248</td>\n",
              "      <td>26.86</td>\n",
              "      <td>58.77</td>\n",
              "      <td>51.82</td>\n",
              "      <td>5248</td>\n",
              "      <td>88.26</td>\n",
              "      <td>49.31</td>\n",
              "      <td>19.84</td>\n",
              "      <td>14.18</td>\n",
              "      <td>7.72</td>\n",
              "      <td>7.87</td>\n",
              "      <td>4.08</td>\n",
              "      <td>18.64</td>\n",
              "      <td>2.15</td>\n",
              "      <td>6.04</td>\n",
              "      <td>0.38</td>\n",
              "      <td>3.91</td>\n",
              "      <td>0.44</td>\n",
              "      <td>0.44</td>\n",
              "      <td>10.58</td>\n",
              "      <td>2.15</td>\n",
              "      <td>1.12</td>\n",
              "      <td>2.12</td>\n",
              "      <td>2.06</td>\n",
              "      <td>2.21</td>\n",
              "      <td>1.96</td>\n",
              "      <td>1.01</td>\n",
              "      <td>5.96</td>\n",
              "      <td>0.93</td>\n",
              "      <td>1.92</td>\n",
              "      <td>0.69</td>\n",
              "      <td>3.41</td>\n",
              "      <td>13.41</td>\n",
              "      <td>2.17</td>\n",
              "      <td>7.16</td>\n",
              "      <td>0.13</td>\n",
              "      <td>1</td>\n",
              "    </tr>\n",
              "  </tbody>\n",
              "</table>\n",
              "</div>"
            ],
            "text/plain": [
              "     WC  Analytic  Authentic   Tone  ...  focusfuture  time  death  Target\n",
              "0  4668     29.07      53.10  32.00  ...         0.99  5.66   0.49       1\n",
              "1  6755     56.31      66.39  28.97  ...         1.36  5.79   0.24       1\n",
              "2  3563     51.88      36.23  69.17  ...         1.91  6.51   0.20       1\n",
              "3  1054     54.01      77.44  80.72  ...         1.14  6.07   0.28       1\n",
              "4  5248     26.86      58.77  51.82  ...         2.17  7.16   0.13       1\n",
              "\n",
              "[5 rows x 37 columns]"
            ]
          },
          "metadata": {
            "tags": []
          },
          "execution_count": 153
        }
      ]
    },
    {
      "cell_type": "code",
      "metadata": {
        "id": "pXCjibJVXCVl",
        "colab_type": "code",
        "colab": {}
      },
      "source": [
        "#Leave out Twitter_handle column from the classifier \n",
        "df_sig5 = df_sig5.drop(['Twitter_handle'], axis=1)"
      ],
      "execution_count": null,
      "outputs": []
    },
    {
      "cell_type": "code",
      "metadata": {
        "id": "Xh3xOy8-oqPf",
        "colab_type": "code",
        "colab": {}
      },
      "source": [
        "features_for_modeling = list(range(0, df_sig5.shape[1]-1))"
      ],
      "execution_count": 154,
      "outputs": []
    },
    {
      "cell_type": "code",
      "metadata": {
        "id": "wl2fj0lQmayO",
        "colab_type": "code",
        "colab": {
          "base_uri": "https://localhost:8080/",
          "height": 224
        },
        "outputId": "d991a7a9-2e16-44fb-9416-184444213096"
      },
      "source": [
        "#Seperate Train and target from the dataframe\n",
        "df_sig5_train = df_sig5.iloc[:,features_for_modeling]\n",
        "df_sig5_train.head()"
      ],
      "execution_count": 155,
      "outputs": [
        {
          "output_type": "execute_result",
          "data": {
            "text/html": [
              "<div>\n",
              "<style scoped>\n",
              "    .dataframe tbody tr th:only-of-type {\n",
              "        vertical-align: middle;\n",
              "    }\n",
              "\n",
              "    .dataframe tbody tr th {\n",
              "        vertical-align: top;\n",
              "    }\n",
              "\n",
              "    .dataframe thead th {\n",
              "        text-align: right;\n",
              "    }\n",
              "</style>\n",
              "<table border=\"1\" class=\"dataframe\">\n",
              "  <thead>\n",
              "    <tr style=\"text-align: right;\">\n",
              "      <th></th>\n",
              "      <th>WC</th>\n",
              "      <th>Analytic</th>\n",
              "      <th>Authentic</th>\n",
              "      <th>Tone</th>\n",
              "      <th>WPS</th>\n",
              "      <th>Dic</th>\n",
              "      <th>function</th>\n",
              "      <th>pronoun</th>\n",
              "      <th>ppron</th>\n",
              "      <th>i</th>\n",
              "      <th>adverb</th>\n",
              "      <th>conj</th>\n",
              "      <th>verb</th>\n",
              "      <th>compare</th>\n",
              "      <th>negemo</th>\n",
              "      <th>anx</th>\n",
              "      <th>anger</th>\n",
              "      <th>sad</th>\n",
              "      <th>friend</th>\n",
              "      <th>cogproc</th>\n",
              "      <th>insight</th>\n",
              "      <th>cause</th>\n",
              "      <th>discrep</th>\n",
              "      <th>tentat</th>\n",
              "      <th>certain</th>\n",
              "      <th>differ</th>\n",
              "      <th>feel</th>\n",
              "      <th>bio</th>\n",
              "      <th>health</th>\n",
              "      <th>sexual</th>\n",
              "      <th>risk</th>\n",
              "      <th>focuspast</th>\n",
              "      <th>focuspresent</th>\n",
              "      <th>focusfuture</th>\n",
              "      <th>time</th>\n",
              "      <th>death</th>\n",
              "    </tr>\n",
              "  </thead>\n",
              "  <tbody>\n",
              "    <tr>\n",
              "      <th>0</th>\n",
              "      <td>4668</td>\n",
              "      <td>29.07</td>\n",
              "      <td>53.10</td>\n",
              "      <td>32.00</td>\n",
              "      <td>4668</td>\n",
              "      <td>90.47</td>\n",
              "      <td>55.01</td>\n",
              "      <td>19.75</td>\n",
              "      <td>13.45</td>\n",
              "      <td>7.35</td>\n",
              "      <td>6.58</td>\n",
              "      <td>4.88</td>\n",
              "      <td>18.92</td>\n",
              "      <td>1.48</td>\n",
              "      <td>2.98</td>\n",
              "      <td>0.36</td>\n",
              "      <td>1.26</td>\n",
              "      <td>0.81</td>\n",
              "      <td>1.37</td>\n",
              "      <td>12.55</td>\n",
              "      <td>2.23</td>\n",
              "      <td>2.29</td>\n",
              "      <td>2.19</td>\n",
              "      <td>2.29</td>\n",
              "      <td>1.86</td>\n",
              "      <td>3.64</td>\n",
              "      <td>0.58</td>\n",
              "      <td>2.63</td>\n",
              "      <td>0.96</td>\n",
              "      <td>0.32</td>\n",
              "      <td>0.49</td>\n",
              "      <td>3.68</td>\n",
              "      <td>13.41</td>\n",
              "      <td>0.99</td>\n",
              "      <td>5.66</td>\n",
              "      <td>0.49</td>\n",
              "    </tr>\n",
              "    <tr>\n",
              "      <th>1</th>\n",
              "      <td>6755</td>\n",
              "      <td>56.31</td>\n",
              "      <td>66.39</td>\n",
              "      <td>28.97</td>\n",
              "      <td>6755</td>\n",
              "      <td>85.68</td>\n",
              "      <td>49.74</td>\n",
              "      <td>17.39</td>\n",
              "      <td>11.98</td>\n",
              "      <td>7.09</td>\n",
              "      <td>6.10</td>\n",
              "      <td>4.69</td>\n",
              "      <td>15.43</td>\n",
              "      <td>1.73</td>\n",
              "      <td>4.54</td>\n",
              "      <td>0.38</td>\n",
              "      <td>2.37</td>\n",
              "      <td>0.81</td>\n",
              "      <td>0.31</td>\n",
              "      <td>11.47</td>\n",
              "      <td>2.01</td>\n",
              "      <td>1.72</td>\n",
              "      <td>1.89</td>\n",
              "      <td>2.69</td>\n",
              "      <td>1.98</td>\n",
              "      <td>2.65</td>\n",
              "      <td>0.84</td>\n",
              "      <td>3.63</td>\n",
              "      <td>0.96</td>\n",
              "      <td>0.71</td>\n",
              "      <td>0.59</td>\n",
              "      <td>4.06</td>\n",
              "      <td>9.39</td>\n",
              "      <td>1.36</td>\n",
              "      <td>5.79</td>\n",
              "      <td>0.24</td>\n",
              "    </tr>\n",
              "    <tr>\n",
              "      <th>2</th>\n",
              "      <td>3563</td>\n",
              "      <td>51.88</td>\n",
              "      <td>36.23</td>\n",
              "      <td>69.17</td>\n",
              "      <td>3563</td>\n",
              "      <td>75.75</td>\n",
              "      <td>43.25</td>\n",
              "      <td>15.80</td>\n",
              "      <td>10.95</td>\n",
              "      <td>5.64</td>\n",
              "      <td>6.12</td>\n",
              "      <td>4.80</td>\n",
              "      <td>13.02</td>\n",
              "      <td>1.15</td>\n",
              "      <td>2.72</td>\n",
              "      <td>0.22</td>\n",
              "      <td>0.93</td>\n",
              "      <td>0.95</td>\n",
              "      <td>0.39</td>\n",
              "      <td>8.67</td>\n",
              "      <td>1.01</td>\n",
              "      <td>1.40</td>\n",
              "      <td>1.63</td>\n",
              "      <td>2.08</td>\n",
              "      <td>1.54</td>\n",
              "      <td>2.36</td>\n",
              "      <td>0.84</td>\n",
              "      <td>2.58</td>\n",
              "      <td>0.73</td>\n",
              "      <td>0.31</td>\n",
              "      <td>0.34</td>\n",
              "      <td>2.98</td>\n",
              "      <td>7.75</td>\n",
              "      <td>1.91</td>\n",
              "      <td>6.51</td>\n",
              "      <td>0.20</td>\n",
              "    </tr>\n",
              "    <tr>\n",
              "      <th>3</th>\n",
              "      <td>1054</td>\n",
              "      <td>54.01</td>\n",
              "      <td>77.44</td>\n",
              "      <td>80.72</td>\n",
              "      <td>1054</td>\n",
              "      <td>83.87</td>\n",
              "      <td>47.91</td>\n",
              "      <td>16.79</td>\n",
              "      <td>11.67</td>\n",
              "      <td>9.01</td>\n",
              "      <td>6.45</td>\n",
              "      <td>5.31</td>\n",
              "      <td>13.38</td>\n",
              "      <td>3.04</td>\n",
              "      <td>2.47</td>\n",
              "      <td>0.38</td>\n",
              "      <td>0.57</td>\n",
              "      <td>0.66</td>\n",
              "      <td>0.28</td>\n",
              "      <td>13.09</td>\n",
              "      <td>3.04</td>\n",
              "      <td>1.42</td>\n",
              "      <td>1.52</td>\n",
              "      <td>2.66</td>\n",
              "      <td>1.90</td>\n",
              "      <td>3.80</td>\n",
              "      <td>0.85</td>\n",
              "      <td>1.99</td>\n",
              "      <td>0.66</td>\n",
              "      <td>0.19</td>\n",
              "      <td>0.66</td>\n",
              "      <td>2.28</td>\n",
              "      <td>10.34</td>\n",
              "      <td>1.14</td>\n",
              "      <td>6.07</td>\n",
              "      <td>0.28</td>\n",
              "    </tr>\n",
              "    <tr>\n",
              "      <th>4</th>\n",
              "      <td>5248</td>\n",
              "      <td>26.86</td>\n",
              "      <td>58.77</td>\n",
              "      <td>51.82</td>\n",
              "      <td>5248</td>\n",
              "      <td>88.26</td>\n",
              "      <td>49.31</td>\n",
              "      <td>19.84</td>\n",
              "      <td>14.18</td>\n",
              "      <td>7.72</td>\n",
              "      <td>7.87</td>\n",
              "      <td>4.08</td>\n",
              "      <td>18.64</td>\n",
              "      <td>2.15</td>\n",
              "      <td>6.04</td>\n",
              "      <td>0.38</td>\n",
              "      <td>3.91</td>\n",
              "      <td>0.44</td>\n",
              "      <td>0.44</td>\n",
              "      <td>10.58</td>\n",
              "      <td>2.15</td>\n",
              "      <td>1.12</td>\n",
              "      <td>2.12</td>\n",
              "      <td>2.06</td>\n",
              "      <td>2.21</td>\n",
              "      <td>1.96</td>\n",
              "      <td>1.01</td>\n",
              "      <td>5.96</td>\n",
              "      <td>0.93</td>\n",
              "      <td>1.92</td>\n",
              "      <td>0.69</td>\n",
              "      <td>3.41</td>\n",
              "      <td>13.41</td>\n",
              "      <td>2.17</td>\n",
              "      <td>7.16</td>\n",
              "      <td>0.13</td>\n",
              "    </tr>\n",
              "  </tbody>\n",
              "</table>\n",
              "</div>"
            ],
            "text/plain": [
              "     WC  Analytic  Authentic   Tone  ...  focuspresent  focusfuture  time  death\n",
              "0  4668     29.07      53.10  32.00  ...         13.41         0.99  5.66   0.49\n",
              "1  6755     56.31      66.39  28.97  ...          9.39         1.36  5.79   0.24\n",
              "2  3563     51.88      36.23  69.17  ...          7.75         1.91  6.51   0.20\n",
              "3  1054     54.01      77.44  80.72  ...         10.34         1.14  6.07   0.28\n",
              "4  5248     26.86      58.77  51.82  ...         13.41         2.17  7.16   0.13\n",
              "\n",
              "[5 rows x 36 columns]"
            ]
          },
          "metadata": {
            "tags": []
          },
          "execution_count": 155
        }
      ]
    },
    {
      "cell_type": "code",
      "metadata": {
        "id": "UCTUxeoWma1B",
        "colab_type": "code",
        "colab": {
          "base_uri": "https://localhost:8080/",
          "height": 204
        },
        "outputId": "5f704174-8360-44d7-8d70-4f926d5cd4fc"
      },
      "source": [
        "df_sig5_target = df_sig5.iloc[:,[df_sig5.shape[1]-1]]\n",
        "df_sig5_target.head()"
      ],
      "execution_count": 156,
      "outputs": [
        {
          "output_type": "execute_result",
          "data": {
            "text/html": [
              "<div>\n",
              "<style scoped>\n",
              "    .dataframe tbody tr th:only-of-type {\n",
              "        vertical-align: middle;\n",
              "    }\n",
              "\n",
              "    .dataframe tbody tr th {\n",
              "        vertical-align: top;\n",
              "    }\n",
              "\n",
              "    .dataframe thead th {\n",
              "        text-align: right;\n",
              "    }\n",
              "</style>\n",
              "<table border=\"1\" class=\"dataframe\">\n",
              "  <thead>\n",
              "    <tr style=\"text-align: right;\">\n",
              "      <th></th>\n",
              "      <th>Target</th>\n",
              "    </tr>\n",
              "  </thead>\n",
              "  <tbody>\n",
              "    <tr>\n",
              "      <th>0</th>\n",
              "      <td>1</td>\n",
              "    </tr>\n",
              "    <tr>\n",
              "      <th>1</th>\n",
              "      <td>1</td>\n",
              "    </tr>\n",
              "    <tr>\n",
              "      <th>2</th>\n",
              "      <td>1</td>\n",
              "    </tr>\n",
              "    <tr>\n",
              "      <th>3</th>\n",
              "      <td>1</td>\n",
              "    </tr>\n",
              "    <tr>\n",
              "      <th>4</th>\n",
              "      <td>1</td>\n",
              "    </tr>\n",
              "  </tbody>\n",
              "</table>\n",
              "</div>"
            ],
            "text/plain": [
              "   Target\n",
              "0       1\n",
              "1       1\n",
              "2       1\n",
              "3       1\n",
              "4       1"
            ]
          },
          "metadata": {
            "tags": []
          },
          "execution_count": 156
        }
      ]
    },
    {
      "cell_type": "code",
      "metadata": {
        "id": "D-I14G9lslWq",
        "colab_type": "code",
        "colab": {
          "base_uri": "https://localhost:8080/",
          "height": 34
        },
        "outputId": "c4688c5e-9436-4539-824a-16a6492963b2"
      },
      "source": [
        "df_sig5_train.shape"
      ],
      "execution_count": 157,
      "outputs": [
        {
          "output_type": "execute_result",
          "data": {
            "text/plain": [
              "(460, 36)"
            ]
          },
          "metadata": {
            "tags": []
          },
          "execution_count": 157
        }
      ]
    },
    {
      "cell_type": "code",
      "metadata": {
        "id": "IXmm5h8Yma3c",
        "colab_type": "code",
        "colab": {
          "base_uri": "https://localhost:8080/",
          "height": 34
        },
        "outputId": "dd7f206f-2b1d-4ea0-d61d-49aec4a99750"
      },
      "source": [
        "Train_X, Test_X, Train_Y, Test_Y = model_selection.train_test_split(df_sig5_train,df_sig5_target,test_size=0.3)\n",
        "sum(Test_Y['Target'] == 1)"
      ],
      "execution_count": 158,
      "outputs": [
        {
          "output_type": "execute_result",
          "data": {
            "text/plain": [
              "70"
            ]
          },
          "metadata": {
            "tags": []
          },
          "execution_count": 158
        }
      ]
    },
    {
      "cell_type": "code",
      "metadata": {
        "id": "iLCsZ5OFma8H",
        "colab_type": "code",
        "colab": {
          "base_uri": "https://localhost:8080/",
          "height": 68
        },
        "outputId": "dfe37f3a-ca29-4082-af7b-cd449b8a5fb7"
      },
      "source": [
        "Train_Y.Target.value_counts()"
      ],
      "execution_count": 159,
      "outputs": [
        {
          "output_type": "execute_result",
          "data": {
            "text/plain": [
              "0    162\n",
              "1    160\n",
              "Name: Target, dtype: int64"
            ]
          },
          "metadata": {
            "tags": []
          },
          "execution_count": 159
        }
      ]
    },
    {
      "cell_type": "markdown",
      "metadata": {
        "id": "sH01SDIx8Rge",
        "colab_type": "text"
      },
      "source": [
        "**SVM with linear kernel**"
      ]
    },
    {
      "cell_type": "code",
      "metadata": {
        "id": "O6U53fdPma5l",
        "colab_type": "code",
        "colab": {
          "base_uri": "https://localhost:8080/",
          "height": 139
        },
        "outputId": "363bd0c2-7954-4acb-8c83-9f6915f389ed"
      },
      "source": [
        "svclassifier = SVC(C= 1, kernel='linear', degree=3, gamma=\"auto\")\n",
        "svclassifier.fit(Train_X, Train_Y)"
      ],
      "execution_count": 160,
      "outputs": [
        {
          "output_type": "stream",
          "text": [
            "/usr/local/lib/python3.6/dist-packages/sklearn/utils/validation.py:760: DataConversionWarning: A column-vector y was passed when a 1d array was expected. Please change the shape of y to (n_samples, ), for example using ravel().\n",
            "  y = column_or_1d(y, warn=True)\n"
          ],
          "name": "stderr"
        },
        {
          "output_type": "execute_result",
          "data": {
            "text/plain": [
              "SVC(C=1, break_ties=False, cache_size=200, class_weight=None, coef0=0.0,\n",
              "    decision_function_shape='ovr', degree=3, gamma='auto', kernel='linear',\n",
              "    max_iter=-1, probability=False, random_state=None, shrinking=True,\n",
              "    tol=0.001, verbose=False)"
            ]
          },
          "metadata": {
            "tags": []
          },
          "execution_count": 160
        }
      ]
    },
    {
      "cell_type": "code",
      "metadata": {
        "id": "78A-s7M3o0Le",
        "colab_type": "code",
        "colab": {
          "base_uri": "https://localhost:8080/",
          "height": 34
        },
        "outputId": "19917685-658e-487d-93f5-38c3b76e9752"
      },
      "source": [
        " # Make prediction\n",
        "y_pred = svclassifier.predict(Test_X)\n",
        "# Evaluate our model\n",
        "print(\"Recall :\",recall_score(Test_Y['Target'],y_pred),\"Accuracy :\",accuracy_score(Test_Y['Target'],y_pred))"
      ],
      "execution_count": 161,
      "outputs": [
        {
          "output_type": "stream",
          "text": [
            "Recall : 0.8714285714285714 Accuracy : 0.7898550724637681\n"
          ],
          "name": "stdout"
        }
      ]
    },
    {
      "cell_type": "markdown",
      "metadata": {
        "id": "V8krwuWHo1HI",
        "colab_type": "text"
      },
      "source": [
        "**Logistic Regression**"
      ]
    },
    {
      "cell_type": "code",
      "metadata": {
        "id": "E07QDi6to0OA",
        "colab_type": "code",
        "colab": {
          "base_uri": "https://localhost:8080/",
          "height": 156
        },
        "outputId": "3d35f14e-cc8c-4ae3-b09a-459a11bdaf5c"
      },
      "source": [
        "logreg = LogisticRegression(max_iter=100000)\n",
        "logreg.fit(Train_X, Train_Y)"
      ],
      "execution_count": 162,
      "outputs": [
        {
          "output_type": "stream",
          "text": [
            "/usr/local/lib/python3.6/dist-packages/sklearn/utils/validation.py:760: DataConversionWarning: A column-vector y was passed when a 1d array was expected. Please change the shape of y to (n_samples, ), for example using ravel().\n",
            "  y = column_or_1d(y, warn=True)\n"
          ],
          "name": "stderr"
        },
        {
          "output_type": "execute_result",
          "data": {
            "text/plain": [
              "LogisticRegression(C=1.0, class_weight=None, dual=False, fit_intercept=True,\n",
              "                   intercept_scaling=1, l1_ratio=None, max_iter=100000,\n",
              "                   multi_class='auto', n_jobs=None, penalty='l2',\n",
              "                   random_state=None, solver='lbfgs', tol=0.0001, verbose=0,\n",
              "                   warm_start=False)"
            ]
          },
          "metadata": {
            "tags": []
          },
          "execution_count": 162
        }
      ]
    },
    {
      "cell_type": "code",
      "metadata": {
        "id": "g41Oy_dzo0RF",
        "colab_type": "code",
        "colab": {
          "base_uri": "https://localhost:8080/",
          "height": 34
        },
        "outputId": "d4d19baa-6c33-49af-bfb2-7b1f971fdcbc"
      },
      "source": [
        "y_pred = logreg.predict(Test_X)\n",
        "print('Accuracy of logistic regression classifier on test set: {:.2f}'.format(logreg.score(Test_X, Test_Y)))"
      ],
      "execution_count": 163,
      "outputs": [
        {
          "output_type": "stream",
          "text": [
            "Accuracy of logistic regression classifier on test set: 0.75\n"
          ],
          "name": "stdout"
        }
      ]
    },
    {
      "cell_type": "code",
      "metadata": {
        "id": "8sLPXcEno9WZ",
        "colab_type": "code",
        "colab": {
          "base_uri": "https://localhost:8080/",
          "height": 170
        },
        "outputId": "02be504d-1a5b-4ef0-80f2-542052155ca6"
      },
      "source": [
        "print(classification_report(Test_Y, y_pred))"
      ],
      "execution_count": 164,
      "outputs": [
        {
          "output_type": "stream",
          "text": [
            "              precision    recall  f1-score   support\n",
            "\n",
            "           0       0.79      0.66      0.72        68\n",
            "           1       0.72      0.83      0.77        70\n",
            "\n",
            "    accuracy                           0.75       138\n",
            "   macro avg       0.75      0.75      0.74       138\n",
            "weighted avg       0.75      0.75      0.74       138\n",
            "\n"
          ],
          "name": "stdout"
        }
      ]
    },
    {
      "cell_type": "code",
      "metadata": {
        "id": "xDEppYsb37y4",
        "colab_type": "code",
        "colab": {
          "base_uri": "https://localhost:8080/",
          "height": 34
        },
        "outputId": "917daf59-33b6-4e74-dca5-81d890beab57"
      },
      "source": [
        "precision, recall, fscore, support = score(Test_Y, y_pred)\n",
        "print((recall))"
      ],
      "execution_count": 165,
      "outputs": [
        {
          "output_type": "stream",
          "text": [
            "[0.66176471 0.82857143]\n"
          ],
          "name": "stdout"
        }
      ]
    },
    {
      "cell_type": "code",
      "metadata": {
        "id": "7WRWS6qDo9dl",
        "colab_type": "code",
        "colab": {
          "base_uri": "https://localhost:8080/",
          "height": 307
        },
        "outputId": "64aed685-1799-4233-fef0-b7afc60397d5"
      },
      "source": [
        "logit_roc_auc = roc_auc_score(Test_Y, logreg.predict(Test_X))\n",
        "fpr, tpr, thresholds = roc_curve(Test_Y, logreg.predict_proba(Test_X)[:,1])\n",
        "plt.figure()\n",
        "plt.plot(fpr, tpr, label='Logistic Regression (area = %0.2f)' % logit_roc_auc)\n",
        "plt.plot([0, 1], [0, 1],'r--')\n",
        "plt.xlim([0.0, 1.0])\n",
        "plt.ylim([0.0, 1.05])\n",
        "plt.xlabel('False Positive Rate')\n",
        "plt.ylabel('True Positive Rate')\n",
        "plt.title('Receiver operating characteristic')\n",
        "plt.legend(loc=\"lower right\")\n",
        "plt.savefig('Log_ROC')\n",
        "plt.show()"
      ],
      "execution_count": 166,
      "outputs": [
        {
          "output_type": "display_data",
          "data": {
            "image/png": "[encoded data removed]",
            "text/plain": [
              "<Figure size 432x288 with 1 Axes>"
            ]
          },
          "metadata": {
            "tags": [],
            "needs_background": "light"
          }
        }
      ]
    },
    {
      "cell_type": "markdown",
      "metadata": {
        "id": "UzsxF0aypCUH",
        "colab_type": "text"
      },
      "source": [
        "**LIWC custom chosen features with 5% significance level**"
      ]
    },
    {
      "cell_type": "code",
      "metadata": {
        "id": "K40DN2S_pLIe",
        "colab_type": "code",
        "colab": {
          "base_uri": "https://localhost:8080/",
          "height": 224
        },
        "outputId": "93fd24a3-f95c-4d9c-cd87-88131351c1d0"
      },
      "source": [
        "df_sig5_chosen.head()"
      ],
      "execution_count": 167,
      "outputs": [
        {
          "output_type": "execute_result",
          "data": {
            "text/html": [
              "<div>\n",
              "<style scoped>\n",
              "    .dataframe tbody tr th:only-of-type {\n",
              "        vertical-align: middle;\n",
              "    }\n",
              "\n",
              "    .dataframe tbody tr th {\n",
              "        vertical-align: top;\n",
              "    }\n",
              "\n",
              "    .dataframe thead th {\n",
              "        text-align: right;\n",
              "    }\n",
              "</style>\n",
              "<table border=\"1\" class=\"dataframe\">\n",
              "  <thead>\n",
              "    <tr style=\"text-align: right;\">\n",
              "      <th></th>\n",
              "      <th>Twitter_handle</th>\n",
              "      <th>Analytic</th>\n",
              "      <th>Authentic</th>\n",
              "      <th>Tone</th>\n",
              "      <th>i</th>\n",
              "      <th>adverb</th>\n",
              "      <th>conj</th>\n",
              "      <th>verb</th>\n",
              "      <th>compare</th>\n",
              "      <th>negemo</th>\n",
              "      <th>anx</th>\n",
              "      <th>anger</th>\n",
              "      <th>sad</th>\n",
              "      <th>insight</th>\n",
              "      <th>cause</th>\n",
              "      <th>discrep</th>\n",
              "      <th>tentat</th>\n",
              "      <th>certain</th>\n",
              "      <th>differ</th>\n",
              "      <th>health</th>\n",
              "      <th>sexual</th>\n",
              "      <th>focuspast</th>\n",
              "      <th>focuspresent</th>\n",
              "      <th>focusfuture</th>\n",
              "      <th>time</th>\n",
              "      <th>Target</th>\n",
              "    </tr>\n",
              "  </thead>\n",
              "  <tbody>\n",
              "    <tr>\n",
              "      <th>0</th>\n",
              "      <td>__Siiwe</td>\n",
              "      <td>29.07</td>\n",
              "      <td>53.10</td>\n",
              "      <td>32.00</td>\n",
              "      <td>7.35</td>\n",
              "      <td>6.58</td>\n",
              "      <td>4.88</td>\n",
              "      <td>18.92</td>\n",
              "      <td>1.48</td>\n",
              "      <td>2.98</td>\n",
              "      <td>0.36</td>\n",
              "      <td>1.26</td>\n",
              "      <td>0.81</td>\n",
              "      <td>2.23</td>\n",
              "      <td>2.29</td>\n",
              "      <td>2.19</td>\n",
              "      <td>2.29</td>\n",
              "      <td>1.86</td>\n",
              "      <td>3.64</td>\n",
              "      <td>0.96</td>\n",
              "      <td>0.32</td>\n",
              "      <td>3.68</td>\n",
              "      <td>13.41</td>\n",
              "      <td>0.99</td>\n",
              "      <td>5.66</td>\n",
              "      <td>1</td>\n",
              "    </tr>\n",
              "    <tr>\n",
              "      <th>1</th>\n",
              "      <td>_301yung</td>\n",
              "      <td>56.31</td>\n",
              "      <td>66.39</td>\n",
              "      <td>28.97</td>\n",
              "      <td>7.09</td>\n",
              "      <td>6.10</td>\n",
              "      <td>4.69</td>\n",
              "      <td>15.43</td>\n",
              "      <td>1.73</td>\n",
              "      <td>4.54</td>\n",
              "      <td>0.38</td>\n",
              "      <td>2.37</td>\n",
              "      <td>0.81</td>\n",
              "      <td>2.01</td>\n",
              "      <td>1.72</td>\n",
              "      <td>1.89</td>\n",
              "      <td>2.69</td>\n",
              "      <td>1.98</td>\n",
              "      <td>2.65</td>\n",
              "      <td>0.96</td>\n",
              "      <td>0.71</td>\n",
              "      <td>4.06</td>\n",
              "      <td>9.39</td>\n",
              "      <td>1.36</td>\n",
              "      <td>5.79</td>\n",
              "      <td>1</td>\n",
              "    </tr>\n",
              "    <tr>\n",
              "      <th>2</th>\n",
              "      <td>_illust0907</td>\n",
              "      <td>51.88</td>\n",
              "      <td>36.23</td>\n",
              "      <td>69.17</td>\n",
              "      <td>5.64</td>\n",
              "      <td>6.12</td>\n",
              "      <td>4.80</td>\n",
              "      <td>13.02</td>\n",
              "      <td>1.15</td>\n",
              "      <td>2.72</td>\n",
              "      <td>0.22</td>\n",
              "      <td>0.93</td>\n",
              "      <td>0.95</td>\n",
              "      <td>1.01</td>\n",
              "      <td>1.40</td>\n",
              "      <td>1.63</td>\n",
              "      <td>2.08</td>\n",
              "      <td>1.54</td>\n",
              "      <td>2.36</td>\n",
              "      <td>0.73</td>\n",
              "      <td>0.31</td>\n",
              "      <td>2.98</td>\n",
              "      <td>7.75</td>\n",
              "      <td>1.91</td>\n",
              "      <td>6.51</td>\n",
              "      <td>1</td>\n",
              "    </tr>\n",
              "    <tr>\n",
              "      <th>3</th>\n",
              "      <td>_niebohater</td>\n",
              "      <td>54.01</td>\n",
              "      <td>77.44</td>\n",
              "      <td>80.72</td>\n",
              "      <td>9.01</td>\n",
              "      <td>6.45</td>\n",
              "      <td>5.31</td>\n",
              "      <td>13.38</td>\n",
              "      <td>3.04</td>\n",
              "      <td>2.47</td>\n",
              "      <td>0.38</td>\n",
              "      <td>0.57</td>\n",
              "      <td>0.66</td>\n",
              "      <td>3.04</td>\n",
              "      <td>1.42</td>\n",
              "      <td>1.52</td>\n",
              "      <td>2.66</td>\n",
              "      <td>1.90</td>\n",
              "      <td>3.80</td>\n",
              "      <td>0.66</td>\n",
              "      <td>0.19</td>\n",
              "      <td>2.28</td>\n",
              "      <td>10.34</td>\n",
              "      <td>1.14</td>\n",
              "      <td>6.07</td>\n",
              "      <td>1</td>\n",
              "    </tr>\n",
              "    <tr>\n",
              "      <th>4</th>\n",
              "      <td>_Roxiesaunders</td>\n",
              "      <td>26.86</td>\n",
              "      <td>58.77</td>\n",
              "      <td>51.82</td>\n",
              "      <td>7.72</td>\n",
              "      <td>7.87</td>\n",
              "      <td>4.08</td>\n",
              "      <td>18.64</td>\n",
              "      <td>2.15</td>\n",
              "      <td>6.04</td>\n",
              "      <td>0.38</td>\n",
              "      <td>3.91</td>\n",
              "      <td>0.44</td>\n",
              "      <td>2.15</td>\n",
              "      <td>1.12</td>\n",
              "      <td>2.12</td>\n",
              "      <td>2.06</td>\n",
              "      <td>2.21</td>\n",
              "      <td>1.96</td>\n",
              "      <td>0.93</td>\n",
              "      <td>1.92</td>\n",
              "      <td>3.41</td>\n",
              "      <td>13.41</td>\n",
              "      <td>2.17</td>\n",
              "      <td>7.16</td>\n",
              "      <td>1</td>\n",
              "    </tr>\n",
              "  </tbody>\n",
              "</table>\n",
              "</div>"
            ],
            "text/plain": [
              "   Twitter_handle  Analytic  Authentic  ...  focusfuture  time  Target\n",
              "0         __Siiwe     29.07      53.10  ...         0.99  5.66       1\n",
              "1        _301yung     56.31      66.39  ...         1.36  5.79       1\n",
              "2     _illust0907     51.88      36.23  ...         1.91  6.51       1\n",
              "3     _niebohater     54.01      77.44  ...         1.14  6.07       1\n",
              "4  _Roxiesaunders     26.86      58.77  ...         2.17  7.16       1\n",
              "\n",
              "[5 rows x 26 columns]"
            ]
          },
          "metadata": {
            "tags": []
          },
          "execution_count": 167
        }
      ]
    },
    {
      "cell_type": "code",
      "metadata": {
        "id": "SfhN-WFDpLS2",
        "colab_type": "code",
        "colab": {}
      },
      "source": [
        "#Leave out Twitter_handle column from the classifier \n",
        "df_sig5_chosen = df_sig5_chosen.drop(['Twitter_handle'], axis=1)"
      ],
      "execution_count": 168,
      "outputs": []
    },
    {
      "cell_type": "code",
      "metadata": {
        "id": "iQBK-GzmpeO9",
        "colab_type": "code",
        "colab": {}
      },
      "source": [
        "features_for_modeling = list(range(0, df_sig5_chosen.shape[1]-1))"
      ],
      "execution_count": 169,
      "outputs": []
    },
    {
      "cell_type": "code",
      "metadata": {
        "id": "s_xGHwAkpLZ2",
        "colab_type": "code",
        "colab": {
          "base_uri": "https://localhost:8080/",
          "height": 224
        },
        "outputId": "cb676b45-f790-4e36-81a3-16cfb9f6638d"
      },
      "source": [
        "#Seperate Train and target from the dataframe\n",
        "df_sig5_chosen_train = df_sig5_chosen.iloc[:,features_for_modeling]\n",
        "df_sig5_chosen_train.head()"
      ],
      "execution_count": 170,
      "outputs": [
        {
          "output_type": "execute_result",
          "data": {
            "text/html": [
              "<div>\n",
              "<style scoped>\n",
              "    .dataframe tbody tr th:only-of-type {\n",
              "        vertical-align: middle;\n",
              "    }\n",
              "\n",
              "    .dataframe tbody tr th {\n",
              "        vertical-align: top;\n",
              "    }\n",
              "\n",
              "    .dataframe thead th {\n",
              "        text-align: right;\n",
              "    }\n",
              "</style>\n",
              "<table border=\"1\" class=\"dataframe\">\n",
              "  <thead>\n",
              "    <tr style=\"text-align: right;\">\n",
              "      <th></th>\n",
              "      <th>Analytic</th>\n",
              "      <th>Authentic</th>\n",
              "      <th>Tone</th>\n",
              "      <th>i</th>\n",
              "      <th>adverb</th>\n",
              "      <th>conj</th>\n",
              "      <th>verb</th>\n",
              "      <th>compare</th>\n",
              "      <th>negemo</th>\n",
              "      <th>anx</th>\n",
              "      <th>anger</th>\n",
              "      <th>sad</th>\n",
              "      <th>insight</th>\n",
              "      <th>cause</th>\n",
              "      <th>discrep</th>\n",
              "      <th>tentat</th>\n",
              "      <th>certain</th>\n",
              "      <th>differ</th>\n",
              "      <th>health</th>\n",
              "      <th>sexual</th>\n",
              "      <th>focuspast</th>\n",
              "      <th>focuspresent</th>\n",
              "      <th>focusfuture</th>\n",
              "      <th>time</th>\n",
              "    </tr>\n",
              "  </thead>\n",
              "  <tbody>\n",
              "    <tr>\n",
              "      <th>0</th>\n",
              "      <td>29.07</td>\n",
              "      <td>53.10</td>\n",
              "      <td>32.00</td>\n",
              "      <td>7.35</td>\n",
              "      <td>6.58</td>\n",
              "      <td>4.88</td>\n",
              "      <td>18.92</td>\n",
              "      <td>1.48</td>\n",
              "      <td>2.98</td>\n",
              "      <td>0.36</td>\n",
              "      <td>1.26</td>\n",
              "      <td>0.81</td>\n",
              "      <td>2.23</td>\n",
              "      <td>2.29</td>\n",
              "      <td>2.19</td>\n",
              "      <td>2.29</td>\n",
              "      <td>1.86</td>\n",
              "      <td>3.64</td>\n",
              "      <td>0.96</td>\n",
              "      <td>0.32</td>\n",
              "      <td>3.68</td>\n",
              "      <td>13.41</td>\n",
              "      <td>0.99</td>\n",
              "      <td>5.66</td>\n",
              "    </tr>\n",
              "    <tr>\n",
              "      <th>1</th>\n",
              "      <td>56.31</td>\n",
              "      <td>66.39</td>\n",
              "      <td>28.97</td>\n",
              "      <td>7.09</td>\n",
              "      <td>6.10</td>\n",
              "      <td>4.69</td>\n",
              "      <td>15.43</td>\n",
              "      <td>1.73</td>\n",
              "      <td>4.54</td>\n",
              "      <td>0.38</td>\n",
              "      <td>2.37</td>\n",
              "      <td>0.81</td>\n",
              "      <td>2.01</td>\n",
              "      <td>1.72</td>\n",
              "      <td>1.89</td>\n",
              "      <td>2.69</td>\n",
              "      <td>1.98</td>\n",
              "      <td>2.65</td>\n",
              "      <td>0.96</td>\n",
              "      <td>0.71</td>\n",
              "      <td>4.06</td>\n",
              "      <td>9.39</td>\n",
              "      <td>1.36</td>\n",
              "      <td>5.79</td>\n",
              "    </tr>\n",
              "    <tr>\n",
              "      <th>2</th>\n",
              "      <td>51.88</td>\n",
              "      <td>36.23</td>\n",
              "      <td>69.17</td>\n",
              "      <td>5.64</td>\n",
              "      <td>6.12</td>\n",
              "      <td>4.80</td>\n",
              "      <td>13.02</td>\n",
              "      <td>1.15</td>\n",
              "      <td>2.72</td>\n",
              "      <td>0.22</td>\n",
              "      <td>0.93</td>\n",
              "      <td>0.95</td>\n",
              "      <td>1.01</td>\n",
              "      <td>1.40</td>\n",
              "      <td>1.63</td>\n",
              "      <td>2.08</td>\n",
              "      <td>1.54</td>\n",
              "      <td>2.36</td>\n",
              "      <td>0.73</td>\n",
              "      <td>0.31</td>\n",
              "      <td>2.98</td>\n",
              "      <td>7.75</td>\n",
              "      <td>1.91</td>\n",
              "      <td>6.51</td>\n",
              "    </tr>\n",
              "    <tr>\n",
              "      <th>3</th>\n",
              "      <td>54.01</td>\n",
              "      <td>77.44</td>\n",
              "      <td>80.72</td>\n",
              "      <td>9.01</td>\n",
              "      <td>6.45</td>\n",
              "      <td>5.31</td>\n",
              "      <td>13.38</td>\n",
              "      <td>3.04</td>\n",
              "      <td>2.47</td>\n",
              "      <td>0.38</td>\n",
              "      <td>0.57</td>\n",
              "      <td>0.66</td>\n",
              "      <td>3.04</td>\n",
              "      <td>1.42</td>\n",
              "      <td>1.52</td>\n",
              "      <td>2.66</td>\n",
              "      <td>1.90</td>\n",
              "      <td>3.80</td>\n",
              "      <td>0.66</td>\n",
              "      <td>0.19</td>\n",
              "      <td>2.28</td>\n",
              "      <td>10.34</td>\n",
              "      <td>1.14</td>\n",
              "      <td>6.07</td>\n",
              "    </tr>\n",
              "    <tr>\n",
              "      <th>4</th>\n",
              "      <td>26.86</td>\n",
              "      <td>58.77</td>\n",
              "      <td>51.82</td>\n",
              "      <td>7.72</td>\n",
              "      <td>7.87</td>\n",
              "      <td>4.08</td>\n",
              "      <td>18.64</td>\n",
              "      <td>2.15</td>\n",
              "      <td>6.04</td>\n",
              "      <td>0.38</td>\n",
              "      <td>3.91</td>\n",
              "      <td>0.44</td>\n",
              "      <td>2.15</td>\n",
              "      <td>1.12</td>\n",
              "      <td>2.12</td>\n",
              "      <td>2.06</td>\n",
              "      <td>2.21</td>\n",
              "      <td>1.96</td>\n",
              "      <td>0.93</td>\n",
              "      <td>1.92</td>\n",
              "      <td>3.41</td>\n",
              "      <td>13.41</td>\n",
              "      <td>2.17</td>\n",
              "      <td>7.16</td>\n",
              "    </tr>\n",
              "  </tbody>\n",
              "</table>\n",
              "</div>"
            ],
            "text/plain": [
              "   Analytic  Authentic   Tone     i  ...  focuspast  focuspresent  focusfuture  time\n",
              "0     29.07      53.10  32.00  7.35  ...       3.68         13.41         0.99  5.66\n",
              "1     56.31      66.39  28.97  7.09  ...       4.06          9.39         1.36  5.79\n",
              "2     51.88      36.23  69.17  5.64  ...       2.98          7.75         1.91  6.51\n",
              "3     54.01      77.44  80.72  9.01  ...       2.28         10.34         1.14  6.07\n",
              "4     26.86      58.77  51.82  7.72  ...       3.41         13.41         2.17  7.16\n",
              "\n",
              "[5 rows x 24 columns]"
            ]
          },
          "metadata": {
            "tags": []
          },
          "execution_count": 170
        }
      ]
    },
    {
      "cell_type": "code",
      "metadata": {
        "id": "bOCZCvPh4Qyr",
        "colab_type": "code",
        "colab": {
          "base_uri": "https://localhost:8080/",
          "height": 34
        },
        "outputId": "6a9760cb-f65e-4086-f4ca-c5d88a772759"
      },
      "source": [
        "df_sig5_chosen_train.shape"
      ],
      "execution_count": 171,
      "outputs": [
        {
          "output_type": "execute_result",
          "data": {
            "text/plain": [
              "(460, 24)"
            ]
          },
          "metadata": {
            "tags": []
          },
          "execution_count": 171
        }
      ]
    },
    {
      "cell_type": "code",
      "metadata": {
        "id": "Crv3VlNcpLcx",
        "colab_type": "code",
        "colab": {
          "base_uri": "https://localhost:8080/",
          "height": 204
        },
        "outputId": "e59ae052-0490-4b89-b90e-d9233b295eaa"
      },
      "source": [
        "df_sig5_chosen_target = df_sig5_chosen.iloc[:,[df_sig5_chosen.shape[1]-1]]\n",
        "df_sig5_chosen_target.head()"
      ],
      "execution_count": 172,
      "outputs": [
        {
          "output_type": "execute_result",
          "data": {
            "text/html": [
              "<div>\n",
              "<style scoped>\n",
              "    .dataframe tbody tr th:only-of-type {\n",
              "        vertical-align: middle;\n",
              "    }\n",
              "\n",
              "    .dataframe tbody tr th {\n",
              "        vertical-align: top;\n",
              "    }\n",
              "\n",
              "    .dataframe thead th {\n",
              "        text-align: right;\n",
              "    }\n",
              "</style>\n",
              "<table border=\"1\" class=\"dataframe\">\n",
              "  <thead>\n",
              "    <tr style=\"text-align: right;\">\n",
              "      <th></th>\n",
              "      <th>Target</th>\n",
              "    </tr>\n",
              "  </thead>\n",
              "  <tbody>\n",
              "    <tr>\n",
              "      <th>0</th>\n",
              "      <td>1</td>\n",
              "    </tr>\n",
              "    <tr>\n",
              "      <th>1</th>\n",
              "      <td>1</td>\n",
              "    </tr>\n",
              "    <tr>\n",
              "      <th>2</th>\n",
              "      <td>1</td>\n",
              "    </tr>\n",
              "    <tr>\n",
              "      <th>3</th>\n",
              "      <td>1</td>\n",
              "    </tr>\n",
              "    <tr>\n",
              "      <th>4</th>\n",
              "      <td>1</td>\n",
              "    </tr>\n",
              "  </tbody>\n",
              "</table>\n",
              "</div>"
            ],
            "text/plain": [
              "   Target\n",
              "0       1\n",
              "1       1\n",
              "2       1\n",
              "3       1\n",
              "4       1"
            ]
          },
          "metadata": {
            "tags": []
          },
          "execution_count": 172
        }
      ]
    },
    {
      "cell_type": "code",
      "metadata": {
        "id": "t7T7VXnRpLfh",
        "colab_type": "code",
        "colab": {
          "base_uri": "https://localhost:8080/",
          "height": 34
        },
        "outputId": "f8f214b3-ecbb-45db-92a7-50aac9dea8e7"
      },
      "source": [
        "Train_X, Test_X, Train_Y, Test_Y = model_selection.train_test_split(df_sig5_chosen_train,df_sig5_chosen_target,test_size=0.3)\n",
        "sum(Test_Y['Target'] == 1)"
      ],
      "execution_count": 177,
      "outputs": [
        {
          "output_type": "execute_result",
          "data": {
            "text/plain": [
              "68"
            ]
          },
          "metadata": {
            "tags": []
          },
          "execution_count": 177
        }
      ]
    },
    {
      "cell_type": "code",
      "metadata": {
        "id": "jQM-szn-pLiR",
        "colab_type": "code",
        "colab": {
          "base_uri": "https://localhost:8080/",
          "height": 68
        },
        "outputId": "d2b03ec0-f947-4d69-8242-de245f4337a5"
      },
      "source": [
        "Train_Y.Target.value_counts()"
      ],
      "execution_count": 178,
      "outputs": [
        {
          "output_type": "execute_result",
          "data": {
            "text/plain": [
              "1    162\n",
              "0    160\n",
              "Name: Target, dtype: int64"
            ]
          },
          "metadata": {
            "tags": []
          },
          "execution_count": 178
        }
      ]
    },
    {
      "cell_type": "code",
      "metadata": {
        "id": "gT7YDXBFpLxq",
        "colab_type": "code",
        "colab": {
          "base_uri": "https://localhost:8080/",
          "height": 139
        },
        "outputId": "218d2b65-046c-4e7f-b73e-b6cf04f2c911"
      },
      "source": [
        "svclassifier = SVC(C= 1, kernel='linear', degree=3, gamma=\"auto\")\n",
        "svclassifier.fit(Train_X, Train_Y)"
      ],
      "execution_count": 179,
      "outputs": [
        {
          "output_type": "stream",
          "text": [
            "/usr/local/lib/python3.6/dist-packages/sklearn/utils/validation.py:760: DataConversionWarning: A column-vector y was passed when a 1d array was expected. Please change the shape of y to (n_samples, ), for example using ravel().\n",
            "  y = column_or_1d(y, warn=True)\n"
          ],
          "name": "stderr"
        },
        {
          "output_type": "execute_result",
          "data": {
            "text/plain": [
              "SVC(C=1, break_ties=False, cache_size=200, class_weight=None, coef0=0.0,\n",
              "    decision_function_shape='ovr', degree=3, gamma='auto', kernel='linear',\n",
              "    max_iter=-1, probability=False, random_state=None, shrinking=True,\n",
              "    tol=0.001, verbose=False)"
            ]
          },
          "metadata": {
            "tags": []
          },
          "execution_count": 179
        }
      ]
    },
    {
      "cell_type": "code",
      "metadata": {
        "id": "tCfcwSQBpLua",
        "colab_type": "code",
        "colab": {
          "base_uri": "https://localhost:8080/",
          "height": 34
        },
        "outputId": "e29196cc-cb97-497b-bfe5-99898af3542f"
      },
      "source": [
        "# Make prediction\n",
        "y_pred = svclassifier.predict(Test_X)\n",
        "# Evaluate our model\n",
        "print(\"Recall :\",recall_score(Test_Y['Target'],y_pred),\"Accuracy :\",accuracy_score(Test_Y['Target'],y_pred))"
      ],
      "execution_count": 180,
      "outputs": [
        {
          "output_type": "stream",
          "text": [
            "Recall : 0.8529411764705882 Accuracy : 0.7391304347826086\n"
          ],
          "name": "stdout"
        }
      ]
    },
    {
      "cell_type": "markdown",
      "metadata": {
        "id": "fD3khvmyplRv",
        "colab_type": "text"
      },
      "source": [
        "**Logistic Regression**"
      ]
    },
    {
      "cell_type": "code",
      "metadata": {
        "id": "ObD0UAOupLqv",
        "colab_type": "code",
        "colab": {
          "base_uri": "https://localhost:8080/",
          "height": 156
        },
        "outputId": "3deb62ce-3b1d-48b9-f41e-ca138c2d990e"
      },
      "source": [
        "logreg = LogisticRegression(max_iter=100000)\n",
        "logreg.fit(Train_X, Train_Y)"
      ],
      "execution_count": 181,
      "outputs": [
        {
          "output_type": "stream",
          "text": [
            "/usr/local/lib/python3.6/dist-packages/sklearn/utils/validation.py:760: DataConversionWarning: A column-vector y was passed when a 1d array was expected. Please change the shape of y to (n_samples, ), for example using ravel().\n",
            "  y = column_or_1d(y, warn=True)\n"
          ],
          "name": "stderr"
        },
        {
          "output_type": "execute_result",
          "data": {
            "text/plain": [
              "LogisticRegression(C=1.0, class_weight=None, dual=False, fit_intercept=True,\n",
              "                   intercept_scaling=1, l1_ratio=None, max_iter=100000,\n",
              "                   multi_class='auto', n_jobs=None, penalty='l2',\n",
              "                   random_state=None, solver='lbfgs', tol=0.0001, verbose=0,\n",
              "                   warm_start=False)"
            ]
          },
          "metadata": {
            "tags": []
          },
          "execution_count": 181
        }
      ]
    },
    {
      "cell_type": "code",
      "metadata": {
        "id": "QvCgmAr8pLm3",
        "colab_type": "code",
        "colab": {
          "base_uri": "https://localhost:8080/",
          "height": 34
        },
        "outputId": "db4ad09a-7767-425c-d137-13132c4a3a5f"
      },
      "source": [
        "y_pred = logreg.predict(Test_X)\n",
        "print('Accuracy of logistic regression classifier on test set: {:.2f}'.format(logreg.score(Test_X, Test_Y)))"
      ],
      "execution_count": 182,
      "outputs": [
        {
          "output_type": "stream",
          "text": [
            "Accuracy of logistic regression classifier on test set: 0.72\n"
          ],
          "name": "stdout"
        }
      ]
    },
    {
      "cell_type": "code",
      "metadata": {
        "id": "14omV5kopLlF",
        "colab_type": "code",
        "colab": {
          "base_uri": "https://localhost:8080/",
          "height": 170
        },
        "outputId": "edfa50d0-e720-48e3-c1db-840a59146e48"
      },
      "source": [
        "print(classification_report(Test_Y, y_pred))"
      ],
      "execution_count": 183,
      "outputs": [
        {
          "output_type": "stream",
          "text": [
            "              precision    recall  f1-score   support\n",
            "\n",
            "           0       0.78      0.64      0.70        70\n",
            "           1       0.69      0.81      0.74        68\n",
            "\n",
            "    accuracy                           0.72       138\n",
            "   macro avg       0.73      0.73      0.72       138\n",
            "weighted avg       0.73      0.72      0.72       138\n",
            "\n"
          ],
          "name": "stdout"
        }
      ]
    },
    {
      "cell_type": "code",
      "metadata": {
        "id": "Ijn94D2D4qWr",
        "colab_type": "code",
        "colab": {
          "base_uri": "https://localhost:8080/",
          "height": 34
        },
        "outputId": "d3b9c729-8c9a-4ad4-c18d-e1a7da67ae5e"
      },
      "source": [
        "precision, recall, fscore, support = score(Test_Y, y_pred)\n",
        "print((recall))"
      ],
      "execution_count": 184,
      "outputs": [
        {
          "output_type": "stream",
          "text": [
            "[0.64285714 0.80882353]\n"
          ],
          "name": "stdout"
        }
      ]
    },
    {
      "cell_type": "code",
      "metadata": {
        "id": "Q_bNFY1Mpzcg",
        "colab_type": "code",
        "colab": {
          "base_uri": "https://localhost:8080/",
          "height": 307
        },
        "outputId": "b018cc76-0130-4f66-edc9-4ad851bd55f8"
      },
      "source": [
        "logit_roc_auc = roc_auc_score(Test_Y, logreg.predict(Test_X))\n",
        "fpr, tpr, thresholds = roc_curve(Test_Y, logreg.predict_proba(Test_X)[:,1])\n",
        "plt.figure()\n",
        "plt.plot(fpr, tpr, label='Logistic Regression (area = %0.2f)' % logit_roc_auc)\n",
        "plt.plot([0, 1], [0, 1],'r--')\n",
        "plt.xlim([0.0, 1.0])\n",
        "plt.ylim([0.0, 1.05])\n",
        "plt.xlabel('False Positive Rate')\n",
        "plt.ylabel('True Positive Rate')\n",
        "plt.title('Receiver operating characteristic')\n",
        "plt.legend(loc=\"lower right\")\n",
        "plt.savefig('Log_ROC')\n",
        "plt.show()"
      ],
      "execution_count": 185,
      "outputs": [
        {
          "output_type": "display_data",
          "data": {
            "image/png": "[encoded data removed]",
            "text/plain": [
              "<Figure size 432x288 with 1 Axes>"
            ]
          },
          "metadata": {
            "tags": [],
            "needs_background": "light"
          }
        }
      ]
    }
  ]
}