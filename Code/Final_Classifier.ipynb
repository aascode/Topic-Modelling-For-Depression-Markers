{
  "nbformat": 4,
  "nbformat_minor": 0,
  "metadata": {
    "colab": {
      "name": "Final_Classifier.ipynb",
      "provenance": [],
      "collapsed_sections": [],
      "authorship_tag": "ABX9TyPilwZeir3SsLryJpIOEq/O",
      "include_colab_link": true
    },
    "kernelspec": {
      "name": "python3",
      "display_name": "Python 3"
    }
  },
  "cells": [
    {
      "cell_type": "markdown",
      "metadata": {
        "id": "view-in-github",
        "colab_type": "text"
      },
      "source": [
        "<a href=\"https://colab.research.google.com/github/abhilashhn1993/depression-assessment-on-twitter/blob/Dragon/Code/Final_Classifier.ipynb\" target=\"_parent\"><img src=\"https://colab.research.google.com/assets/colab-badge.svg\" alt=\"Open In Colab\"/></a>"
      ]
    },
    {
      "cell_type": "code",
      "metadata": {
        "id": "-RHUo5Am8e4l",
        "colab_type": "code",
        "colab": {}
      },
      "source": [
        "import pandas as pd\n",
        "import numpy as np\n",
        "import matplotlib.pyplot as plt \n",
        "import re\n",
        "import string\n",
        "import datetime"
      ],
      "execution_count": 1,
      "outputs": []
    },
    {
      "cell_type": "code",
      "metadata": {
        "id": "ceWMxnS38l3_",
        "colab_type": "code",
        "colab": {}
      },
      "source": [
        "from sklearn.linear_model import LogisticRegression\n",
        "from sklearn import metrics\n",
        "from sklearn.metrics import classification_report\n",
        "from sklearn.metrics import precision_recall_fscore_support as score\n",
        "from sklearn.metrics import roc_auc_score\n",
        "from sklearn.metrics import roc_curve\n",
        "from sklearn.svm import SVC\n",
        "\n",
        "from sklearn import model_selection, naive_bayes, svm\n",
        "from sklearn.model_selection import cross_val_score\n",
        "from sklearn.metrics import accuracy_score, recall_score, precision_score"
      ],
      "execution_count": 2,
      "outputs": []
    },
    {
      "cell_type": "code",
      "metadata": {
        "id": "_AHH6gXIZFfv",
        "colab_type": "code",
        "colab": {}
      },
      "source": [
        "def performCV(X, Y, model, folds, measure):\n",
        "  return cross_val_score(model, X, Y, cv=folds, scoring=measure)"
      ],
      "execution_count": 3,
      "outputs": []
    },
    {
      "cell_type": "code",
      "metadata": {
        "id": "wZWjsVhI81Rh",
        "colab_type": "code",
        "colab": {
          "resources": {
            "http://localhost:8080/nbextensions/google.colab/files.js": {
              "data": "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",
              "ok": true,
              "headers": [
                [
                  "content-type",
                  "application/javascript"
                ]
              ],
              "status": 200,
              "status_text": ""
            }
          },
          "base_uri": "https://localhost:8080/",
          "height": 73
        },
        "outputId": "0d6243d3-731a-462b-b27e-3e4994e9ebdb"
      },
      "source": [
        "from google.colab import files\n",
        "uploaded = files.upload()"
      ],
      "execution_count": 203,
      "outputs": [
        {
          "output_type": "display_data",
          "data": {
            "text/html": [
              "\n",
              "     <input type=\"file\" id=\"files-2b0a72e5-88a1-40f5-8488-40424716eed1\" name=\"files[]\" multiple disabled\n",
              "        style=\"border:none\" />\n",
              "     <output id=\"result-2b0a72e5-88a1-40f5-8488-40424716eed1\">\n",
              "      Upload widget is only available when the cell has been executed in the\n",
              "      current browser session. Please rerun this cell to enable.\n",
              "      </output>\n",
              "      <script src=\"/nbextensions/google.colab/files.js\"></script> "
            ],
            "text/plain": [
              "<IPython.core.display.HTML object>"
            ]
          },
          "metadata": {
            "tags": []
          }
        },
        {
          "output_type": "stream",
          "text": [
            "Saving Topics_Only.xlsx to Topics_Only (1).xlsx\n"
          ],
          "name": "stdout"
        }
      ]
    },
    {
      "cell_type": "code",
      "metadata": {
        "id": "1IXXiUxB83Hw",
        "colab_type": "code",
        "colab": {}
      },
      "source": [
        "import io\n",
        "df = pd.read_excel(io.BytesIO(uploaded['Topics_Only.xlsx']))"
      ],
      "execution_count": 205,
      "outputs": []
    },
    {
      "cell_type": "code",
      "metadata": {
        "id": "Cux6PZ3A87OH",
        "colab_type": "code",
        "colab": {
          "base_uri": "https://localhost:8080/",
          "height": 195
        },
        "outputId": "46d49d59-bd21-49ff-bbdf-dab0568aab1d"
      },
      "source": [
        "df.head()"
      ],
      "execution_count": 206,
      "outputs": [
        {
          "output_type": "execute_result",
          "data": {
            "text/html": [
              "<div>\n",
              "<style scoped>\n",
              "    .dataframe tbody tr th:only-of-type {\n",
              "        vertical-align: middle;\n",
              "    }\n",
              "\n",
              "    .dataframe tbody tr th {\n",
              "        vertical-align: top;\n",
              "    }\n",
              "\n",
              "    .dataframe thead th {\n",
              "        text-align: right;\n",
              "    }\n",
              "</style>\n",
              "<table border=\"1\" class=\"dataframe\">\n",
              "  <thead>\n",
              "    <tr style=\"text-align: right;\">\n",
              "      <th></th>\n",
              "      <th>Twitter_handle</th>\n",
              "      <th>LifeStyle</th>\n",
              "      <th>Mental Symptoms</th>\n",
              "      <th>Causes</th>\n",
              "      <th>SwearWords</th>\n",
              "      <th>Physical Symptoms</th>\n",
              "      <th>Treatment</th>\n",
              "      <th>Coping</th>\n",
              "      <th>Target</th>\n",
              "    </tr>\n",
              "  </thead>\n",
              "  <tbody>\n",
              "    <tr>\n",
              "      <th>0</th>\n",
              "      <td>__Siiwe</td>\n",
              "      <td>-0.183931</td>\n",
              "      <td>-0.129494</td>\n",
              "      <td>-0.025080</td>\n",
              "      <td>-0.184917</td>\n",
              "      <td>-0.097570</td>\n",
              "      <td>-0.177434</td>\n",
              "      <td>-0.205812</td>\n",
              "      <td>1</td>\n",
              "    </tr>\n",
              "    <tr>\n",
              "      <th>1</th>\n",
              "      <td>_301yung</td>\n",
              "      <td>-0.073237</td>\n",
              "      <td>0.221005</td>\n",
              "      <td>0.255152</td>\n",
              "      <td>0.775777</td>\n",
              "      <td>0.440054</td>\n",
              "      <td>0.382733</td>\n",
              "      <td>-0.081069</td>\n",
              "      <td>1</td>\n",
              "    </tr>\n",
              "    <tr>\n",
              "      <th>2</th>\n",
              "      <td>_illust0907</td>\n",
              "      <td>-0.114019</td>\n",
              "      <td>-0.299090</td>\n",
              "      <td>-0.256383</td>\n",
              "      <td>-0.177107</td>\n",
              "      <td>-0.205495</td>\n",
              "      <td>-0.262566</td>\n",
              "      <td>-0.056121</td>\n",
              "      <td>1</td>\n",
              "    </tr>\n",
              "    <tr>\n",
              "      <th>3</th>\n",
              "      <td>_niebohater</td>\n",
              "      <td>-0.143149</td>\n",
              "      <td>-0.378235</td>\n",
              "      <td>-0.318656</td>\n",
              "      <td>-0.333317</td>\n",
              "      <td>-0.341400</td>\n",
              "      <td>-0.437937</td>\n",
              "      <td>-0.280657</td>\n",
              "      <td>1</td>\n",
              "    </tr>\n",
              "    <tr>\n",
              "      <th>4</th>\n",
              "      <td>_Roxiesaunders</td>\n",
              "      <td>-0.102367</td>\n",
              "      <td>-0.050349</td>\n",
              "      <td>-0.022856</td>\n",
              "      <td>0.400872</td>\n",
              "      <td>0.056322</td>\n",
              "      <td>-0.124652</td>\n",
              "      <td>-0.081069</td>\n",
              "      <td>1</td>\n",
              "    </tr>\n",
              "  </tbody>\n",
              "</table>\n",
              "</div>"
            ],
            "text/plain": [
              "   Twitter_handle  LifeStyle  Mental Symptoms  ...  Treatment    Coping  Target\n",
              "0         __Siiwe  -0.183931        -0.129494  ...  -0.177434 -0.205812       1\n",
              "1        _301yung  -0.073237         0.221005  ...   0.382733 -0.081069       1\n",
              "2     _illust0907  -0.114019        -0.299090  ...  -0.262566 -0.056121       1\n",
              "3     _niebohater  -0.143149        -0.378235  ...  -0.437937 -0.280657       1\n",
              "4  _Roxiesaunders  -0.102367        -0.050349  ...  -0.124652 -0.081069       1\n",
              "\n",
              "[5 rows x 9 columns]"
            ]
          },
          "metadata": {
            "tags": []
          },
          "execution_count": 206
        }
      ]
    },
    {
      "cell_type": "code",
      "metadata": {
        "id": "EQdhU9k0qTPe",
        "colab_type": "code",
        "colab": {
          "base_uri": "https://localhost:8080/",
          "height": 34
        },
        "outputId": "aa7b0630-2ffd-4e98-d9ff-8f8ae9494221"
      },
      "source": [
        "df.shape"
      ],
      "execution_count": 207,
      "outputs": [
        {
          "output_type": "execute_result",
          "data": {
            "text/plain": [
              "(458, 9)"
            ]
          },
          "metadata": {
            "tags": []
          },
          "execution_count": 207
        }
      ]
    },
    {
      "cell_type": "code",
      "metadata": {
        "id": "TuImrm9V88Qd",
        "colab_type": "code",
        "colab": {}
      },
      "source": [
        "#Data pre-processing\n",
        "#Leave out Twitter_handle column from the classifier \n",
        "df = df.drop(['Twitter_handle'], axis=1)"
      ],
      "execution_count": 208,
      "outputs": []
    },
    {
      "cell_type": "markdown",
      "metadata": {
        "id": "BKS0K_TIWT7c",
        "colab_type": "text"
      },
      "source": [
        "**###############OPTIONAL(SKIP IF NOT NEEDED)########################**"
      ]
    },
    {
      "cell_type": "markdown",
      "metadata": {
        "id": "18hC9nsJfYDQ",
        "colab_type": "text"
      },
      "source": [
        "**Performing One hot encoding to convert categorical features for modeling**"
      ]
    },
    {
      "cell_type": "code",
      "metadata": {
        "id": "ORqwcykd9LkV",
        "colab_type": "code",
        "colab": {}
      },
      "source": [
        "new_cols = ['Age_group','Gender']"
      ],
      "execution_count": 148,
      "outputs": []
    },
    {
      "cell_type": "code",
      "metadata": {
        "id": "P-EfQpHcvapl",
        "colab_type": "code",
        "colab": {}
      },
      "source": [
        "df_proc = pd.get_dummies(df, prefix_sep=\"_\", columns=new_cols)\n",
        "df_proc.head()"
      ],
      "execution_count": null,
      "outputs": []
    },
    {
      "cell_type": "code",
      "metadata": {
        "id": "huWYYH3uvauw",
        "colab_type": "code",
        "colab": {}
      },
      "source": [
        "features_for_modeling = list(range(0, df_proc.shape[1]-1))"
      ],
      "execution_count": 150,
      "outputs": []
    },
    {
      "cell_type": "code",
      "metadata": {
        "id": "2v9fHxxQvazr",
        "colab_type": "code",
        "colab": {
          "base_uri": "https://localhost:8080/",
          "height": 232
        },
        "outputId": "194aea3b-7f84-4dfe-d85c-d5cd8bfdb096"
      },
      "source": [
        "#Seperate Train and target from the dataframe\n",
        "df_proc_train = df_proc.iloc[:,features_for_modeling]\n",
        "df_proc_train = df_proc.drop(['Target'], axis=1)\n",
        "df_proc_train.head()"
      ],
      "execution_count": 151,
      "outputs": [
        {
          "output_type": "execute_result",
          "data": {
            "text/html": [
              "<div>\n",
              "<style scoped>\n",
              "    .dataframe tbody tr th:only-of-type {\n",
              "        vertical-align: middle;\n",
              "    }\n",
              "\n",
              "    .dataframe tbody tr th {\n",
              "        vertical-align: top;\n",
              "    }\n",
              "\n",
              "    .dataframe thead th {\n",
              "        text-align: right;\n",
              "    }\n",
              "</style>\n",
              "<table border=\"1\" class=\"dataframe\">\n",
              "  <thead>\n",
              "    <tr style=\"text-align: right;\">\n",
              "      <th></th>\n",
              "      <th>LifeStyle</th>\n",
              "      <th>Mental Symptoms</th>\n",
              "      <th>Causes</th>\n",
              "      <th>SwearWords</th>\n",
              "      <th>Physical Symptoms</th>\n",
              "      <th>Treatment</th>\n",
              "      <th>Coping</th>\n",
              "      <th>Age_group_19-29</th>\n",
              "      <th>Age_group_30-39</th>\n",
              "      <th>Age_group_&lt;=18</th>\n",
              "      <th>Age_group_&gt;=40</th>\n",
              "      <th>Gender_female</th>\n",
              "      <th>Gender_male</th>\n",
              "    </tr>\n",
              "  </thead>\n",
              "  <tbody>\n",
              "    <tr>\n",
              "      <th>0</th>\n",
              "      <td>-0.183931</td>\n",
              "      <td>-0.129494</td>\n",
              "      <td>-0.025080</td>\n",
              "      <td>-0.184917</td>\n",
              "      <td>-0.097570</td>\n",
              "      <td>-0.177434</td>\n",
              "      <td>-0.205812</td>\n",
              "      <td>1</td>\n",
              "      <td>0</td>\n",
              "      <td>0</td>\n",
              "      <td>0</td>\n",
              "      <td>0</td>\n",
              "      <td>1</td>\n",
              "    </tr>\n",
              "    <tr>\n",
              "      <th>1</th>\n",
              "      <td>-0.073237</td>\n",
              "      <td>0.221005</td>\n",
              "      <td>0.255152</td>\n",
              "      <td>0.775777</td>\n",
              "      <td>0.440054</td>\n",
              "      <td>0.382733</td>\n",
              "      <td>-0.081069</td>\n",
              "      <td>0</td>\n",
              "      <td>0</td>\n",
              "      <td>1</td>\n",
              "      <td>0</td>\n",
              "      <td>0</td>\n",
              "      <td>1</td>\n",
              "    </tr>\n",
              "    <tr>\n",
              "      <th>2</th>\n",
              "      <td>-0.114019</td>\n",
              "      <td>-0.299090</td>\n",
              "      <td>-0.256383</td>\n",
              "      <td>-0.177107</td>\n",
              "      <td>-0.205495</td>\n",
              "      <td>-0.262566</td>\n",
              "      <td>-0.056121</td>\n",
              "      <td>1</td>\n",
              "      <td>0</td>\n",
              "      <td>0</td>\n",
              "      <td>0</td>\n",
              "      <td>0</td>\n",
              "      <td>1</td>\n",
              "    </tr>\n",
              "    <tr>\n",
              "      <th>3</th>\n",
              "      <td>-0.143149</td>\n",
              "      <td>-0.378235</td>\n",
              "      <td>-0.318656</td>\n",
              "      <td>-0.333317</td>\n",
              "      <td>-0.341400</td>\n",
              "      <td>-0.437937</td>\n",
              "      <td>-0.280657</td>\n",
              "      <td>1</td>\n",
              "      <td>0</td>\n",
              "      <td>0</td>\n",
              "      <td>0</td>\n",
              "      <td>0</td>\n",
              "      <td>1</td>\n",
              "    </tr>\n",
              "    <tr>\n",
              "      <th>4</th>\n",
              "      <td>-0.102367</td>\n",
              "      <td>-0.050349</td>\n",
              "      <td>-0.022856</td>\n",
              "      <td>0.400872</td>\n",
              "      <td>0.056322</td>\n",
              "      <td>-0.124652</td>\n",
              "      <td>-0.081069</td>\n",
              "      <td>1</td>\n",
              "      <td>0</td>\n",
              "      <td>0</td>\n",
              "      <td>0</td>\n",
              "      <td>1</td>\n",
              "      <td>0</td>\n",
              "    </tr>\n",
              "  </tbody>\n",
              "</table>\n",
              "</div>"
            ],
            "text/plain": [
              "   LifeStyle  Mental Symptoms  ...  Gender_female  Gender_male\n",
              "0  -0.183931        -0.129494  ...              0            1\n",
              "1  -0.073237         0.221005  ...              0            1\n",
              "2  -0.114019        -0.299090  ...              0            1\n",
              "3  -0.143149        -0.378235  ...              0            1\n",
              "4  -0.102367        -0.050349  ...              1            0\n",
              "\n",
              "[5 rows x 13 columns]"
            ]
          },
          "metadata": {
            "tags": []
          },
          "execution_count": 151
        }
      ]
    },
    {
      "cell_type": "code",
      "metadata": {
        "id": "_tv76yaxva8c",
        "colab_type": "code",
        "colab": {}
      },
      "source": [
        "df_proc_target = df_proc.loc[:,['Target']]\n",
        "df_proc_target.head()"
      ],
      "execution_count": null,
      "outputs": []
    },
    {
      "cell_type": "code",
      "metadata": {
        "id": "4lgdJeYrva56",
        "colab_type": "code",
        "colab": {
          "base_uri": "https://localhost:8080/",
          "height": 34
        },
        "outputId": "d03e514b-d236-40fe-b3c2-6fd35a69f75c"
      },
      "source": [
        "df_proc_train.shape"
      ],
      "execution_count": 153,
      "outputs": [
        {
          "output_type": "execute_result",
          "data": {
            "text/plain": [
              "(458, 13)"
            ]
          },
          "metadata": {
            "tags": []
          },
          "execution_count": 153
        }
      ]
    },
    {
      "cell_type": "code",
      "metadata": {
        "id": "B8iDMy6ava2X",
        "colab_type": "code",
        "colab": {}
      },
      "source": [
        "Train_X, Test_X, Train_Y, Test_Y = model_selection.train_test_split(df_proc_train,df_proc_target,test_size=0.3)\n",
        "sum(Test_Y['Target'] == 1)"
      ],
      "execution_count": null,
      "outputs": []
    },
    {
      "cell_type": "code",
      "metadata": {
        "id": "BFjAg-urvaxz",
        "colab_type": "code",
        "colab": {}
      },
      "source": [
        "Train_Y.Target.value_counts()"
      ],
      "execution_count": null,
      "outputs": []
    },
    {
      "cell_type": "markdown",
      "metadata": {
        "id": "VQq2Ux25kdOk",
        "colab_type": "text"
      },
      "source": [
        "**SKIP to classifier after this line of code**"
      ]
    },
    {
      "cell_type": "markdown",
      "metadata": {
        "id": "2MWD504AWpRZ",
        "colab_type": "text"
      },
      "source": [
        "**###############OPTIONAL CODE ENDS########################**"
      ]
    },
    {
      "cell_type": "code",
      "metadata": {
        "id": "EU8gy2mH1JzC",
        "colab_type": "code",
        "colab": {}
      },
      "source": [
        "features_for_modeling = list(range(0, df.shape[1]-1))"
      ],
      "execution_count": 209,
      "outputs": []
    },
    {
      "cell_type": "code",
      "metadata": {
        "id": "tsO-lcxG1ICP",
        "colab_type": "code",
        "colab": {
          "base_uri": "https://localhost:8080/",
          "height": 195
        },
        "outputId": "a878dae1-9460-4810-cecc-da395959a06e"
      },
      "source": [
        "#Seperate Train and target from the dataframe\n",
        "df_train = df.iloc[:,features_for_modeling]\n",
        "df_train = df.drop(['Target'], axis=1)\n",
        "df_train.head()"
      ],
      "execution_count": 210,
      "outputs": [
        {
          "output_type": "execute_result",
          "data": {
            "text/html": [
              "<div>\n",
              "<style scoped>\n",
              "    .dataframe tbody tr th:only-of-type {\n",
              "        vertical-align: middle;\n",
              "    }\n",
              "\n",
              "    .dataframe tbody tr th {\n",
              "        vertical-align: top;\n",
              "    }\n",
              "\n",
              "    .dataframe thead th {\n",
              "        text-align: right;\n",
              "    }\n",
              "</style>\n",
              "<table border=\"1\" class=\"dataframe\">\n",
              "  <thead>\n",
              "    <tr style=\"text-align: right;\">\n",
              "      <th></th>\n",
              "      <th>LifeStyle</th>\n",
              "      <th>Mental Symptoms</th>\n",
              "      <th>Causes</th>\n",
              "      <th>SwearWords</th>\n",
              "      <th>Physical Symptoms</th>\n",
              "      <th>Treatment</th>\n",
              "      <th>Coping</th>\n",
              "    </tr>\n",
              "  </thead>\n",
              "  <tbody>\n",
              "    <tr>\n",
              "      <th>0</th>\n",
              "      <td>-0.183931</td>\n",
              "      <td>-0.129494</td>\n",
              "      <td>-0.025080</td>\n",
              "      <td>-0.184917</td>\n",
              "      <td>-0.097570</td>\n",
              "      <td>-0.177434</td>\n",
              "      <td>-0.205812</td>\n",
              "    </tr>\n",
              "    <tr>\n",
              "      <th>1</th>\n",
              "      <td>-0.073237</td>\n",
              "      <td>0.221005</td>\n",
              "      <td>0.255152</td>\n",
              "      <td>0.775777</td>\n",
              "      <td>0.440054</td>\n",
              "      <td>0.382733</td>\n",
              "      <td>-0.081069</td>\n",
              "    </tr>\n",
              "    <tr>\n",
              "      <th>2</th>\n",
              "      <td>-0.114019</td>\n",
              "      <td>-0.299090</td>\n",
              "      <td>-0.256383</td>\n",
              "      <td>-0.177107</td>\n",
              "      <td>-0.205495</td>\n",
              "      <td>-0.262566</td>\n",
              "      <td>-0.056121</td>\n",
              "    </tr>\n",
              "    <tr>\n",
              "      <th>3</th>\n",
              "      <td>-0.143149</td>\n",
              "      <td>-0.378235</td>\n",
              "      <td>-0.318656</td>\n",
              "      <td>-0.333317</td>\n",
              "      <td>-0.341400</td>\n",
              "      <td>-0.437937</td>\n",
              "      <td>-0.280657</td>\n",
              "    </tr>\n",
              "    <tr>\n",
              "      <th>4</th>\n",
              "      <td>-0.102367</td>\n",
              "      <td>-0.050349</td>\n",
              "      <td>-0.022856</td>\n",
              "      <td>0.400872</td>\n",
              "      <td>0.056322</td>\n",
              "      <td>-0.124652</td>\n",
              "      <td>-0.081069</td>\n",
              "    </tr>\n",
              "  </tbody>\n",
              "</table>\n",
              "</div>"
            ],
            "text/plain": [
              "   LifeStyle  Mental Symptoms    Causes  ...  Physical Symptoms  Treatment    Coping\n",
              "0  -0.183931        -0.129494 -0.025080  ...          -0.097570  -0.177434 -0.205812\n",
              "1  -0.073237         0.221005  0.255152  ...           0.440054   0.382733 -0.081069\n",
              "2  -0.114019        -0.299090 -0.256383  ...          -0.205495  -0.262566 -0.056121\n",
              "3  -0.143149        -0.378235 -0.318656  ...          -0.341400  -0.437937 -0.280657\n",
              "4  -0.102367        -0.050349 -0.022856  ...           0.056322  -0.124652 -0.081069\n",
              "\n",
              "[5 rows x 7 columns]"
            ]
          },
          "metadata": {
            "tags": []
          },
          "execution_count": 210
        }
      ]
    },
    {
      "cell_type": "code",
      "metadata": {
        "id": "u56bXMoV1MHf",
        "colab_type": "code",
        "colab": {}
      },
      "source": [
        "df_target = df.loc[:,['Target']]\n",
        "df_target.head()"
      ],
      "execution_count": null,
      "outputs": []
    },
    {
      "cell_type": "code",
      "metadata": {
        "id": "uhHsrTpz1O21",
        "colab_type": "code",
        "colab": {}
      },
      "source": [
        "df_train.shape"
      ],
      "execution_count": null,
      "outputs": []
    },
    {
      "cell_type": "code",
      "metadata": {
        "id": "VJG2jJ0A1Qi-",
        "colab_type": "code",
        "colab": {}
      },
      "source": [
        "Train_X, Test_X, Train_Y, Test_Y = model_selection.train_test_split(df_train,df_target,test_size=0.3)\n",
        "sum(Test_Y['Target'] == 1)"
      ],
      "execution_count": null,
      "outputs": []
    },
    {
      "cell_type": "code",
      "metadata": {
        "id": "tlwoa_Ev1Sk5",
        "colab_type": "code",
        "colab": {}
      },
      "source": [
        "Train_Y.Target.value_counts()"
      ],
      "execution_count": null,
      "outputs": []
    },
    {
      "cell_type": "markdown",
      "metadata": {
        "id": "BJSoOPvzXaL1",
        "colab_type": "text"
      },
      "source": [
        "**CLASSIFIERS**"
      ]
    },
    {
      "cell_type": "markdown",
      "metadata": {
        "id": "1b_iz1ZofgRc",
        "colab_type": "text"
      },
      "source": [
        "**Naive Bayes Classifier**"
      ]
    },
    {
      "cell_type": "code",
      "metadata": {
        "id": "k7pYorfkfiS8",
        "colab_type": "code",
        "colab": {}
      },
      "source": [
        "from sklearn.naive_bayes import GaussianNB\n",
        "model =  GaussianNB()"
      ],
      "execution_count": 230,
      "outputs": []
    },
    {
      "cell_type": "code",
      "metadata": {
        "id": "sWyscyTinOxg",
        "colab_type": "code",
        "colab": {}
      },
      "source": [
        "nb = model.fit(Train_X, Train_Y)\n",
        "y_pred_nb = nb.predict(Test_X)"
      ],
      "execution_count": null,
      "outputs": []
    },
    {
      "cell_type": "code",
      "metadata": {
        "id": "L8u8vG4PnO0H",
        "colab_type": "code",
        "colab": {
          "base_uri": "https://localhost:8080/",
          "height": 34
        },
        "outputId": "c32c9ca9-d29a-474d-daf7-6f766a89ef2b"
      },
      "source": [
        "print(\"Accuracy:\",metrics.accuracy_score(Test_Y, y_pred_nb))"
      ],
      "execution_count": 232,
      "outputs": [
        {
          "output_type": "stream",
          "text": [
            "Accuracy: 0.8985507246376812\n"
          ],
          "name": "stdout"
        }
      ]
    },
    {
      "cell_type": "code",
      "metadata": {
        "id": "L_0hvE14nO5M",
        "colab_type": "code",
        "colab": {
          "base_uri": "https://localhost:8080/",
          "height": 34
        },
        "outputId": "1ff7c7e7-f6cd-4501-84bc-496a81f32ae5"
      },
      "source": [
        "precision, recall, fscore, support = score(Test_Y, y_pred_nb)\n",
        "print(\"Recall: \", recall.mean(), \"Precision: \", precision.mean(), \"F-score: \", fscore.mean())"
      ],
      "execution_count": 188,
      "outputs": [
        {
          "output_type": "stream",
          "text": [
            "Recall:  0.9052521008403361 Precision:  0.9082539682539683 F-score:  0.9055540931824164\n"
          ],
          "name": "stdout"
        }
      ]
    },
    {
      "cell_type": "code",
      "metadata": {
        "id": "2TrotOXFnO29",
        "colab_type": "code",
        "colab": {
          "base_uri": "https://localhost:8080/",
          "height": 382
        },
        "outputId": "7d49dde0-c89e-4e75-925e-9540ba77fbbe"
      },
      "source": [
        "nb_roc_auc = roc_auc_score(Test_Y, model.fit(Train_X, Train_Y).predict(Test_X))\n",
        "fpr, tpr, thresholds = roc_curve(Test_Y, model.fit(Train_X, Train_Y).predict_proba(Test_X)[:,1])\n",
        "plt.figure()\n",
        "plt.plot(fpr, tpr, label='NB (area = %0.2f)' % nb_roc_auc)\n",
        "plt.plot([0, 1], [0, 1],'r--')\n",
        "plt.xlim([0.0, 1.0])\n",
        "plt.ylim([0.0, 1.05])\n",
        "plt.xlabel('False Positive Rate')\n",
        "plt.ylabel('True Positive Rate')\n",
        "plt.title('ROC')\n",
        "plt.legend(loc=\"lower right\")\n",
        "plt.savefig('NB_TopicsOnly')\n",
        "plt.show()"
      ],
      "execution_count": 233,
      "outputs": [
        {
          "output_type": "stream",
          "text": [
            "/usr/local/lib/python3.6/dist-packages/sklearn/naive_bayes.py:206: DataConversionWarning: A column-vector y was passed when a 1d array was expected. Please change the shape of y to (n_samples, ), for example using ravel().\n",
            "  y = column_or_1d(y, warn=True)\n",
            "/usr/local/lib/python3.6/dist-packages/sklearn/naive_bayes.py:206: DataConversionWarning: A column-vector y was passed when a 1d array was expected. Please change the shape of y to (n_samples, ), for example using ravel().\n",
            "  y = column_or_1d(y, warn=True)\n"
          ],
          "name": "stderr"
        },
        {
          "output_type": "display_data",
          "data": {
            "image/png": "[encoded data removed]",
            "text/plain": [
              "<Figure size 432x288 with 1 Axes>"
            ]
          },
          "metadata": {
            "tags": [],
            "needs_background": "light"
          }
        }
      ]
    },
    {
      "cell_type": "markdown",
      "metadata": {
        "id": "fcjm5eDm4bUR",
        "colab_type": "text"
      },
      "source": [
        "**NB with Cross Validation**"
      ]
    },
    {
      "cell_type": "markdown",
      "metadata": {
        "id": "Yydd4DLq4-I2",
        "colab_type": "text"
      },
      "source": [
        "5 fold CV"
      ]
    },
    {
      "cell_type": "code",
      "metadata": {
        "id": "m0XfQyhL4gfo",
        "colab_type": "code",
        "colab": {}
      },
      "source": [
        "from sklearn.naive_bayes import GaussianNB\n",
        "model =  GaussianNB()\n",
        "\n",
        "accuracy_score = performCV(Train_X, Train_Y, model, 5, 'accuracy')\n",
        "recall_score = performCV(Train_X, Train_Y, model, 5, 'recall')\n",
        "precision_score = performCV(Train_X, Train_Y, model, 5, 'precision')\n",
        "f1_score = performCV(Train_X, Train_Y, model, 5, 'f1')"
      ],
      "execution_count": null,
      "outputs": []
    },
    {
      "cell_type": "code",
      "metadata": {
        "id": "ygIi47RGQttR",
        "colab_type": "code",
        "colab": {
          "base_uri": "https://localhost:8080/",
          "height": 34
        },
        "outputId": "5949f470-d29a-424b-ddb8-be0546117d2b"
      },
      "source": [
        "print(\"Accuracy: \", accuracy_score.mean(), \"Recall: \", recall_score.mean(), \"Precision: \", \n",
        "      precision_score.mean(), \"f1-score: \", f1_score.mean())"
      ],
      "execution_count": 235,
      "outputs": [
        {
          "output_type": "stream",
          "text": [
            "Accuracy:  0.928125 Recall:  0.8868951612903226 Precision:  0.965977011494253 f1-score:  0.9246888771373172\n"
          ],
          "name": "stdout"
        }
      ]
    },
    {
      "cell_type": "markdown",
      "metadata": {
        "id": "OslouataP9K4",
        "colab_type": "text"
      },
      "source": [
        "10 fold CV"
      ]
    },
    {
      "cell_type": "code",
      "metadata": {
        "id": "fpMLDg9qP_CC",
        "colab_type": "code",
        "colab": {}
      },
      "source": [
        "accuracy_score = performCV(Train_X, Train_Y, model, 10, 'accuracy')\n",
        "recall_score = performCV(Train_X, Train_Y, model, 10, 'recall')\n",
        "precision_score = performCV(Train_X, Train_Y, model, 10, 'precision')\n",
        "f1_score = performCV(Train_X, Train_Y, model, 10, 'f1')"
      ],
      "execution_count": null,
      "outputs": []
    },
    {
      "cell_type": "code",
      "metadata": {
        "id": "brAxv85SQzt5",
        "colab_type": "code",
        "colab": {
          "base_uri": "https://localhost:8080/",
          "height": 34
        },
        "outputId": "37611cce-19cf-435f-ca91-bdf16da68e07"
      },
      "source": [
        "print(\"Accuracy: \", accuracy_score.mean(), \"Recall: \", recall_score.mean(), \"Precision: \", \n",
        "      precision_score.mean(), \"f1-score: \", f1_score.mean())"
      ],
      "execution_count": 237,
      "outputs": [
        {
          "output_type": "stream",
          "text": [
            "Accuracy:  0.91875 Recall:  0.87375 Precision:  0.959198717948718 f1-score:  0.9131415196779489\n"
          ],
          "name": "stdout"
        }
      ]
    },
    {
      "cell_type": "markdown",
      "metadata": {
        "id": "6PW2iyl5oDJw",
        "colab_type": "text"
      },
      "source": [
        "**Logistic Regression**"
      ]
    },
    {
      "cell_type": "code",
      "metadata": {
        "id": "tU33Pi3BoYMV",
        "colab_type": "code",
        "colab": {}
      },
      "source": [
        "logreg = LogisticRegression()\n",
        "logreg.fit(Train_X, Train_Y)"
      ],
      "execution_count": null,
      "outputs": []
    },
    {
      "cell_type": "code",
      "metadata": {
        "id": "tQfNAwmcoZ7L",
        "colab_type": "code",
        "colab": {
          "base_uri": "https://localhost:8080/",
          "height": 34
        },
        "outputId": "69fca3a4-1b85-445c-8a8a-5f2a5f7a98bc"
      },
      "source": [
        "y_pred = logreg.predict(Test_X)\n",
        "print('Accuracy of logistic regression classifier on test set: {:.4f}'.format(logreg.score(Test_X, Test_Y)))"
      ],
      "execution_count": 241,
      "outputs": [
        {
          "output_type": "stream",
          "text": [
            "Accuracy of logistic regression classifier on test set: 0.8696\n"
          ],
          "name": "stdout"
        }
      ]
    },
    {
      "cell_type": "code",
      "metadata": {
        "id": "vIluZy6Woe8A",
        "colab_type": "code",
        "colab": {
          "base_uri": "https://localhost:8080/",
          "height": 34
        },
        "outputId": "a7c1a5cd-878e-4248-90bf-159e9b01b7bb"
      },
      "source": [
        "precision, recall, fscore, support = score(Test_Y, y_pred)\n",
        "print(\"Recall: \", recall.mean(), \"Precision: \", precision.mean(), \"F-score: \", fscore.mean())"
      ],
      "execution_count": 242,
      "outputs": [
        {
          "output_type": "stream",
          "text": [
            "Recall:  0.871218487394958 Precision:  0.8895502645502646 F-score:  0.8682088285229203\n"
          ],
          "name": "stdout"
        }
      ]
    },
    {
      "cell_type": "code",
      "metadata": {
        "id": "0aR0UhpZohX6",
        "colab_type": "code",
        "colab": {
          "base_uri": "https://localhost:8080/",
          "height": 295
        },
        "outputId": "a56a0a2f-2572-44eb-eb47-6a7ba04006ee"
      },
      "source": [
        "logit_roc_auc = roc_auc_score(Test_Y, logreg.predict(Test_X))\n",
        "fpr, tpr, thresholds = roc_curve(Test_Y, logreg.predict_proba(Test_X)[:,1])\n",
        "plt.figure()\n",
        "plt.plot(fpr, tpr, label='LR (area = %0.2f)' % logit_roc_auc)\n",
        "plt.plot([0, 1], [0, 1],'r--')\n",
        "plt.xlim([0.0, 1.0])\n",
        "plt.ylim([0.0, 1.05])\n",
        "plt.xlabel('False Positive Rate')\n",
        "plt.ylabel('True Positive Rate')\n",
        "plt.title('ROC')\n",
        "plt.legend(loc=\"lower right\")\n",
        "plt.savefig('LR_TopicsOnly')\n",
        "plt.show()"
      ],
      "execution_count": 243,
      "outputs": [
        {
          "output_type": "display_data",
          "data": {
            "image/png": "[encoded data removed]",
            "text/plain": [
              "<Figure size 432x288 with 1 Axes>"
            ]
          },
          "metadata": {
            "tags": [],
            "needs_background": "light"
          }
        }
      ]
    },
    {
      "cell_type": "markdown",
      "metadata": {
        "id": "HbsiaT2OQQh6",
        "colab_type": "text"
      },
      "source": [
        "**Logistic Regression with Cross Validation**"
      ]
    },
    {
      "cell_type": "code",
      "metadata": {
        "id": "T6oOw8fBQbht",
        "colab_type": "code",
        "colab": {}
      },
      "source": [
        "logreg = LogisticRegression()\n",
        "\n",
        "accuracy_score = performCV(Train_X, Train_Y, logreg, 5, 'accuracy')\n",
        "recall_score = performCV(Train_X, Train_Y, logreg, 5, 'recall')\n",
        "precision_score = performCV(Train_X, Train_Y, logreg, 5, 'precision')\n",
        "f1_score = performCV(Train_X, Train_Y, logreg, 5, 'f1')"
      ],
      "execution_count": null,
      "outputs": []
    },
    {
      "cell_type": "code",
      "metadata": {
        "id": "xmeNXwDqQb87",
        "colab_type": "code",
        "colab": {
          "base_uri": "https://localhost:8080/",
          "height": 34
        },
        "outputId": "0b0e6c53-b8a7-495b-c88d-49e6a7ab204f"
      },
      "source": [
        "print(\"Accuracy: \", accuracy_score.mean(), \"Recall: \", recall_score.mean(), \"Precision: \", \n",
        "      precision_score.mean(), \"f1-score: \", f1_score.mean())"
      ],
      "execution_count": 245,
      "outputs": [
        {
          "output_type": "stream",
          "text": [
            "Accuracy:  0.871875 Recall:  0.7542338709677419 Precision:  0.9846153846153847 f1-score:  0.8523798581659483\n"
          ],
          "name": "stdout"
        }
      ]
    },
    {
      "cell_type": "code",
      "metadata": {
        "id": "cHefOHldRTzU",
        "colab_type": "code",
        "colab": {}
      },
      "source": [
        "accuracy_score = performCV(Train_X, Train_Y, logreg, 10, 'accuracy')\n",
        "recall_score = performCV(Train_X, Train_Y, logreg, 10, 'recall')\n",
        "precision_score = performCV(Train_X, Train_Y, logreg, 10, 'precision')\n",
        "f1_score = performCV(Train_X, Train_Y, logreg, 10, 'f1')"
      ],
      "execution_count": null,
      "outputs": []
    },
    {
      "cell_type": "code",
      "metadata": {
        "id": "6LQ4-GeuRUD8",
        "colab_type": "code",
        "colab": {
          "base_uri": "https://localhost:8080/",
          "height": 34
        },
        "outputId": "2f1a4f91-b262-44ef-9aa7-3145ec871ddf"
      },
      "source": [
        "print(\"Accuracy: \", accuracy_score.mean(), \"Recall: \", recall_score.mean(), \"Precision: \", \n",
        "      precision_score.mean(), \"f1-score: \", f1_score.mean())"
      ],
      "execution_count": 247,
      "outputs": [
        {
          "output_type": "stream",
          "text": [
            "Accuracy:  0.875 Recall:  0.7595833333333333 Precision:  0.9857142857142858 f1-score:  0.8528745970076917\n"
          ],
          "name": "stdout"
        }
      ]
    },
    {
      "cell_type": "markdown",
      "metadata": {
        "id": "rWuhtDlgV7mg",
        "colab_type": "text"
      },
      "source": [
        "**Combination of Models**"
      ]
    },
    {
      "cell_type": "code",
      "metadata": {
        "id": "EwwK2IebV67E",
        "colab_type": "code",
        "colab": {
          "base_uri": "https://localhost:8080/",
          "height": 382
        },
        "outputId": "3e84c2b2-1cbc-4f7a-f8c6-8b5adae0b538"
      },
      "source": [
        "plt.figure()\n",
        "models = [\n",
        "          {\n",
        "              'label': 'LR',\n",
        "              'model': LogisticRegression(),\n",
        "          },\n",
        "          {\n",
        "              'label': 'NB',\n",
        "              'model': GaussianNB(),\n",
        "          }\n",
        "]\n",
        "\n",
        "for m in models:\n",
        "  model = m['model']\n",
        "  model.fit(Train_X, Train_Y)\n",
        "  y_pred = model.predict(Test_X)\n",
        "\n",
        "  fpr, tpr, thresholds = metrics.roc_curve(Test_Y, model.predict_proba(Test_X)[:,1])\n",
        "\n",
        "  auc = metrics.roc_auc_score(Test_Y, model.predict(Test_X))\n",
        "\n",
        "  plt.plot(fpr, tpr, label='%s (area = %0.2f)' % (m['label'], auc))\n",
        "\n",
        "# Custom settings for the plot\n",
        "#plt.figure() \n",
        "plt.plot([0, 1], [0, 1],'r--')\n",
        "plt.xlim([0.0, 1.0])\n",
        "plt.ylim([0.0, 1.05])\n",
        "plt.xlabel('1-Specificity(False Positive Rate)')\n",
        "plt.ylabel('Sensitivity(True Positive Rate)')\n",
        "plt.title('ROC')\n",
        "plt.legend(loc=\"lower right\")\n",
        "plt.savefig('Combined_TopicsOnly')\n",
        "plt.show()   # Display"
      ],
      "execution_count": 248,
      "outputs": [
        {
          "output_type": "stream",
          "text": [
            "/usr/local/lib/python3.6/dist-packages/sklearn/utils/validation.py:760: DataConversionWarning: A column-vector y was passed when a 1d array was expected. Please change the shape of y to (n_samples, ), for example using ravel().\n",
            "  y = column_or_1d(y, warn=True)\n",
            "/usr/local/lib/python3.6/dist-packages/sklearn/naive_bayes.py:206: DataConversionWarning: A column-vector y was passed when a 1d array was expected. Please change the shape of y to (n_samples, ), for example using ravel().\n",
            "  y = column_or_1d(y, warn=True)\n"
          ],
          "name": "stderr"
        },
        {
          "output_type": "display_data",
          "data": {
            "image/png": "[encoded data removed]",
            "text/plain": [
              "<Figure size 432x288 with 1 Axes>"
            ]
          },
          "metadata": {
            "tags": [],
            "needs_background": "light"
          }
        }
      ]
    },
    {
      "cell_type": "markdown",
      "metadata": {
        "id": "9Yxy_GRrkf8p",
        "colab_type": "text"
      },
      "source": [
        "**SVM Classifier**"
      ]
    },
    {
      "cell_type": "code",
      "metadata": {
        "id": "LUpa99N6lhot",
        "colab_type": "code",
        "colab": {}
      },
      "source": [
        "svclassifier = SVC(C= 1, kernel='linear', degree=3, gamma=\"auto\")\n",
        "svclassifier.fit(Train_X, Train_Y)"
      ],
      "execution_count": null,
      "outputs": []
    },
    {
      "cell_type": "code",
      "metadata": {
        "id": "QToW1bie11cU",
        "colab_type": "code",
        "colab": {}
      },
      "source": [
        "# Make prediction\n",
        "y_pred = svclassifier.predict(Test_X)\n",
        "# Evaluate our model\n",
        "print(\"Accuracy :\", accuracy_score(Test_Y['Target'],y_pred), \"Recall :\",recall_score(Test_Y['Target'],y_pred))"
      ],
      "execution_count": null,
      "outputs": []
    },
    {
      "cell_type": "markdown",
      "metadata": {
        "id": "0S5eM8HOSMmK",
        "colab_type": "text"
      },
      "source": [
        "**SVM with cross validation**"
      ]
    },
    {
      "cell_type": "code",
      "metadata": {
        "id": "Kzrm0mB3SU5y",
        "colab_type": "code",
        "colab": {}
      },
      "source": [
        "svclassifier = SVC(C= 1, kernel='linear', degree=3, gamma=\"auto\")\n",
        "\n",
        "accuracy_score = performCV(Train_X, Train_Y, svclassifier, 5, 'accuracy')\n",
        "recall_score = performCV(Train_X, Train_Y, svclassifier, 5, 'recall')\n",
        "precision_score = performCV(Train_X, Train_Y, svclassifier, 5, 'precision')\n",
        "f1_score = performCV(Train_X, Train_Y, svclassifier, 5, 'f1')"
      ],
      "execution_count": null,
      "outputs": []
    },
    {
      "cell_type": "code",
      "metadata": {
        "id": "oXDjgMXxSyB1",
        "colab_type": "code",
        "colab": {
          "base_uri": "https://localhost:8080/",
          "height": 34
        },
        "outputId": "76b425d9-70e0-44f3-cb4c-e9d2ad5a030f"
      },
      "source": [
        "print(\"Accuracy: \", accuracy_score.mean(), \"Recall: \", recall_score.mean(), \"Precision: \", \n",
        "      precision_score.mean(), \"f1-score: \", f1_score.mean())"
      ],
      "execution_count": 252,
      "outputs": [
        {
          "output_type": "stream",
          "text": [
            "Accuracy:  0.8875 Recall:  0.7729838709677419 Precision:  1.0 f1-score:  0.8707668217434742\n"
          ],
          "name": "stdout"
        }
      ]
    },
    {
      "cell_type": "code",
      "metadata": {
        "id": "wYBHImmeba-f",
        "colab_type": "code",
        "colab": {}
      },
      "source": [
        "accuracy_score = performCV(Train_X, Train_Y, svclassifier, 10, 'accuracy')\n",
        "recall_score = performCV(Train_X, Train_Y, svclassifier, 10, 'recall')\n",
        "precision_score = performCV(Train_X, Train_Y, svclassifier, 10, 'precision')\n",
        "f1_score = performCV(Train_X, Train_Y, svclassifier, 10, 'f1')"
      ],
      "execution_count": null,
      "outputs": []
    },
    {
      "cell_type": "code",
      "metadata": {
        "id": "kU1SXRD6bb51",
        "colab_type": "code",
        "colab": {
          "base_uri": "https://localhost:8080/",
          "height": 34
        },
        "outputId": "341ecd73-815f-4cb9-b9d0-99a48dcb460d"
      },
      "source": [
        "print(\"Accuracy: \", accuracy_score.mean(), \"Recall: \", recall_score.mean(), \"Precision: \", \n",
        "      precision_score.mean(), \"f1-score: \", f1_score.mean())"
      ],
      "execution_count": 255,
      "outputs": [
        {
          "output_type": "stream",
          "text": [
            "Accuracy:  0.903125 Recall:  0.80375 Precision:  1.0 f1-score:  0.8871727257211128\n"
          ],
          "name": "stdout"
        }
      ]
    }
  ]
}