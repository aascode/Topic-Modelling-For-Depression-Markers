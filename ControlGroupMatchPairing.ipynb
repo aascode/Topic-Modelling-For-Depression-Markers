{
  "nbformat": 4,
  "nbformat_minor": 0,
  "metadata": {
    "colab": {
      "name": "ControlGroupMatchPairing.ipynb",
      "provenance": [],
      "collapsed_sections": [],
      "authorship_tag": "ABX9TyMMX96DB3Bqnkpl0SZ50jNX",
      "include_colab_link": true
    },
    "kernelspec": {
      "name": "python3",
      "display_name": "Python 3"
    }
  },
  "cells": [
    {
      "cell_type": "markdown",
      "metadata": {
        "id": "view-in-github",
        "colab_type": "text"
      },
      "source": [
        "<a href=\"https://colab.research.google.com/github/abhilashhn1993/depression-assessment-on-twitter/blob/Dragon/ControlGroupMatchPairing.ipynb\" target=\"_parent\"><img src=\"https://colab.research.google.com/assets/colab-badge.svg\" alt=\"Open In Colab\"/></a>"
      ]
    },
    {
      "cell_type": "code",
      "metadata": {
        "id": "1LqZTMp85bJu",
        "colab_type": "code",
        "colab": {}
      },
      "source": [
        "import pandas as pd\n",
        "import numpy as np\n",
        "import io\n",
        "import time"
      ],
      "execution_count": 1,
      "outputs": []
    },
    {
      "cell_type": "code",
      "metadata": {
        "id": "7lgSfrJI5n5r",
        "colab_type": "code",
        "colab": {
          "resources": {
            "http://localhost:8080/nbextensions/google.colab/files.js": {
              "data": "Ly8gQ29weXJpZ2h0IDIwMTcgR29vZ2xlIExMQwovLwovLyBMaWNlbnNlZCB1bmRlciB0aGUgQXBhY2hlIExpY2Vuc2UsIFZlcnNpb24gMi4wICh0aGUgIkxpY2Vuc2UiKTsKLy8geW91IG1heSBub3QgdXNlIHRoaXMgZmlsZSBleGNlcHQgaW4gY29tcGxpYW5jZSB3aXRoIHRoZSBMaWNlbnNlLgovLyBZb3UgbWF5IG9idGFpbiBhIGNvcHkgb2YgdGhlIExpY2Vuc2UgYXQKLy8KLy8gICAgICBodHRwOi8vd3d3LmFwYWNoZS5vcmcvbGljZW5zZXMvTElDRU5TRS0yLjAKLy8KLy8gVW5sZXNzIHJlcXVpcmVkIGJ5IGFwcGxpY2FibGUgbGF3IG9yIGFncmVlZCB0byBpbiB3cml0aW5nLCBzb2Z0d2FyZQovLyBkaXN0cmlidXRlZCB1bmRlciB0aGUgTGljZW5zZSBpcyBkaXN0cmlidXRlZCBvbiBhbiAiQVMgSVMiIEJBU0lTLAovLyBXSVRIT1VUIFdBUlJBTlRJRVMgT1IgQ09ORElUSU9OUyBPRiBBTlkgS0lORCwgZWl0aGVyIGV4cHJlc3Mgb3IgaW1wbGllZC4KLy8gU2VlIHRoZSBMaWNlbnNlIGZvciB0aGUgc3BlY2lmaWMgbGFuZ3VhZ2UgZ292ZXJuaW5nIHBlcm1pc3Npb25zIGFuZAovLyBsaW1pdGF0aW9ucyB1bmRlciB0aGUgTGljZW5zZS4KCi8qKgogKiBAZmlsZW92ZXJ2aWV3IEhlbHBlcnMgZm9yIGdvb2dsZS5jb2xhYiBQeXRob24gbW9kdWxlLgogKi8KKGZ1bmN0aW9uKHNjb3BlKSB7CmZ1bmN0aW9uIHNwYW4odGV4dCwgc3R5bGVBdHRyaWJ1dGVzID0ge30pIHsKICBjb25zdCBlbGVtZW50ID0gZG9jdW1lbnQuY3JlYXRlRWxlbWVudCgnc3BhbicpOwogIGVsZW1lbnQudGV4dENvbnRlbnQgPSB0ZXh0OwogIGZvciAoY29uc3Qga2V5IG9mIE9iamVjdC5rZXlzKHN0eWxlQXR0cmlidXRlcykpIHsKICAgIGVsZW1lbnQuc3R5bGVba2V5XSA9IHN0eWxlQXR0cmlidXRlc1trZXldOwogIH0KICByZXR1cm4gZWxlbWVudDsKfQoKLy8gTWF4IG51bWJlciBvZiBieXRlcyB3aGljaCB3aWxsIGJlIHVwbG9hZGVkIGF0IGEgdGltZS4KY29uc3QgTUFYX1BBWUxPQURfU0laRSA9IDEwMCAqIDEwMjQ7CgpmdW5jdGlvbiBfdXBsb2FkRmlsZXMoaW5wdXRJZCwgb3V0cHV0SWQpIHsKICBjb25zdCBzdGVwcyA9IHVwbG9hZEZpbGVzU3RlcChpbnB1dElkLCBvdXRwdXRJZCk7CiAgY29uc3Qgb3V0cHV0RWxlbWVudCA9IGRvY3VtZW50LmdldEVsZW1lbnRCeUlkKG91dHB1dElkKTsKICAvLyBDYWNoZSBzdGVwcyBvbiB0aGUgb3V0cHV0RWxlbWVudCB0byBtYWtlIGl0IGF2YWlsYWJsZSBmb3IgdGhlIG5leHQgY2FsbAogIC8vIHRvIHVwbG9hZEZpbGVzQ29udGludWUgZnJvbSBQeXRob24uCiAgb3V0cHV0RWxlbWVudC5zdGVwcyA9IHN0ZXBzOwoKICByZXR1cm4gX3VwbG9hZEZpbGVzQ29udGludWUob3V0cHV0SWQpOwp9CgovLyBUaGlzIGlzIHJvdWdobHkgYW4gYXN5bmMgZ2VuZXJhdG9yIChub3Qgc3VwcG9ydGVkIGluIHRoZSBicm93c2VyIHlldCksCi8vIHdoZXJlIHRoZXJlIGFyZSBtdWx0aXBsZSBhc3luY2hyb25vdXMgc3RlcHMgYW5kIHRoZSBQeXRob24gc2lkZSBpcyBnb2luZwovLyB0byBwb2xsIGZvciBjb21wbGV0aW9uIG9mIGVhY2ggc3RlcC4KLy8gVGhpcyB1c2VzIGEgUHJvbWlzZSB0byBibG9jayB0aGUgcHl0aG9uIHNpZGUgb24gY29tcGxldGlvbiBvZiBlYWNoIHN0ZXAsCi8vIHRoZW4gcGFzc2VzIHRoZSByZXN1bHQgb2YgdGhlIHByZXZpb3VzIHN0ZXAgYXMgdGhlIGlucHV0IHRvIHRoZSBuZXh0IHN0ZXAuCmZ1bmN0aW9uIF91cGxvYWRGaWxlc0NvbnRpbnVlKG91dHB1dElkKSB7CiAgY29uc3Qgb3V0cHV0RWxlbWVudCA9IGRvY3VtZW50LmdldEVsZW1lbnRCeUlkKG91dHB1dElkKTsKICBjb25zdCBzdGVwcyA9IG91dHB1dEVsZW1lbnQuc3RlcHM7CgogIGNvbnN0IG5leHQgPSBzdGVwcy5uZXh0KG91dHB1dEVsZW1lbnQubGFzdFByb21pc2VWYWx1ZSk7CiAgcmV0dXJuIFByb21pc2UucmVzb2x2ZShuZXh0LnZhbHVlLnByb21pc2UpLnRoZW4oKHZhbHVlKSA9PiB7CiAgICAvLyBDYWNoZSB0aGUgbGFzdCBwcm9taXNlIHZhbHVlIHRvIG1ha2UgaXQgYXZhaWxhYmxlIHRvIHRoZSBuZXh0CiAgICAvLyBzdGVwIG9mIHRoZSBnZW5lcmF0b3IuCiAgICBvdXRwdXRFbGVtZW50Lmxhc3RQcm9taXNlVmFsdWUgPSB2YWx1ZTsKICAgIHJldHVybiBuZXh0LnZhbHVlLnJlc3BvbnNlOwogIH0pOwp9CgovKioKICogR2VuZXJhdG9yIGZ1bmN0aW9uIHdoaWNoIGlzIGNhbGxlZCBiZXR3ZWVuIGVhY2ggYXN5bmMgc3RlcCBvZiB0aGUgdXBsb2FkCiAqIHByb2Nlc3MuCiAqIEBwYXJhbSB7c3RyaW5nfSBpbnB1dElkIEVsZW1lbnQgSUQgb2YgdGhlIGlucHV0IGZpbGUgcGlja2VyIGVsZW1lbnQuCiAqIEBwYXJhbSB7c3RyaW5nfSBvdXRwdXRJZCBFbGVtZW50IElEIG9mIHRoZSBvdXRwdXQgZGlzcGxheS4KICogQHJldHVybiB7IUl0ZXJhYmxlPCFPYmplY3Q+fSBJdGVyYWJsZSBvZiBuZXh0IHN0ZXBzLgogKi8KZnVuY3Rpb24qIHVwbG9hZEZpbGVzU3RlcChpbnB1dElkLCBvdXRwdXRJZCkgewogIGNvbnN0IGlucHV0RWxlbWVudCA9IGRvY3VtZW50LmdldEVsZW1lbnRCeUlkKGlucHV0SWQpOwogIGlucHV0RWxlbWVudC5kaXNhYmxlZCA9IGZhbHNlOwoKICBjb25zdCBvdXRwdXRFbGVtZW50ID0gZG9jdW1lbnQuZ2V0RWxlbWVudEJ5SWQob3V0cHV0SWQpOwogIG91dHB1dEVsZW1lbnQuaW5uZXJIVE1MID0gJyc7CgogIGNvbnN0IHBpY2tlZFByb21pc2UgPSBuZXcgUHJvbWlzZSgocmVzb2x2ZSkgPT4gewogICAgaW5wdXRFbGVtZW50LmFkZEV2ZW50TGlzdGVuZXIoJ2NoYW5nZScsIChlKSA9PiB7CiAgICAgIHJlc29sdmUoZS50YXJnZXQuZmlsZXMpOwogICAgfSk7CiAgfSk7CgogIGNvbnN0IGNhbmNlbCA9IGRvY3VtZW50LmNyZWF0ZUVsZW1lbnQoJ2J1dHRvbicpOwogIGlucHV0RWxlbWVudC5wYXJlbnRFbGVtZW50LmFwcGVuZENoaWxkKGNhbmNlbCk7CiAgY2FuY2VsLnRleHRDb250ZW50ID0gJ0NhbmNlbCB1cGxvYWQnOwogIGNvbnN0IGNhbmNlbFByb21pc2UgPSBuZXcgUHJvbWlzZSgocmVzb2x2ZSkgPT4gewogICAgY2FuY2VsLm9uY2xpY2sgPSAoKSA9PiB7CiAgICAgIHJlc29sdmUobnVsbCk7CiAgICB9OwogIH0pOwoKICAvLyBXYWl0IGZvciB0aGUgdXNlciB0byBwaWNrIHRoZSBmaWxlcy4KICBjb25zdCBmaWxlcyA9IHlpZWxkIHsKICAgIHByb21pc2U6IFByb21pc2UucmFjZShbcGlja2VkUHJvbWlzZSwgY2FuY2VsUHJvbWlzZV0pLAogICAgcmVzcG9uc2U6IHsKICAgICAgYWN0aW9uOiAnc3RhcnRpbmcnLAogICAgfQogIH07CgogIGNhbmNlbC5yZW1vdmUoKTsKCiAgLy8gRGlzYWJsZSB0aGUgaW5wdXQgZWxlbWVudCBzaW5jZSBmdXJ0aGVyIHBpY2tzIGFyZSBub3QgYWxsb3dlZC4KICBpbnB1dEVsZW1lbnQuZGlzYWJsZWQgPSB0cnVlOwoKICBpZiAoIWZpbGVzKSB7CiAgICByZXR1cm4gewogICAgICByZXNwb25zZTogewogICAgICAgIGFjdGlvbjogJ2NvbXBsZXRlJywKICAgICAgfQogICAgfTsKICB9CgogIGZvciAoY29uc3QgZmlsZSBvZiBmaWxlcykgewogICAgY29uc3QgbGkgPSBkb2N1bWVudC5jcmVhdGVFbGVtZW50KCdsaScpOwogICAgbGkuYXBwZW5kKHNwYW4oZmlsZS5uYW1lLCB7Zm9udFdlaWdodDogJ2JvbGQnfSkpOwogICAgbGkuYXBwZW5kKHNwYW4oCiAgICAgICAgYCgke2ZpbGUudHlwZSB8fCAnbi9hJ30pIC0gJHtmaWxlLnNpemV9IGJ5dGVzLCBgICsKICAgICAgICBgbGFzdCBtb2RpZmllZDogJHsKICAgICAgICAgICAgZmlsZS5sYXN0TW9kaWZpZWREYXRlID8gZmlsZS5sYXN0TW9kaWZpZWREYXRlLnRvTG9jYWxlRGF0ZVN0cmluZygpIDoKICAgICAgICAgICAgICAgICAgICAgICAgICAgICAgICAgICAgJ24vYSd9IC0gYCkpOwogICAgY29uc3QgcGVyY2VudCA9IHNwYW4oJzAlIGRvbmUnKTsKICAgIGxpLmFwcGVuZENoaWxkKHBlcmNlbnQpOwoKICAgIG91dHB1dEVsZW1lbnQuYXBwZW5kQ2hpbGQobGkpOwoKICAgIGNvbnN0IGZpbGVEYXRhUHJvbWlzZSA9IG5ldyBQcm9taXNlKChyZXNvbHZlKSA9PiB7CiAgICAgIGNvbnN0IHJlYWRlciA9IG5ldyBGaWxlUmVhZGVyKCk7CiAgICAgIHJlYWRlci5vbmxvYWQgPSAoZSkgPT4gewogICAgICAgIHJlc29sdmUoZS50YXJnZXQucmVzdWx0KTsKICAgICAgfTsKICAgICAgcmVhZGVyLnJlYWRBc0FycmF5QnVmZmVyKGZpbGUpOwogICAgfSk7CiAgICAvLyBXYWl0IGZvciB0aGUgZGF0YSB0byBiZSByZWFkeS4KICAgIGxldCBmaWxlRGF0YSA9IHlpZWxkIHsKICAgICAgcHJvbWlzZTogZmlsZURhdGFQcm9taXNlLAogICAgICByZXNwb25zZTogewogICAgICAgIGFjdGlvbjogJ2NvbnRpbnVlJywKICAgICAgfQogICAgfTsKCiAgICAvLyBVc2UgYSBjaHVua2VkIHNlbmRpbmcgdG8gYXZvaWQgbWVzc2FnZSBzaXplIGxpbWl0cy4gU2VlIGIvNjIxMTU2NjAuCiAgICBsZXQgcG9zaXRpb24gPSAwOwogICAgd2hpbGUgKHBvc2l0aW9uIDwgZmlsZURhdGEuYnl0ZUxlbmd0aCkgewogICAgICBjb25zdCBsZW5ndGggPSBNYXRoLm1pbihmaWxlRGF0YS5ieXRlTGVuZ3RoIC0gcG9zaXRpb24sIE1BWF9QQVlMT0FEX1NJWkUpOwogICAgICBjb25zdCBjaHVuayA9IG5ldyBVaW50OEFycmF5KGZpbGVEYXRhLCBwb3NpdGlvbiwgbGVuZ3RoKTsKICAgICAgcG9zaXRpb24gKz0gbGVuZ3RoOwoKICAgICAgY29uc3QgYmFzZTY0ID0gYnRvYShTdHJpbmcuZnJvbUNoYXJDb2RlLmFwcGx5KG51bGwsIGNodW5rKSk7CiAgICAgIHlpZWxkIHsKICAgICAgICByZXNwb25zZTogewogICAgICAgICAgYWN0aW9uOiAnYXBwZW5kJywKICAgICAgICAgIGZpbGU6IGZpbGUubmFtZSwKICAgICAgICAgIGRhdGE6IGJhc2U2NCwKICAgICAgICB9LAogICAgICB9OwogICAgICBwZXJjZW50LnRleHRDb250ZW50ID0KICAgICAgICAgIGAke01hdGgucm91bmQoKHBvc2l0aW9uIC8gZmlsZURhdGEuYnl0ZUxlbmd0aCkgKiAxMDApfSUgZG9uZWA7CiAgICB9CiAgfQoKICAvLyBBbGwgZG9uZS4KICB5aWVsZCB7CiAgICByZXNwb25zZTogewogICAgICBhY3Rpb246ICdjb21wbGV0ZScsCiAgICB9CiAgfTsKfQoKc2NvcGUuZ29vZ2xlID0gc2NvcGUuZ29vZ2xlIHx8IHt9OwpzY29wZS5nb29nbGUuY29sYWIgPSBzY29wZS5nb29nbGUuY29sYWIgfHwge307CnNjb3BlLmdvb2dsZS5jb2xhYi5fZmlsZXMgPSB7CiAgX3VwbG9hZEZpbGVzLAogIF91cGxvYWRGaWxlc0NvbnRpbnVlLAp9Owp9KShzZWxmKTsK",
              "ok": true,
              "headers": [
                [
                  "content-type",
                  "application/javascript"
                ]
              ],
              "status": 200,
              "status_text": ""
            }
          },
          "base_uri": "https://localhost:8080/",
          "height": 106
        },
        "outputId": "3ce8d50d-c126-4561-9c9b-dc5d608d9d79"
      },
      "source": [
        "from google.colab import files\n",
        "uploaded = files.upload()"
      ],
      "execution_count": 2,
      "outputs": [
        {
          "output_type": "display_data",
          "data": {
            "text/html": [
              "\n",
              "     <input type=\"file\" id=\"files-f3ed11a1-861e-47aa-a2cd-71a2e49197dc\" name=\"files[]\" multiple disabled\n",
              "        style=\"border:none\" />\n",
              "     <output id=\"result-f3ed11a1-861e-47aa-a2cd-71a2e49197dc\">\n",
              "      Upload widget is only available when the cell has been executed in the\n",
              "      current browser session. Please rerun this cell to enable.\n",
              "      </output>\n",
              "      <script src=\"/nbextensions/google.colab/files.js\"></script> "
            ],
            "text/plain": [
              "<IPython.core.display.HTML object>"
            ]
          },
          "metadata": {
            "tags": []
          }
        },
        {
          "output_type": "stream",
          "text": [
            "Saving control_1000_UserProfile.xlsx to control_1000_UserProfile.xlsx\n",
            "Saving Dep-controlgroup_match_pairing.xlsx to Dep-controlgroup_match_pairing.xlsx\n"
          ],
          "name": "stdout"
        }
      ]
    },
    {
      "cell_type": "code",
      "metadata": {
        "id": "sXTgU3Gv5q-l",
        "colab_type": "code",
        "colab": {}
      },
      "source": [
        "data_dep = pd.read_excel(io.BytesIO(uploaded['Dep-controlgroup_match_pairing.xlsx']))\n",
        "data_cg = pd.read_excel(io.BytesIO(uploaded['control_1000_UserProfile.xlsx']))"
      ],
      "execution_count": 85,
      "outputs": []
    },
    {
      "cell_type": "code",
      "metadata": {
        "id": "HFoD66GL53yz",
        "colab_type": "code",
        "colab": {
          "base_uri": "https://localhost:8080/",
          "height": 266
        },
        "outputId": "2835534e-bcdd-422d-ea84-f396a887d673"
      },
      "source": [
        "data_dep['parsed']=0\n",
        "data_dep.head()"
      ],
      "execution_count": 86,
      "outputs": [
        {
          "output_type": "execute_result",
          "data": {
            "text/html": [
              "<div>\n",
              "<style scoped>\n",
              "    .dataframe tbody tr th:only-of-type {\n",
              "        vertical-align: middle;\n",
              "    }\n",
              "\n",
              "    .dataframe tbody tr th {\n",
              "        vertical-align: top;\n",
              "    }\n",
              "\n",
              "    .dataframe thead th {\n",
              "        text-align: right;\n",
              "    }\n",
              "</style>\n",
              "<table border=\"1\" class=\"dataframe\">\n",
              "  <thead>\n",
              "    <tr style=\"text-align: right;\">\n",
              "      <th></th>\n",
              "      <th>Dep_users_Twitter_handle</th>\n",
              "      <th>Age</th>\n",
              "      <th>Gender</th>\n",
              "      <th>Age_group</th>\n",
              "      <th>Api_used</th>\n",
              "      <th>Date_of_Diagnosis</th>\n",
              "      <th>Control_group_Twitter_handle</th>\n",
              "      <th>Age.1</th>\n",
              "      <th>Age_group.1</th>\n",
              "      <th>Gender.1</th>\n",
              "      <th>API_used</th>\n",
              "      <th>gender_check</th>\n",
              "      <th>parsed</th>\n",
              "    </tr>\n",
              "  </thead>\n",
              "  <tbody>\n",
              "    <tr>\n",
              "      <th>0</th>\n",
              "      <td>__Siiwe</td>\n",
              "      <td>19-29</td>\n",
              "      <td>male</td>\n",
              "      <td>19-29</td>\n",
              "      <td>M3</td>\n",
              "      <td>2019-03-11 00:00:00</td>\n",
              "      <td>brudergottfried</td>\n",
              "      <td>19-29</td>\n",
              "      <td>19-29</td>\n",
              "      <td>male</td>\n",
              "      <td>M3</td>\n",
              "      <td>True</td>\n",
              "      <td>0</td>\n",
              "    </tr>\n",
              "    <tr>\n",
              "      <th>1</th>\n",
              "      <td>_301yung</td>\n",
              "      <td>&lt;=18</td>\n",
              "      <td>male</td>\n",
              "      <td>&lt;=18</td>\n",
              "      <td>M3</td>\n",
              "      <td>2019-11-13 21:14:07</td>\n",
              "      <td>MyMendozaLine</td>\n",
              "      <td>&lt;=18</td>\n",
              "      <td>&lt;=18</td>\n",
              "      <td>male</td>\n",
              "      <td>M3</td>\n",
              "      <td>True</td>\n",
              "      <td>0</td>\n",
              "    </tr>\n",
              "    <tr>\n",
              "      <th>2</th>\n",
              "      <td>_illust0907</td>\n",
              "      <td>19-29</td>\n",
              "      <td>male</td>\n",
              "      <td>19-29</td>\n",
              "      <td>M3</td>\n",
              "      <td>2019-04-16 00:00:00</td>\n",
              "      <td>CQ_030</td>\n",
              "      <td>19-29</td>\n",
              "      <td>19-29</td>\n",
              "      <td>male</td>\n",
              "      <td>M3</td>\n",
              "      <td>True</td>\n",
              "      <td>0</td>\n",
              "    </tr>\n",
              "    <tr>\n",
              "      <th>3</th>\n",
              "      <td>_niebohater</td>\n",
              "      <td>19-29</td>\n",
              "      <td>male</td>\n",
              "      <td>19-29</td>\n",
              "      <td>M3</td>\n",
              "      <td>2019-09-20 00:00:00</td>\n",
              "      <td>jesusmanriquez4</td>\n",
              "      <td>19-29</td>\n",
              "      <td>19-29</td>\n",
              "      <td>male</td>\n",
              "      <td>M3</td>\n",
              "      <td>True</td>\n",
              "      <td>0</td>\n",
              "    </tr>\n",
              "    <tr>\n",
              "      <th>4</th>\n",
              "      <td>_Roxiesaunders</td>\n",
              "      <td>21</td>\n",
              "      <td>female</td>\n",
              "      <td>19-29</td>\n",
              "      <td>Azure</td>\n",
              "      <td>2018-03-24 00:00:00</td>\n",
              "      <td>PrincessConfiB</td>\n",
              "      <td>21</td>\n",
              "      <td>19-29</td>\n",
              "      <td>female</td>\n",
              "      <td>Azure</td>\n",
              "      <td>True</td>\n",
              "      <td>0</td>\n",
              "    </tr>\n",
              "  </tbody>\n",
              "</table>\n",
              "</div>"
            ],
            "text/plain": [
              "  Dep_users_Twitter_handle    Age  Gender  ... API_used gender_check parsed\n",
              "0                  __Siiwe  19-29    male  ...       M3         True      0\n",
              "1                 _301yung   <=18    male  ...       M3         True      0\n",
              "2              _illust0907  19-29    male  ...       M3         True      0\n",
              "3              _niebohater  19-29    male  ...       M3         True      0\n",
              "4           _Roxiesaunders     21  female  ...    Azure         True      0\n",
              "\n",
              "[5 rows x 13 columns]"
            ]
          },
          "metadata": {
            "tags": []
          },
          "execution_count": 86
        }
      ]
    },
    {
      "cell_type": "code",
      "metadata": {
        "id": "GiAc8bbO531g",
        "colab_type": "code",
        "colab": {
          "base_uri": "https://localhost:8080/",
          "height": 195
        },
        "outputId": "6898a176-14db-4172-a1d9-795e2ac23a6e"
      },
      "source": [
        "data_cg['flag'] = 0\n",
        "data_cg.head()"
      ],
      "execution_count": 87,
      "outputs": [
        {
          "output_type": "execute_result",
          "data": {
            "text/html": [
              "<div>\n",
              "<style scoped>\n",
              "    .dataframe tbody tr th:only-of-type {\n",
              "        vertical-align: middle;\n",
              "    }\n",
              "\n",
              "    .dataframe tbody tr th {\n",
              "        vertical-align: top;\n",
              "    }\n",
              "\n",
              "    .dataframe thead th {\n",
              "        text-align: right;\n",
              "    }\n",
              "</style>\n",
              "<table border=\"1\" class=\"dataframe\">\n",
              "  <thead>\n",
              "    <tr style=\"text-align: right;\">\n",
              "      <th></th>\n",
              "      <th>Twitter_handle</th>\n",
              "      <th>Image URL</th>\n",
              "      <th>Age</th>\n",
              "      <th>Age_group</th>\n",
              "      <th>Gender</th>\n",
              "      <th>API_used</th>\n",
              "      <th>flag</th>\n",
              "    </tr>\n",
              "  </thead>\n",
              "  <tbody>\n",
              "    <tr>\n",
              "      <th>0</th>\n",
              "      <td>Mister_Maharaj</td>\n",
              "      <td>http://pbs.twimg.com/profile_images/1256476343...</td>\n",
              "      <td>40</td>\n",
              "      <td>&gt;=40</td>\n",
              "      <td>male</td>\n",
              "      <td>Azure</td>\n",
              "      <td>0</td>\n",
              "    </tr>\n",
              "    <tr>\n",
              "      <th>1</th>\n",
              "      <td>Rudelynnngmail1</td>\n",
              "      <td>http://pbs.twimg.com/profile_images/1246408976...</td>\n",
              "      <td>40</td>\n",
              "      <td>&gt;=40</td>\n",
              "      <td>female</td>\n",
              "      <td>Azure</td>\n",
              "      <td>0</td>\n",
              "    </tr>\n",
              "    <tr>\n",
              "      <th>2</th>\n",
              "      <td>TheDizzyLizzieB</td>\n",
              "      <td>http://pbs.twimg.com/profile_images/1264312311...</td>\n",
              "      <td>40</td>\n",
              "      <td>&gt;=40</td>\n",
              "      <td>female</td>\n",
              "      <td>Azure</td>\n",
              "      <td>0</td>\n",
              "    </tr>\n",
              "    <tr>\n",
              "      <th>3</th>\n",
              "      <td>wordHAVEiframes</td>\n",
              "      <td>http://pbs.twimg.com/profile_images/1144035245...</td>\n",
              "      <td>19</td>\n",
              "      <td>19-29</td>\n",
              "      <td>male</td>\n",
              "      <td>Azure</td>\n",
              "      <td>0</td>\n",
              "    </tr>\n",
              "    <tr>\n",
              "      <th>4</th>\n",
              "      <td>tobioku</td>\n",
              "      <td>http://pbs.twimg.com/profile_images/1268090496...</td>\n",
              "      <td>19</td>\n",
              "      <td>19-29</td>\n",
              "      <td>male</td>\n",
              "      <td>Azure</td>\n",
              "      <td>0</td>\n",
              "    </tr>\n",
              "  </tbody>\n",
              "</table>\n",
              "</div>"
            ],
            "text/plain": [
              "    Twitter_handle  ... flag\n",
              "0   Mister_Maharaj  ...    0\n",
              "1  Rudelynnngmail1  ...    0\n",
              "2  TheDizzyLizzieB  ...    0\n",
              "3  wordHAVEiframes  ...    0\n",
              "4          tobioku  ...    0\n",
              "\n",
              "[5 rows x 7 columns]"
            ]
          },
          "metadata": {
            "tags": []
          },
          "execution_count": 87
        }
      ]
    },
    {
      "cell_type": "code",
      "metadata": {
        "id": "zRTvS7L4IUna",
        "colab_type": "code",
        "colab": {
          "base_uri": "https://localhost:8080/",
          "height": 47
        },
        "outputId": "7efd6d9a-48f4-4efe-f11b-f08f9c477e35"
      },
      "source": [
        "cols = ['Dep_User_handle', 'Age', 'Age_group', 'Gender', 'API', 'Date_of_diagnosis', 'CG_User_handle', 'C_Age', 'C_Age_group', 'C_Gender', 'C_API']\n",
        "df_res = pd.DataFrame(columns=cols)\n",
        "df_res.head()"
      ],
      "execution_count": 88,
      "outputs": [
        {
          "output_type": "execute_result",
          "data": {
            "text/html": [
              "<div>\n",
              "<style scoped>\n",
              "    .dataframe tbody tr th:only-of-type {\n",
              "        vertical-align: middle;\n",
              "    }\n",
              "\n",
              "    .dataframe tbody tr th {\n",
              "        vertical-align: top;\n",
              "    }\n",
              "\n",
              "    .dataframe thead th {\n",
              "        text-align: right;\n",
              "    }\n",
              "</style>\n",
              "<table border=\"1\" class=\"dataframe\">\n",
              "  <thead>\n",
              "    <tr style=\"text-align: right;\">\n",
              "      <th></th>\n",
              "      <th>Dep_User_handle</th>\n",
              "      <th>Age</th>\n",
              "      <th>Age_group</th>\n",
              "      <th>Gender</th>\n",
              "      <th>API</th>\n",
              "      <th>Date_of_diagnosis</th>\n",
              "      <th>CG_User_handle</th>\n",
              "      <th>C_Age</th>\n",
              "      <th>C_Age_group</th>\n",
              "      <th>C_Gender</th>\n",
              "      <th>C_API</th>\n",
              "    </tr>\n",
              "  </thead>\n",
              "  <tbody>\n",
              "  </tbody>\n",
              "</table>\n",
              "</div>"
            ],
            "text/plain": [
              "Empty DataFrame\n",
              "Columns: [Dep_User_handle, Age, Age_group, Gender, API, Date_of_diagnosis, CG_User_handle, C_Age, C_Age_group, C_Gender, C_API]\n",
              "Index: []"
            ]
          },
          "metadata": {
            "tags": []
          },
          "execution_count": 88
        }
      ]
    },
    {
      "cell_type": "code",
      "metadata": {
        "id": "2Zw8yxxTJZ5V",
        "colab_type": "code",
        "colab": {}
      },
      "source": [
        "row_index = 1\n",
        "for index,row in data_dep.iterrows():\n",
        "  user_id = row['Dep_users_Twitter_handle']\n",
        "  dod = row['Date_of_Diagnosis']\n",
        "  age = row['Age']\n",
        "  age_group = row['Age_group']\n",
        "  gender = row['Gender']\n",
        "  api = row['Api_used']\n",
        "\n",
        "  for ind, rw in data_cg.iterrows():\n",
        "    if rw['flag']==0:\n",
        "      if rw['Age'] == age and rw['Gender'] == gender and rw['Age_group'] == age_group:\n",
        "        df_res.at[row_index,'Dep_User_handle'] = user_id\n",
        "        df_res.at[row_index,'Age'] = age\n",
        "        df_res.at[row_index,'Age_group'] = age_group\n",
        "        df_res.at[row_index,'Gender'] = gender\n",
        "        df_res.at[row_index,'API'] = api\n",
        "        df_res.at[row_index,'Date_of_diagnosis'] = dod\n",
        "        df_res.at[row_index,'CG_User_handle'] = rw['Twitter_handle']\n",
        "        df_res.at[row_index,'C_Age'] = rw['Age']\n",
        "        df_res.at[row_index,'C_Age_group'] = rw['Age_group']\n",
        "        df_res.at[row_index,'C_Gender'] = rw['Gender']\n",
        "        df_res.at[row_index,'C_API'] = rw['API_used']\n",
        "        \n",
        "        data_cg.at[ind, 'flag'] = 1\n",
        "        data_dep.at[index, 'parsed'] = 1\n",
        "        row_index = row_index+1\n",
        "        break\n",
        "      else:\n",
        "        continue\n",
        "    else:\n",
        "      continue"
      ],
      "execution_count": 89,
      "outputs": []
    },
    {
      "cell_type": "code",
      "metadata": {
        "id": "RYAfRZHm1rp6",
        "colab_type": "code",
        "colab": {
          "base_uri": "https://localhost:8080/",
          "height": 67
        },
        "outputId": "05e4f393-832f-4087-f313-e9090a9dd14b"
      },
      "source": [
        "data_dep['parsed'].value_counts()"
      ],
      "execution_count": 90,
      "outputs": [
        {
          "output_type": "execute_result",
          "data": {
            "text/plain": [
              "1    218\n",
              "0     12\n",
              "Name: parsed, dtype: int64"
            ]
          },
          "metadata": {
            "tags": []
          },
          "execution_count": 90
        }
      ]
    },
    {
      "cell_type": "code",
      "metadata": {
        "id": "h3wCxSdP5tXZ",
        "colab_type": "code",
        "colab": {
          "base_uri": "https://localhost:8080/",
          "height": 215
        },
        "outputId": "016ea375-73ac-4be9-be23-4cd9705f4fb5"
      },
      "source": [
        "dt2 = data_dep[data_dep['parsed']==0].reset_index(drop=True)\n",
        "dt2.head()"
      ],
      "execution_count": 91,
      "outputs": [
        {
          "output_type": "execute_result",
          "data": {
            "text/html": [
              "<div>\n",
              "<style scoped>\n",
              "    .dataframe tbody tr th:only-of-type {\n",
              "        vertical-align: middle;\n",
              "    }\n",
              "\n",
              "    .dataframe tbody tr th {\n",
              "        vertical-align: top;\n",
              "    }\n",
              "\n",
              "    .dataframe thead th {\n",
              "        text-align: right;\n",
              "    }\n",
              "</style>\n",
              "<table border=\"1\" class=\"dataframe\">\n",
              "  <thead>\n",
              "    <tr style=\"text-align: right;\">\n",
              "      <th></th>\n",
              "      <th>Dep_users_Twitter_handle</th>\n",
              "      <th>Age</th>\n",
              "      <th>Gender</th>\n",
              "      <th>Age_group</th>\n",
              "      <th>Api_used</th>\n",
              "      <th>Date_of_Diagnosis</th>\n",
              "      <th>Control_group_Twitter_handle</th>\n",
              "      <th>Age.1</th>\n",
              "      <th>Age_group.1</th>\n",
              "      <th>Gender.1</th>\n",
              "      <th>API_used</th>\n",
              "      <th>gender_check</th>\n",
              "      <th>parsed</th>\n",
              "    </tr>\n",
              "  </thead>\n",
              "  <tbody>\n",
              "    <tr>\n",
              "      <th>0</th>\n",
              "      <td>cumbust</td>\n",
              "      <td>14</td>\n",
              "      <td>female</td>\n",
              "      <td>&lt;=18</td>\n",
              "      <td>Azure</td>\n",
              "      <td>2019-01-21</td>\n",
              "      <td>tea_bryce</td>\n",
              "      <td>18</td>\n",
              "      <td>&lt;=18</td>\n",
              "      <td>female</td>\n",
              "      <td>Azure</td>\n",
              "      <td>True</td>\n",
              "      <td>0</td>\n",
              "    </tr>\n",
              "    <tr>\n",
              "      <th>1</th>\n",
              "      <td>dewlyexo_cb</td>\n",
              "      <td>1</td>\n",
              "      <td>female</td>\n",
              "      <td>&lt;=18</td>\n",
              "      <td>Azure</td>\n",
              "      <td>2019-10-10</td>\n",
              "      <td>lesbeckworth</td>\n",
              "      <td>5</td>\n",
              "      <td>&lt;=18</td>\n",
              "      <td>female</td>\n",
              "      <td>Azure</td>\n",
              "      <td>True</td>\n",
              "      <td>0</td>\n",
              "    </tr>\n",
              "    <tr>\n",
              "      <th>2</th>\n",
              "      <td>Gollums_Luck</td>\n",
              "      <td>53</td>\n",
              "      <td>male</td>\n",
              "      <td>&gt;=40</td>\n",
              "      <td>Azure</td>\n",
              "      <td>2018-12-19</td>\n",
              "      <td>cobras_santiago</td>\n",
              "      <td>54</td>\n",
              "      <td>&gt;=40</td>\n",
              "      <td>male</td>\n",
              "      <td>Azure</td>\n",
              "      <td>True</td>\n",
              "      <td>0</td>\n",
              "    </tr>\n",
              "    <tr>\n",
              "      <th>3</th>\n",
              "      <td>Krustypickles</td>\n",
              "      <td>21</td>\n",
              "      <td>male</td>\n",
              "      <td>19-29</td>\n",
              "      <td>Azure</td>\n",
              "      <td>2019-12-17</td>\n",
              "      <td>GWACHE0NPRINCE</td>\n",
              "      <td>21</td>\n",
              "      <td>19-29</td>\n",
              "      <td>male</td>\n",
              "      <td>Azure</td>\n",
              "      <td>True</td>\n",
              "      <td>0</td>\n",
              "    </tr>\n",
              "    <tr>\n",
              "      <th>4</th>\n",
              "      <td>lackingfat</td>\n",
              "      <td>21</td>\n",
              "      <td>male</td>\n",
              "      <td>19-29</td>\n",
              "      <td>Azure</td>\n",
              "      <td>2019-07-19</td>\n",
              "      <td>reneseulgi</td>\n",
              "      <td>22</td>\n",
              "      <td>19-29</td>\n",
              "      <td>male</td>\n",
              "      <td>Azure</td>\n",
              "      <td>True</td>\n",
              "      <td>0</td>\n",
              "    </tr>\n",
              "  </tbody>\n",
              "</table>\n",
              "</div>"
            ],
            "text/plain": [
              "  Dep_users_Twitter_handle Age  Gender  ... API_used gender_check parsed\n",
              "0                  cumbust  14  female  ...    Azure         True      0\n",
              "1              dewlyexo_cb   1  female  ...    Azure         True      0\n",
              "2             Gollums_Luck  53    male  ...    Azure         True      0\n",
              "3            Krustypickles  21    male  ...    Azure         True      0\n",
              "4               lackingfat  21    male  ...    Azure         True      0\n",
              "\n",
              "[5 rows x 13 columns]"
            ]
          },
          "metadata": {
            "tags": []
          },
          "execution_count": 91
        }
      ]
    },
    {
      "cell_type": "code",
      "metadata": {
        "id": "xQHD_XvO-FLW",
        "colab_type": "code",
        "colab": {
          "base_uri": "https://localhost:8080/",
          "height": 215
        },
        "outputId": "0cf4bf0e-cebc-4ec7-dc8a-3add129ad5fb"
      },
      "source": [
        "dt2.tail()"
      ],
      "execution_count": 92,
      "outputs": [
        {
          "output_type": "execute_result",
          "data": {
            "text/html": [
              "<div>\n",
              "<style scoped>\n",
              "    .dataframe tbody tr th:only-of-type {\n",
              "        vertical-align: middle;\n",
              "    }\n",
              "\n",
              "    .dataframe tbody tr th {\n",
              "        vertical-align: top;\n",
              "    }\n",
              "\n",
              "    .dataframe thead th {\n",
              "        text-align: right;\n",
              "    }\n",
              "</style>\n",
              "<table border=\"1\" class=\"dataframe\">\n",
              "  <thead>\n",
              "    <tr style=\"text-align: right;\">\n",
              "      <th></th>\n",
              "      <th>Dep_users_Twitter_handle</th>\n",
              "      <th>Age</th>\n",
              "      <th>Gender</th>\n",
              "      <th>Age_group</th>\n",
              "      <th>Api_used</th>\n",
              "      <th>Date_of_Diagnosis</th>\n",
              "      <th>Control_group_Twitter_handle</th>\n",
              "      <th>Age.1</th>\n",
              "      <th>Age_group.1</th>\n",
              "      <th>Gender.1</th>\n",
              "      <th>API_used</th>\n",
              "      <th>gender_check</th>\n",
              "      <th>parsed</th>\n",
              "    </tr>\n",
              "  </thead>\n",
              "  <tbody>\n",
              "    <tr>\n",
              "      <th>7</th>\n",
              "      <td>R2SNEE2</td>\n",
              "      <td>4</td>\n",
              "      <td>female</td>\n",
              "      <td>&lt;=18</td>\n",
              "      <td>Azure</td>\n",
              "      <td>2019-12-17 00:00:00</td>\n",
              "      <td>gayforyoo</td>\n",
              "      <td>6</td>\n",
              "      <td>&lt;=18</td>\n",
              "      <td>female</td>\n",
              "      <td>Azure</td>\n",
              "      <td>True</td>\n",
              "      <td>0</td>\n",
              "    </tr>\n",
              "    <tr>\n",
              "      <th>8</th>\n",
              "      <td>SevenDaiiBlues</td>\n",
              "      <td>26</td>\n",
              "      <td>female</td>\n",
              "      <td>19-29</td>\n",
              "      <td>Azure</td>\n",
              "      <td>2019-05-04 00:00:00</td>\n",
              "      <td>ShaynaaYaldo</td>\n",
              "      <td>26</td>\n",
              "      <td>19-29</td>\n",
              "      <td>female</td>\n",
              "      <td>Azure</td>\n",
              "      <td>True</td>\n",
              "      <td>0</td>\n",
              "    </tr>\n",
              "    <tr>\n",
              "      <th>9</th>\n",
              "      <td>Steph_Murray15</td>\n",
              "      <td>26</td>\n",
              "      <td>female</td>\n",
              "      <td>19-29</td>\n",
              "      <td>Azure</td>\n",
              "      <td>2019-11-12 00:00:00</td>\n",
              "      <td>izzielbaksai</td>\n",
              "      <td>27</td>\n",
              "      <td>19-29</td>\n",
              "      <td>female</td>\n",
              "      <td>Azure</td>\n",
              "      <td>True</td>\n",
              "      <td>0</td>\n",
              "    </tr>\n",
              "    <tr>\n",
              "      <th>10</th>\n",
              "      <td>superfuntimeees</td>\n",
              "      <td>17</td>\n",
              "      <td>male</td>\n",
              "      <td>&lt;=18</td>\n",
              "      <td>Azure</td>\n",
              "      <td>2019-09-16 00:00:00</td>\n",
              "      <td>psychicoforange</td>\n",
              "      <td>18</td>\n",
              "      <td>&lt;=18</td>\n",
              "      <td>male</td>\n",
              "      <td>Azure</td>\n",
              "      <td>True</td>\n",
              "      <td>0</td>\n",
              "    </tr>\n",
              "    <tr>\n",
              "      <th>11</th>\n",
              "      <td>wnjinz</td>\n",
              "      <td>21</td>\n",
              "      <td>male</td>\n",
              "      <td>19-29</td>\n",
              "      <td>Azure</td>\n",
              "      <td>2019-09-26 20:16:31</td>\n",
              "      <td>haris_parc</td>\n",
              "      <td>22</td>\n",
              "      <td>19-29</td>\n",
              "      <td>male</td>\n",
              "      <td>Azure</td>\n",
              "      <td>True</td>\n",
              "      <td>0</td>\n",
              "    </tr>\n",
              "  </tbody>\n",
              "</table>\n",
              "</div>"
            ],
            "text/plain": [
              "   Dep_users_Twitter_handle Age  Gender  ... API_used gender_check parsed\n",
              "7                   R2SNEE2   4  female  ...    Azure         True      0\n",
              "8            SevenDaiiBlues  26  female  ...    Azure         True      0\n",
              "9            Steph_Murray15  26  female  ...    Azure         True      0\n",
              "10          superfuntimeees  17    male  ...    Azure         True      0\n",
              "11                   wnjinz  21    male  ...    Azure         True      0\n",
              "\n",
              "[5 rows x 13 columns]"
            ]
          },
          "metadata": {
            "tags": []
          },
          "execution_count": 92
        }
      ]
    },
    {
      "cell_type": "code",
      "metadata": {
        "id": "0UGi_kJh489Z",
        "colab_type": "code",
        "colab": {}
      },
      "source": [
        "#row_index = 1\n",
        "for index,row in dt2.iterrows():\n",
        "  user_id = row['Dep_users_Twitter_handle']\n",
        "  dod = row['Date_of_Diagnosis']\n",
        "  age = row['Age']\n",
        "  age_group = row['Age_group']\n",
        "  gender = row['Gender']\n",
        "  api = row['Api_used']\n",
        "\n",
        "  for indx, rww in data_cg.iterrows():\n",
        "    if rww['flag']==0:\n",
        "      if rww['Gender'] == gender and rww['Age'] >= age-4 or rww['Age'] <= age+4:\n",
        "        df_res.at[row_index,'Dep_User_handle'] = user_id\n",
        "        df_res.at[row_index,'Age'] = age\n",
        "        df_res.at[row_index,'Age_group'] = age_group\n",
        "        df_res.at[row_index,'Gender'] = gender\n",
        "        df_res.at[row_index,'API'] = api\n",
        "        df_res.at[row_index,'Date_of_diagnosis'] = dod\n",
        "        df_res.at[row_index,'CG_User_handle'] = rww['Twitter_handle']\n",
        "        df_res.at[row_index,'C_Age'] = rww['Age']\n",
        "        df_res.at[row_index,'C_Age_group'] = rww['Age_group']\n",
        "        df_res.at[row_index,'C_Gender'] = rww['Gender']\n",
        "        df_res.at[row_index,'C_API'] = rww['API_used']\n",
        "\n",
        "        data_cg.at[ind, 'flag'] = 1\n",
        "        data_dep.at[index, 'parsed'] = 1\n",
        "        row_index = row_index+1\n",
        "        break\n",
        "      else:\n",
        "        continue\n",
        "    else:\n",
        "      continue"
      ],
      "execution_count": 93,
      "outputs": []
    },
    {
      "cell_type": "code",
      "metadata": {
        "id": "2SuMnqwRJunT",
        "colab_type": "code",
        "colab": {
          "base_uri": "https://localhost:8080/",
          "height": 34
        },
        "outputId": "33a76a32-8c69-47dd-8bf3-039836076fea"
      },
      "source": [
        "df_res.shape"
      ],
      "execution_count": 94,
      "outputs": [
        {
          "output_type": "execute_result",
          "data": {
            "text/plain": [
              "(230, 11)"
            ]
          },
          "metadata": {
            "tags": []
          },
          "execution_count": 94
        }
      ]
    },
    {
      "cell_type": "code",
      "metadata": {
        "id": "PztBFOOz_duC",
        "colab_type": "code",
        "colab": {
          "base_uri": "https://localhost:8080/",
          "height": 195
        },
        "outputId": "248feb49-02f7-46ed-a21a-3b022f47ee8e"
      },
      "source": [
        "df_res.tail()"
      ],
      "execution_count": 95,
      "outputs": [
        {
          "output_type": "execute_result",
          "data": {
            "text/html": [
              "<div>\n",
              "<style scoped>\n",
              "    .dataframe tbody tr th:only-of-type {\n",
              "        vertical-align: middle;\n",
              "    }\n",
              "\n",
              "    .dataframe tbody tr th {\n",
              "        vertical-align: top;\n",
              "    }\n",
              "\n",
              "    .dataframe thead th {\n",
              "        text-align: right;\n",
              "    }\n",
              "</style>\n",
              "<table border=\"1\" class=\"dataframe\">\n",
              "  <thead>\n",
              "    <tr style=\"text-align: right;\">\n",
              "      <th></th>\n",
              "      <th>Dep_User_handle</th>\n",
              "      <th>Age</th>\n",
              "      <th>Age_group</th>\n",
              "      <th>Gender</th>\n",
              "      <th>API</th>\n",
              "      <th>Date_of_diagnosis</th>\n",
              "      <th>CG_User_handle</th>\n",
              "      <th>C_Age</th>\n",
              "      <th>C_Age_group</th>\n",
              "      <th>C_Gender</th>\n",
              "      <th>C_API</th>\n",
              "    </tr>\n",
              "  </thead>\n",
              "  <tbody>\n",
              "    <tr>\n",
              "      <th>226</th>\n",
              "      <td>R2SNEE2</td>\n",
              "      <td>4</td>\n",
              "      <td>&lt;=18</td>\n",
              "      <td>female</td>\n",
              "      <td>Azure</td>\n",
              "      <td>2019-12-17 00:00:00</td>\n",
              "      <td>Rudelynnngmail1</td>\n",
              "      <td>40</td>\n",
              "      <td>&gt;=40</td>\n",
              "      <td>female</td>\n",
              "      <td>Azure</td>\n",
              "    </tr>\n",
              "    <tr>\n",
              "      <th>227</th>\n",
              "      <td>SevenDaiiBlues</td>\n",
              "      <td>26</td>\n",
              "      <td>19-29</td>\n",
              "      <td>female</td>\n",
              "      <td>Azure</td>\n",
              "      <td>2019-05-04 00:00:00</td>\n",
              "      <td>Rudelynnngmail1</td>\n",
              "      <td>40</td>\n",
              "      <td>&gt;=40</td>\n",
              "      <td>female</td>\n",
              "      <td>Azure</td>\n",
              "    </tr>\n",
              "    <tr>\n",
              "      <th>228</th>\n",
              "      <td>Steph_Murray15</td>\n",
              "      <td>26</td>\n",
              "      <td>19-29</td>\n",
              "      <td>female</td>\n",
              "      <td>Azure</td>\n",
              "      <td>2019-11-12 00:00:00</td>\n",
              "      <td>Rudelynnngmail1</td>\n",
              "      <td>40</td>\n",
              "      <td>&gt;=40</td>\n",
              "      <td>female</td>\n",
              "      <td>Azure</td>\n",
              "    </tr>\n",
              "    <tr>\n",
              "      <th>229</th>\n",
              "      <td>superfuntimeees</td>\n",
              "      <td>17</td>\n",
              "      <td>&lt;=18</td>\n",
              "      <td>male</td>\n",
              "      <td>Azure</td>\n",
              "      <td>2019-09-16 00:00:00</td>\n",
              "      <td>Mister_Maharaj</td>\n",
              "      <td>40</td>\n",
              "      <td>&gt;=40</td>\n",
              "      <td>male</td>\n",
              "      <td>Azure</td>\n",
              "    </tr>\n",
              "    <tr>\n",
              "      <th>230</th>\n",
              "      <td>wnjinz</td>\n",
              "      <td>21</td>\n",
              "      <td>19-29</td>\n",
              "      <td>male</td>\n",
              "      <td>Azure</td>\n",
              "      <td>2019-09-26 20:16:31</td>\n",
              "      <td>Mister_Maharaj</td>\n",
              "      <td>40</td>\n",
              "      <td>&gt;=40</td>\n",
              "      <td>male</td>\n",
              "      <td>Azure</td>\n",
              "    </tr>\n",
              "  </tbody>\n",
              "</table>\n",
              "</div>"
            ],
            "text/plain": [
              "     Dep_User_handle Age Age_group  Gender  ... C_Age C_Age_group C_Gender  C_API\n",
              "226          R2SNEE2   4      <=18  female  ...    40        >=40   female  Azure\n",
              "227   SevenDaiiBlues  26     19-29  female  ...    40        >=40   female  Azure\n",
              "228   Steph_Murray15  26     19-29  female  ...    40        >=40   female  Azure\n",
              "229  superfuntimeees  17      <=18    male  ...    40        >=40     male  Azure\n",
              "230           wnjinz  21     19-29    male  ...    40        >=40     male  Azure\n",
              "\n",
              "[5 rows x 11 columns]"
            ]
          },
          "metadata": {
            "tags": []
          },
          "execution_count": 95
        }
      ]
    },
    {
      "cell_type": "code",
      "metadata": {
        "id": "t0HOb_NOJ94K",
        "colab_type": "code",
        "colab": {}
      },
      "source": [
        "df_res.to_excel('match_pair.xlsx')\n",
        "from google.colab import files\n",
        "files.download('match_pair.xlsx')"
      ],
      "execution_count": 96,
      "outputs": []
    },
    {
      "cell_type": "code",
      "metadata": {
        "id": "aRGWJ_zU_hQo",
        "colab_type": "code",
        "colab": {}
      },
      "source": [
        ""
      ],
      "execution_count": null,
      "outputs": []
    }
  ]
}