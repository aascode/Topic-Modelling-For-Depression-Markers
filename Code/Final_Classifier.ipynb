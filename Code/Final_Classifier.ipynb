{
  "nbformat": 4,
  "nbformat_minor": 0,
  "metadata": {
    "colab": {
      "name": "Final_Classifier.ipynb",
      "provenance": [],
      "collapsed_sections": [],
      "authorship_tag": "ABX9TyPisk2YJui91eZGSh8YIYJl",
      "include_colab_link": true
    },
    "kernelspec": {
      "name": "python3",
      "display_name": "Python 3"
    }
  },
  "cells": [
    {
      "cell_type": "markdown",
      "metadata": {
        "id": "view-in-github",
        "colab_type": "text"
      },
      "source": [
        "<a href=\"https://colab.research.google.com/github/abhilashhn1993/depression-assessment-on-twitter/blob/Dragon/Code/Final_Classifier.ipynb\" target=\"_parent\"><img src=\"https://colab.research.google.com/assets/colab-badge.svg\" alt=\"Open In Colab\"/></a>"
      ]
    },
    {
      "cell_type": "code",
      "metadata": {
        "id": "-RHUo5Am8e4l",
        "colab_type": "code",
        "colab": {}
      },
      "source": [
        "import pandas as pd\n",
        "import numpy as np\n",
        "import matplotlib.pyplot as plt \n",
        "import re\n",
        "import string\n",
        "import datetime"
      ],
      "execution_count": 1,
      "outputs": []
    },
    {
      "cell_type": "code",
      "metadata": {
        "id": "ceWMxnS38l3_",
        "colab_type": "code",
        "colab": {}
      },
      "source": [
        "from sklearn.linear_model import LogisticRegression\n",
        "from sklearn import metrics\n",
        "from sklearn.metrics import classification_report\n",
        "from sklearn.metrics import precision_recall_fscore_support as score\n",
        "from sklearn.metrics import roc_auc_score\n",
        "from sklearn.metrics import roc_curve\n",
        "from sklearn.svm import SVC\n",
        "\n",
        "from sklearn import model_selection, naive_bayes, svm\n",
        "from sklearn.metrics import accuracy_score, recall_score, precision_score"
      ],
      "execution_count": 2,
      "outputs": []
    },
    {
      "cell_type": "code",
      "metadata": {
        "id": "wZWjsVhI81Rh",
        "colab_type": "code",
        "colab": {}
      },
      "source": [
        "from google.colab import files\n",
        "uploaded = files.upload()"
      ],
      "execution_count": null,
      "outputs": []
    },
    {
      "cell_type": "code",
      "metadata": {
        "id": "1IXXiUxB83Hw",
        "colab_type": "code",
        "colab": {}
      },
      "source": [
        "import io\n",
        "df = pd.read_excel(io.BytesIO(uploaded['Topics_Only.xlsx']))"
      ],
      "execution_count": 70,
      "outputs": []
    },
    {
      "cell_type": "code",
      "metadata": {
        "id": "Cux6PZ3A87OH",
        "colab_type": "code",
        "colab": {
          "base_uri": "https://localhost:8080/",
          "height": 198
        },
        "outputId": "ffd3649e-2942-4e76-9d14-b8c5d828d3c1"
      },
      "source": [
        "df.head()"
      ],
      "execution_count": 100,
      "outputs": [
        {
          "output_type": "execute_result",
          "data": {
            "text/html": [
              "<div>\n",
              "<style scoped>\n",
              "    .dataframe tbody tr th:only-of-type {\n",
              "        vertical-align: middle;\n",
              "    }\n",
              "\n",
              "    .dataframe tbody tr th {\n",
              "        vertical-align: top;\n",
              "    }\n",
              "\n",
              "    .dataframe thead th {\n",
              "        text-align: right;\n",
              "    }\n",
              "</style>\n",
              "<table border=\"1\" class=\"dataframe\">\n",
              "  <thead>\n",
              "    <tr style=\"text-align: right;\">\n",
              "      <th></th>\n",
              "      <th>LifeStyle</th>\n",
              "      <th>Mental Symptoms</th>\n",
              "      <th>Causes</th>\n",
              "      <th>SwearWords</th>\n",
              "      <th>Physical Symptoms</th>\n",
              "      <th>Treatment</th>\n",
              "      <th>Coping</th>\n",
              "      <th>Target</th>\n",
              "    </tr>\n",
              "  </thead>\n",
              "  <tbody>\n",
              "    <tr>\n",
              "      <th>0</th>\n",
              "      <td>-0.183931</td>\n",
              "      <td>-0.129494</td>\n",
              "      <td>-0.025080</td>\n",
              "      <td>-0.184917</td>\n",
              "      <td>-0.097570</td>\n",
              "      <td>-0.177434</td>\n",
              "      <td>-0.205812</td>\n",
              "      <td>1</td>\n",
              "    </tr>\n",
              "    <tr>\n",
              "      <th>1</th>\n",
              "      <td>-0.073237</td>\n",
              "      <td>0.221005</td>\n",
              "      <td>0.255152</td>\n",
              "      <td>0.775777</td>\n",
              "      <td>0.440054</td>\n",
              "      <td>0.382733</td>\n",
              "      <td>-0.081069</td>\n",
              "      <td>1</td>\n",
              "    </tr>\n",
              "    <tr>\n",
              "      <th>2</th>\n",
              "      <td>-0.114019</td>\n",
              "      <td>-0.299090</td>\n",
              "      <td>-0.256383</td>\n",
              "      <td>-0.177107</td>\n",
              "      <td>-0.205495</td>\n",
              "      <td>-0.262566</td>\n",
              "      <td>-0.056121</td>\n",
              "      <td>1</td>\n",
              "    </tr>\n",
              "    <tr>\n",
              "      <th>3</th>\n",
              "      <td>-0.143149</td>\n",
              "      <td>-0.378235</td>\n",
              "      <td>-0.318656</td>\n",
              "      <td>-0.333317</td>\n",
              "      <td>-0.341400</td>\n",
              "      <td>-0.437937</td>\n",
              "      <td>-0.280657</td>\n",
              "      <td>1</td>\n",
              "    </tr>\n",
              "    <tr>\n",
              "      <th>4</th>\n",
              "      <td>-0.102367</td>\n",
              "      <td>-0.050349</td>\n",
              "      <td>-0.022856</td>\n",
              "      <td>0.400872</td>\n",
              "      <td>0.056322</td>\n",
              "      <td>-0.124652</td>\n",
              "      <td>-0.081069</td>\n",
              "      <td>1</td>\n",
              "    </tr>\n",
              "  </tbody>\n",
              "</table>\n",
              "</div>"
            ],
            "text/plain": [
              "   LifeStyle  Mental Symptoms    Causes  ...  Treatment    Coping  Target\n",
              "0  -0.183931        -0.129494 -0.025080  ...  -0.177434 -0.205812       1\n",
              "1  -0.073237         0.221005  0.255152  ...   0.382733 -0.081069       1\n",
              "2  -0.114019        -0.299090 -0.256383  ...  -0.262566 -0.056121       1\n",
              "3  -0.143149        -0.378235 -0.318656  ...  -0.437937 -0.280657       1\n",
              "4  -0.102367        -0.050349 -0.022856  ...  -0.124652 -0.081069       1\n",
              "\n",
              "[5 rows x 8 columns]"
            ]
          },
          "metadata": {
            "tags": []
          },
          "execution_count": 100
        }
      ]
    },
    {
      "cell_type": "code",
      "metadata": {
        "id": "EQdhU9k0qTPe",
        "colab_type": "code",
        "colab": {}
      },
      "source": [
        "df.shape"
      ],
      "execution_count": null,
      "outputs": []
    },
    {
      "cell_type": "code",
      "metadata": {
        "id": "TuImrm9V88Qd",
        "colab_type": "code",
        "colab": {}
      },
      "source": [
        "#Data pre-processing\n",
        "#Leave out Twitter_handle column from the classifier \n",
        "df = df.drop(['Twitter_handle'], axis=1)"
      ],
      "execution_count": 73,
      "outputs": []
    },
    {
      "cell_type": "markdown",
      "metadata": {
        "id": "BKS0K_TIWT7c",
        "colab_type": "text"
      },
      "source": [
        "**###############OPTIONAL(SKIP IF NOT NEEDED)########################**"
      ]
    },
    {
      "cell_type": "markdown",
      "metadata": {
        "id": "18hC9nsJfYDQ",
        "colab_type": "text"
      },
      "source": [
        "**Performing One hot encoding to convert categorical features for modeling**"
      ]
    },
    {
      "cell_type": "code",
      "metadata": {
        "id": "ORqwcykd9LkV",
        "colab_type": "code",
        "colab": {}
      },
      "source": [
        "new_cols = ['Age_group','Gender']"
      ],
      "execution_count": 9,
      "outputs": []
    },
    {
      "cell_type": "code",
      "metadata": {
        "id": "P-EfQpHcvapl",
        "colab_type": "code",
        "colab": {}
      },
      "source": [
        "df_proc = pd.get_dummies(df, prefix_sep=\"_\", columns=new_cols)\n",
        "df_proc.head()"
      ],
      "execution_count": null,
      "outputs": []
    },
    {
      "cell_type": "code",
      "metadata": {
        "id": "huWYYH3uvauw",
        "colab_type": "code",
        "colab": {}
      },
      "source": [
        "features_for_modeling = list(range(0, df_proc.shape[1]-1))"
      ],
      "execution_count": 11,
      "outputs": []
    },
    {
      "cell_type": "code",
      "metadata": {
        "id": "2v9fHxxQvazr",
        "colab_type": "code",
        "colab": {
          "base_uri": "https://localhost:8080/",
          "height": 215
        },
        "outputId": "01eda57c-afb8-4aa6-8a93-16fa135297d1"
      },
      "source": [
        "#Seperate Train and target from the dataframe\n",
        "df_proc_train = df_proc.iloc[:,features_for_modeling]\n",
        "df_proc_train = df_proc.drop(['Target'], axis=1)\n",
        "df_proc_train.head()"
      ],
      "execution_count": 12,
      "outputs": [
        {
          "output_type": "execute_result",
          "data": {
            "text/html": [
              "<div>\n",
              "<style scoped>\n",
              "    .dataframe tbody tr th:only-of-type {\n",
              "        vertical-align: middle;\n",
              "    }\n",
              "\n",
              "    .dataframe tbody tr th {\n",
              "        vertical-align: top;\n",
              "    }\n",
              "\n",
              "    .dataframe thead th {\n",
              "        text-align: right;\n",
              "    }\n",
              "</style>\n",
              "<table border=\"1\" class=\"dataframe\">\n",
              "  <thead>\n",
              "    <tr style=\"text-align: right;\">\n",
              "      <th></th>\n",
              "      <th>LifeStyle</th>\n",
              "      <th>Mental Symptoms</th>\n",
              "      <th>Causes</th>\n",
              "      <th>SwearWords</th>\n",
              "      <th>Physical Symptoms</th>\n",
              "      <th>Treatment</th>\n",
              "      <th>Coping</th>\n",
              "      <th>Age_group_19-29</th>\n",
              "      <th>Age_group_30-39</th>\n",
              "      <th>Age_group_&lt;=18</th>\n",
              "      <th>Age_group_&gt;=40</th>\n",
              "      <th>Gender_female</th>\n",
              "      <th>Gender_male</th>\n",
              "    </tr>\n",
              "  </thead>\n",
              "  <tbody>\n",
              "    <tr>\n",
              "      <th>0</th>\n",
              "      <td>-0.183931</td>\n",
              "      <td>-0.129494</td>\n",
              "      <td>-0.025080</td>\n",
              "      <td>-0.184917</td>\n",
              "      <td>-0.097570</td>\n",
              "      <td>-0.177434</td>\n",
              "      <td>-0.205812</td>\n",
              "      <td>1</td>\n",
              "      <td>0</td>\n",
              "      <td>0</td>\n",
              "      <td>0</td>\n",
              "      <td>0</td>\n",
              "      <td>1</td>\n",
              "    </tr>\n",
              "    <tr>\n",
              "      <th>1</th>\n",
              "      <td>-0.073237</td>\n",
              "      <td>0.221005</td>\n",
              "      <td>0.255152</td>\n",
              "      <td>0.775777</td>\n",
              "      <td>0.440054</td>\n",
              "      <td>0.382733</td>\n",
              "      <td>-0.081069</td>\n",
              "      <td>0</td>\n",
              "      <td>0</td>\n",
              "      <td>1</td>\n",
              "      <td>0</td>\n",
              "      <td>0</td>\n",
              "      <td>1</td>\n",
              "    </tr>\n",
              "    <tr>\n",
              "      <th>2</th>\n",
              "      <td>-0.114019</td>\n",
              "      <td>-0.299090</td>\n",
              "      <td>-0.256383</td>\n",
              "      <td>-0.177107</td>\n",
              "      <td>-0.205495</td>\n",
              "      <td>-0.262566</td>\n",
              "      <td>-0.056121</td>\n",
              "      <td>1</td>\n",
              "      <td>0</td>\n",
              "      <td>0</td>\n",
              "      <td>0</td>\n",
              "      <td>0</td>\n",
              "      <td>1</td>\n",
              "    </tr>\n",
              "    <tr>\n",
              "      <th>3</th>\n",
              "      <td>-0.143149</td>\n",
              "      <td>-0.378235</td>\n",
              "      <td>-0.318656</td>\n",
              "      <td>-0.333317</td>\n",
              "      <td>-0.341400</td>\n",
              "      <td>-0.437937</td>\n",
              "      <td>-0.280657</td>\n",
              "      <td>1</td>\n",
              "      <td>0</td>\n",
              "      <td>0</td>\n",
              "      <td>0</td>\n",
              "      <td>0</td>\n",
              "      <td>1</td>\n",
              "    </tr>\n",
              "    <tr>\n",
              "      <th>4</th>\n",
              "      <td>-0.102367</td>\n",
              "      <td>-0.050349</td>\n",
              "      <td>-0.022856</td>\n",
              "      <td>0.400872</td>\n",
              "      <td>0.056322</td>\n",
              "      <td>-0.124652</td>\n",
              "      <td>-0.081069</td>\n",
              "      <td>1</td>\n",
              "      <td>0</td>\n",
              "      <td>0</td>\n",
              "      <td>0</td>\n",
              "      <td>1</td>\n",
              "      <td>0</td>\n",
              "    </tr>\n",
              "  </tbody>\n",
              "</table>\n",
              "</div>"
            ],
            "text/plain": [
              "   LifeStyle  Mental Symptoms  ...  Gender_female  Gender_male\n",
              "0  -0.183931        -0.129494  ...              0            1\n",
              "1  -0.073237         0.221005  ...              0            1\n",
              "2  -0.114019        -0.299090  ...              0            1\n",
              "3  -0.143149        -0.378235  ...              0            1\n",
              "4  -0.102367        -0.050349  ...              1            0\n",
              "\n",
              "[5 rows x 13 columns]"
            ]
          },
          "metadata": {
            "tags": []
          },
          "execution_count": 12
        }
      ]
    },
    {
      "cell_type": "code",
      "metadata": {
        "id": "_tv76yaxva8c",
        "colab_type": "code",
        "colab": {}
      },
      "source": [
        "df_proc_target = df_proc.loc[:,['Target']]\n",
        "df_proc_target.head()"
      ],
      "execution_count": null,
      "outputs": []
    },
    {
      "cell_type": "code",
      "metadata": {
        "id": "4lgdJeYrva56",
        "colab_type": "code",
        "colab": {}
      },
      "source": [
        "df_proc_train.shape"
      ],
      "execution_count": null,
      "outputs": []
    },
    {
      "cell_type": "code",
      "metadata": {
        "id": "B8iDMy6ava2X",
        "colab_type": "code",
        "colab": {}
      },
      "source": [
        "Train_X, Test_X, Train_Y, Test_Y = model_selection.train_test_split(df_proc_train,df_proc_target,test_size=0.3)\n",
        "sum(Test_Y['Target'] == 1)"
      ],
      "execution_count": null,
      "outputs": []
    },
    {
      "cell_type": "code",
      "metadata": {
        "id": "BFjAg-urvaxz",
        "colab_type": "code",
        "colab": {}
      },
      "source": [
        "Train_Y.Target.value_counts()"
      ],
      "execution_count": null,
      "outputs": []
    },
    {
      "cell_type": "markdown",
      "metadata": {
        "id": "VQq2Ux25kdOk",
        "colab_type": "text"
      },
      "source": [
        "**SKIP to classifier after this line of code**"
      ]
    },
    {
      "cell_type": "markdown",
      "metadata": {
        "id": "2MWD504AWpRZ",
        "colab_type": "text"
      },
      "source": [
        "**###############OPTIONAL CODE ENDS########################**"
      ]
    },
    {
      "cell_type": "code",
      "metadata": {
        "id": "EU8gy2mH1JzC",
        "colab_type": "code",
        "colab": {}
      },
      "source": [
        "features_for_modeling = list(range(0, df.shape[1]-1))"
      ],
      "execution_count": 74,
      "outputs": []
    },
    {
      "cell_type": "code",
      "metadata": {
        "id": "tsO-lcxG1ICP",
        "colab_type": "code",
        "colab": {
          "base_uri": "https://localhost:8080/",
          "height": 198
        },
        "outputId": "4e0004ee-1a64-4f5a-8f50-eeebbfa252d8"
      },
      "source": [
        "#Seperate Train and target from the dataframe\n",
        "df_train = df.iloc[:,features_for_modeling]\n",
        "df_train = df.drop(['Target'], axis=1)\n",
        "df_train.head()"
      ],
      "execution_count": 75,
      "outputs": [
        {
          "output_type": "execute_result",
          "data": {
            "text/html": [
              "<div>\n",
              "<style scoped>\n",
              "    .dataframe tbody tr th:only-of-type {\n",
              "        vertical-align: middle;\n",
              "    }\n",
              "\n",
              "    .dataframe tbody tr th {\n",
              "        vertical-align: top;\n",
              "    }\n",
              "\n",
              "    .dataframe thead th {\n",
              "        text-align: right;\n",
              "    }\n",
              "</style>\n",
              "<table border=\"1\" class=\"dataframe\">\n",
              "  <thead>\n",
              "    <tr style=\"text-align: right;\">\n",
              "      <th></th>\n",
              "      <th>LifeStyle</th>\n",
              "      <th>Mental Symptoms</th>\n",
              "      <th>Causes</th>\n",
              "      <th>SwearWords</th>\n",
              "      <th>Physical Symptoms</th>\n",
              "      <th>Treatment</th>\n",
              "      <th>Coping</th>\n",
              "    </tr>\n",
              "  </thead>\n",
              "  <tbody>\n",
              "    <tr>\n",
              "      <th>0</th>\n",
              "      <td>-0.183931</td>\n",
              "      <td>-0.129494</td>\n",
              "      <td>-0.025080</td>\n",
              "      <td>-0.184917</td>\n",
              "      <td>-0.097570</td>\n",
              "      <td>-0.177434</td>\n",
              "      <td>-0.205812</td>\n",
              "    </tr>\n",
              "    <tr>\n",
              "      <th>1</th>\n",
              "      <td>-0.073237</td>\n",
              "      <td>0.221005</td>\n",
              "      <td>0.255152</td>\n",
              "      <td>0.775777</td>\n",
              "      <td>0.440054</td>\n",
              "      <td>0.382733</td>\n",
              "      <td>-0.081069</td>\n",
              "    </tr>\n",
              "    <tr>\n",
              "      <th>2</th>\n",
              "      <td>-0.114019</td>\n",
              "      <td>-0.299090</td>\n",
              "      <td>-0.256383</td>\n",
              "      <td>-0.177107</td>\n",
              "      <td>-0.205495</td>\n",
              "      <td>-0.262566</td>\n",
              "      <td>-0.056121</td>\n",
              "    </tr>\n",
              "    <tr>\n",
              "      <th>3</th>\n",
              "      <td>-0.143149</td>\n",
              "      <td>-0.378235</td>\n",
              "      <td>-0.318656</td>\n",
              "      <td>-0.333317</td>\n",
              "      <td>-0.341400</td>\n",
              "      <td>-0.437937</td>\n",
              "      <td>-0.280657</td>\n",
              "    </tr>\n",
              "    <tr>\n",
              "      <th>4</th>\n",
              "      <td>-0.102367</td>\n",
              "      <td>-0.050349</td>\n",
              "      <td>-0.022856</td>\n",
              "      <td>0.400872</td>\n",
              "      <td>0.056322</td>\n",
              "      <td>-0.124652</td>\n",
              "      <td>-0.081069</td>\n",
              "    </tr>\n",
              "  </tbody>\n",
              "</table>\n",
              "</div>"
            ],
            "text/plain": [
              "   LifeStyle  Mental Symptoms    Causes  ...  Physical Symptoms  Treatment    Coping\n",
              "0  -0.183931        -0.129494 -0.025080  ...          -0.097570  -0.177434 -0.205812\n",
              "1  -0.073237         0.221005  0.255152  ...           0.440054   0.382733 -0.081069\n",
              "2  -0.114019        -0.299090 -0.256383  ...          -0.205495  -0.262566 -0.056121\n",
              "3  -0.143149        -0.378235 -0.318656  ...          -0.341400  -0.437937 -0.280657\n",
              "4  -0.102367        -0.050349 -0.022856  ...           0.056322  -0.124652 -0.081069\n",
              "\n",
              "[5 rows x 7 columns]"
            ]
          },
          "metadata": {
            "tags": []
          },
          "execution_count": 75
        }
      ]
    },
    {
      "cell_type": "code",
      "metadata": {
        "id": "u56bXMoV1MHf",
        "colab_type": "code",
        "colab": {}
      },
      "source": [
        "df_target = df.loc[:,['Target']]\n",
        "df_target.head()"
      ],
      "execution_count": null,
      "outputs": []
    },
    {
      "cell_type": "code",
      "metadata": {
        "id": "uhHsrTpz1O21",
        "colab_type": "code",
        "colab": {}
      },
      "source": [
        "df_train.shape"
      ],
      "execution_count": null,
      "outputs": []
    },
    {
      "cell_type": "code",
      "metadata": {
        "id": "VJG2jJ0A1Qi-",
        "colab_type": "code",
        "colab": {}
      },
      "source": [
        "Train_X, Test_X, Train_Y, Test_Y = model_selection.train_test_split(df_train,df_target,test_size=0.3)\n",
        "sum(Test_Y['Target'] == 1)"
      ],
      "execution_count": null,
      "outputs": []
    },
    {
      "cell_type": "code",
      "metadata": {
        "id": "tlwoa_Ev1Sk5",
        "colab_type": "code",
        "colab": {}
      },
      "source": [
        "Train_Y.Target.value_counts()"
      ],
      "execution_count": null,
      "outputs": []
    },
    {
      "cell_type": "markdown",
      "metadata": {
        "id": "BJSoOPvzXaL1",
        "colab_type": "text"
      },
      "source": [
        "**CLASSIFIERS**"
      ]
    },
    {
      "cell_type": "markdown",
      "metadata": {
        "id": "1b_iz1ZofgRc",
        "colab_type": "text"
      },
      "source": [
        "**Naive Bayes Classifier**"
      ]
    },
    {
      "cell_type": "code",
      "metadata": {
        "id": "k7pYorfkfiS8",
        "colab_type": "code",
        "colab": {}
      },
      "source": [
        "from sklearn.naive_bayes import GaussianNB\n",
        "model =  GaussianNB()"
      ],
      "execution_count": 81,
      "outputs": []
    },
    {
      "cell_type": "code",
      "metadata": {
        "id": "sWyscyTinOxg",
        "colab_type": "code",
        "colab": {}
      },
      "source": [
        "nb = model.fit(Train_X, Train_Y)\n",
        "y_pred_nb = nb.predict(Test_X)"
      ],
      "execution_count": null,
      "outputs": []
    },
    {
      "cell_type": "code",
      "metadata": {
        "id": "L8u8vG4PnO0H",
        "colab_type": "code",
        "colab": {
          "base_uri": "https://localhost:8080/",
          "height": 35
        },
        "outputId": "e16f54e5-05a3-4868-fd72-a7f0878c73ef"
      },
      "source": [
        "print(\"Accuracy:\",metrics.accuracy_score(Test_Y, y_pred_nb))"
      ],
      "execution_count": 49,
      "outputs": [
        {
          "output_type": "stream",
          "text": [
            "Accuracy: 0.8840579710144928\n"
          ],
          "name": "stdout"
        }
      ]
    },
    {
      "cell_type": "code",
      "metadata": {
        "id": "L_0hvE14nO5M",
        "colab_type": "code",
        "colab": {
          "base_uri": "https://localhost:8080/",
          "height": 35
        },
        "outputId": "91cb3002-5df6-44d6-c470-177f70064f5b"
      },
      "source": [
        "precision, recall, fscore, support = score(Test_Y, y_pred_nb)\n",
        "print(\"Recall: \", recall.mean(), \"Precision: \", precision.mean(), \"F-score: \", fscore.mean())"
      ],
      "execution_count": 83,
      "outputs": [
        {
          "output_type": "stream",
          "text": [
            "Recall:  0.892016806722689 Precision:  0.8949206349206349 F-score:  0.8911614701088386\n"
          ],
          "name": "stdout"
        }
      ]
    },
    {
      "cell_type": "code",
      "metadata": {
        "id": "2TrotOXFnO29",
        "colab_type": "code",
        "colab": {}
      },
      "source": [
        "nb_roc_auc = roc_auc_score(Test_Y, model.fit(Train_X, Train_Y).predict(Test_X))\n",
        "fpr, tpr, thresholds = roc_curve(Test_Y, model.fit(Train_X, Train_Y).predict_proba(Test_X)[:,1])\n",
        "plt.figure()\n",
        "plt.plot(fpr, tpr, label='Logistic Regression (area = %0.2f)' % nb_roc_auc)\n",
        "plt.plot([0, 1], [0, 1],'r--')\n",
        "plt.xlim([0.0, 1.0])\n",
        "plt.ylim([0.0, 1.05])\n",
        "plt.xlabel('False Positive Rate')\n",
        "plt.ylabel('True Positive Rate')\n",
        "plt.title('Receiver operating characteristic')\n",
        "plt.legend(loc=\"lower right\")\n",
        "plt.savefig('NB_ROC_9')\n",
        "plt.show()"
      ],
      "execution_count": null,
      "outputs": []
    },
    {
      "cell_type": "markdown",
      "metadata": {
        "id": "6PW2iyl5oDJw",
        "colab_type": "text"
      },
      "source": [
        "**Logistic Regression**"
      ]
    },
    {
      "cell_type": "code",
      "metadata": {
        "id": "tU33Pi3BoYMV",
        "colab_type": "code",
        "colab": {}
      },
      "source": [
        "logreg = LogisticRegression()\n",
        "logreg.fit(Train_X, Train_Y)"
      ],
      "execution_count": null,
      "outputs": []
    },
    {
      "cell_type": "code",
      "metadata": {
        "id": "tQfNAwmcoZ7L",
        "colab_type": "code",
        "colab": {}
      },
      "source": [
        "y_pred = logreg.predict(Test_X)\n",
        "print('Accuracy of logistic regression classifier on test set: {:.4f}'.format(logreg.score(Test_X, Test_Y)))"
      ],
      "execution_count": null,
      "outputs": []
    },
    {
      "cell_type": "code",
      "metadata": {
        "id": "vIluZy6Woe8A",
        "colab_type": "code",
        "colab": {}
      },
      "source": [
        "precision, recall, fscore, support = score(Test_Y, y_pred)\n",
        "print(\"Recall: \", recall.mean(), \"Precision: \", precision.mean(), \"F-score: \", fscore.mean())"
      ],
      "execution_count": null,
      "outputs": []
    },
    {
      "cell_type": "code",
      "metadata": {
        "id": "0aR0UhpZohX6",
        "colab_type": "code",
        "colab": {
          "base_uri": "https://localhost:8080/",
          "height": 295
        },
        "outputId": "6ee4cf85-2203-4757-d7ca-122ed14c2b59"
      },
      "source": [
        "logit_roc_auc = roc_auc_score(Test_Y, logreg.predict(Test_X))\n",
        "fpr, tpr, thresholds = roc_curve(Test_Y, logreg.predict_proba(Test_X)[:,1])\n",
        "plt.figure()\n",
        "plt.plot(fpr, tpr, label='Logistic Regression (area = %0.2f)' % logit_roc_auc)\n",
        "plt.plot([0, 1], [0, 1],'r--')\n",
        "plt.xlim([0.0, 1.0])\n",
        "plt.ylim([0.0, 1.05])\n",
        "plt.xlabel('False Positive Rate')\n",
        "plt.ylabel('True Positive Rate')\n",
        "plt.title('Receiver operating characteristic')\n",
        "plt.legend(loc=\"lower right\")\n",
        "plt.savefig('Log_ROC_9')\n",
        "plt.show()"
      ],
      "execution_count": 88,
      "outputs": [
        {
          "output_type": "display_data",
          "data": {
            "image/png": "[encoded data removed]",
            "text/plain": [
              "<Figure size 432x288 with 1 Axes>"
            ]
          },
          "metadata": {
            "tags": [],
            "needs_background": "light"
          }
        }
      ]
    },
    {
      "cell_type": "markdown",
      "metadata": {
        "id": "rWuhtDlgV7mg",
        "colab_type": "text"
      },
      "source": [
        "**Combination of Models**"
      ]
    },
    {
      "cell_type": "code",
      "metadata": {
        "id": "EwwK2IebV67E",
        "colab_type": "code",
        "colab": {
          "base_uri": "https://localhost:8080/",
          "height": 387
        },
        "outputId": "63a27e01-b09f-43f1-dd43-fdf04f0a992e"
      },
      "source": [
        "plt.figure()\n",
        "models = [\n",
        "          {\n",
        "              'label': 'Log Reg',\n",
        "              'model': LogisticRegression(),\n",
        "          },\n",
        "          {\n",
        "              'label': 'N Bayes',\n",
        "              'model': GaussianNB(),\n",
        "          }\n",
        "]\n",
        "\n",
        "for m in models:\n",
        "  model = m['model']\n",
        "  model.fit(Train_X, Train_Y)\n",
        "  y_pred = model.predict(Test_X)\n",
        "\n",
        "  fpr, tpr, thresholds = metrics.roc_curve(Test_Y, model.predict_proba(Test_X)[:,1])\n",
        "\n",
        "  auc = metrics.roc_auc_score(Test_Y, model.predict(Test_X))\n",
        "\n",
        "  plt.plot(fpr, tpr, label='%s ROC (area = %0.2f)' % (m['label'], auc))\n",
        "\n",
        "# Custom settings for the plot\n",
        "#plt.figure() \n",
        "plt.plot([0, 1], [0, 1],'r--')\n",
        "plt.xlim([0.0, 1.0])\n",
        "plt.ylim([0.0, 1.05])\n",
        "plt.xlabel('1-Specificity(False Positive Rate)')\n",
        "plt.ylabel('Sensitivity(True Positive Rate)')\n",
        "plt.title('Receiver Operating Characteristic')\n",
        "plt.legend(loc=\"lower right\")\n",
        "plt.savefig('Model_9ROC')\n",
        "plt.show()   # Display"
      ],
      "execution_count": 89,
      "outputs": [
        {
          "output_type": "stream",
          "text": [
            "/usr/local/lib/python3.6/dist-packages/sklearn/utils/validation.py:760: DataConversionWarning: A column-vector y was passed when a 1d array was expected. Please change the shape of y to (n_samples, ), for example using ravel().\n",
            "  y = column_or_1d(y, warn=True)\n",
            "/usr/local/lib/python3.6/dist-packages/sklearn/naive_bayes.py:206: DataConversionWarning: A column-vector y was passed when a 1d array was expected. Please change the shape of y to (n_samples, ), for example using ravel().\n",
            "  y = column_or_1d(y, warn=True)\n"
          ],
          "name": "stderr"
        },
        {
          "output_type": "display_data",
          "data": {
            "image/png": "[encoded data removed]",
            "text/plain": [
              "<Figure size 432x288 with 1 Axes>"
            ]
          },
          "metadata": {
            "tags": [],
            "needs_background": "light"
          }
        }
      ]
    },
    {
      "cell_type": "markdown",
      "metadata": {
        "id": "9Yxy_GRrkf8p",
        "colab_type": "text"
      },
      "source": [
        "**SVM Classifier**"
      ]
    },
    {
      "cell_type": "code",
      "metadata": {
        "id": "LUpa99N6lhot",
        "colab_type": "code",
        "colab": {}
      },
      "source": [
        "svclassifier = SVC(C= 1, kernel='linear', degree=3, gamma=\"auto\")\n",
        "svclassifier.fit(Train_X, Train_Y)"
      ],
      "execution_count": null,
      "outputs": []
    },
    {
      "cell_type": "code",
      "metadata": {
        "id": "QToW1bie11cU",
        "colab_type": "code",
        "colab": {}
      },
      "source": [
        "# Make prediction\n",
        "y_pred = svclassifier.predict(Test_X)\n",
        "# Evaluate our model\n",
        "print(\"Accuracy :\",accuracy_score(Test_Y['Target'],y_pred),\"Recall :\",recall_score(Test_Y['Target'],y_pred))"
      ],
      "execution_count": null,
      "outputs": []
    },
    {
      "cell_type": "code",
      "metadata": {
        "id": "FJBtEzBJmUtG",
        "colab_type": "code",
        "colab": {}
      },
      "source": [
        "precision_score(Test_Y['Target'], y_pred)"
      ],
      "execution_count": null,
      "outputs": []
    },
    {
      "cell_type": "code",
      "metadata": {
        "id": "UdaR2m8Dnatu",
        "colab_type": "code",
        "colab": {}
      },
      "source": [
        "(precision_score(Test_Y['Target'], y_pred) * recall_score(Test_Y['Target'],y_pred) * 2 ) / ((recall_score(Test_Y['Target'],y_pred)) + (precision_score(Test_Y['Target'], y_pred)))"
      ],
      "execution_count": null,
      "outputs": []
    }
  ]
}